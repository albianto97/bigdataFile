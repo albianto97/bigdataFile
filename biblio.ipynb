{
 "cells": [
  {
   "cell_type": "code",
   "execution_count": null,
   "id": "3dd9066f-ba4d-4509-bb38-7b68db61974e",
   "metadata": {
    "execution": {
     "iopub.status.busy": "2023-05-02T14:56:30.622554Z",
     "iopub.status.idle": "2023-05-02T14:56:30.622827Z",
     "shell.execute_reply": "2023-05-02T14:56:30.622709Z"
    },
    "tags": []
   },
   "outputs": [],
   "source": [
    "%%configure -f\n",
    "{\"executorMemory\":\"5G\", \"numExecutors\":2, \"executorCores\":3, \"conf\":\n",
    "{\"spark.dynamicAllocation.enabled\": \"false\"}}\n"
   ]
  },
  {
   "cell_type": "code",
   "execution_count": 1,
   "id": "e065b9b8-df3a-4be8-9511-ac3dff1b2c5c",
   "metadata": {
    "execution": {
     "iopub.execute_input": "2023-05-02T14:56:48.458056Z",
     "iopub.status.busy": "2023-05-02T14:56:48.457735Z",
     "iopub.status.idle": "2023-05-02T14:57:21.879765Z",
     "shell.execute_reply": "2023-05-02T14:57:21.878870Z",
     "shell.execute_reply.started": "2023-05-02T14:56:48.458030Z"
    },
    "tags": []
   },
   "outputs": [
    {
     "data": {
      "application/vnd.jupyter.widget-view+json": {
       "model_id": "585dc573b6e049a896b40d1cb64a8cf2",
       "version_major": 2,
       "version_minor": 0
      },
      "text/plain": [
       "VBox()"
      ]
     },
     "metadata": {},
     "output_type": "display_data"
    },
    {
     "name": "stdout",
     "output_type": "stream",
     "text": [
      "Starting Spark application\n"
     ]
    },
    {
     "data": {
      "text/html": [
       "<table>\n",
       "<tr><th>ID</th><th>YARN Application ID</th><th>Kind</th><th>State</th><th>Spark UI</th><th>Driver log</th><th>User</th><th>Current session?</th></tr><tr><td>4</td><td>application_1683036221120_0005</td><td>spark</td><td>idle</td><td><a target=\"_blank\" href=\"http://ip-172-31-16-214.ec2.internal:20888/proxy/application_1683036221120_0005/\" class=\"emr-proxy-link\" emr-resource=\"j-1VH4UCJ3HEXS\n",
       "\" application-id=\"application_1683036221120_0005\">Link</a></td><td><a target=\"_blank\" href=\"http://ip-172-31-22-160.ec2.internal:8042/node/containerlogs/container_1683036221120_0005_01_000001/livy\" >Link</a></td><td>None</td><td>✔</td></tr></table>"
      ],
      "text/plain": [
       "<IPython.core.display.HTML object>"
      ]
     },
     "metadata": {},
     "output_type": "display_data"
    },
    {
     "data": {
      "application/vnd.jupyter.widget-view+json": {
       "model_id": "",
       "version_major": 2,
       "version_minor": 0
      },
      "text/plain": [
       "FloatProgress(value=0.0, bar_style='info', description='Progress:', layout=Layout(height='25px', width='50%'),…"
      ]
     },
     "metadata": {},
     "output_type": "display_data"
    },
    {
     "name": "stdout",
     "output_type": "stream",
     "text": [
      "SparkSession available as 'spark'.\n"
     ]
    },
    {
     "data": {
      "application/vnd.jupyter.widget-view+json": {
       "model_id": "",
       "version_major": 2,
       "version_minor": 0
      },
      "text/plain": [
       "FloatProgress(value=0.0, bar_style='info', description='Progress:', layout=Layout(height='25px', width='50%'),…"
      ]
     },
     "metadata": {},
     "output_type": "display_data"
    },
    {
     "name": "stdout",
     "output_type": "stream",
     "text": [
      "bucketname: String = unibo-bd-antonelli2023\n",
      "path_ml_tripdata: String = s3a://unibo-bd-antonelli2023/datasets/fhvhv_tripdata_2021-01.parquet\n",
      "path_ml_tripdata802: String = s3a://unibo-bd-antonelli2023/datasets/fhvhv_tripdata_2021-02.parquet\n",
      "res3: String = application_1683036221120_0005\n",
      "res5: String = SPARK UI: Enable forwarding of port 20888 and connect to http://localhost:20888/proxy/application_1683036221120_0005/\n"
     ]
    }
   ],
   "source": [
    "val bucketname = \"unibo-bd-antonelli2023\"\n",
    "val path_ml_tripdata =\n",
    "\"s3a://\"+bucketname+\"/datasets/fhvhv_tripdata_2021-01.parquet\"\n",
    "//\"s3a://\"+bucketname+\"/datasets/project/2017/\"\n",
    "val path_ml_tripdata802 =\n",
    "\"s3a://\"+bucketname+\"/datasets/fhvhv_tripdata_2021-02.parquet\"\n",
    "\n",
    "sc.applicationId\n",
    "\n",
    "\"SPARK UI: Enable forwarding of port 20888 and connect to http://localhost:20888/proxy/\" + sc.applicationId + \"/\""
   ]
  },
  {
   "cell_type": "code",
   "execution_count": 8,
   "id": "f197b83d-b515-41c7-baf6-6799c2d06c4d",
   "metadata": {
    "execution": {
     "iopub.execute_input": "2023-05-02T15:09:24.941646Z",
     "iopub.status.busy": "2023-05-02T15:09:24.941321Z",
     "iopub.status.idle": "2023-05-02T15:09:36.258166Z",
     "shell.execute_reply": "2023-05-02T15:09:36.257233Z",
     "shell.execute_reply.started": "2023-05-02T15:09:24.941618Z"
    },
    "tags": []
   },
   "outputs": [
    {
     "data": {
      "application/vnd.jupyter.widget-view+json": {
       "model_id": "2bf69c7c6f134ee6bc0dbb7671f9f3fa",
       "version_major": 2,
       "version_minor": 0
      },
      "text/plain": [
       "VBox()"
      ]
     },
     "metadata": {},
     "output_type": "display_data"
    },
    {
     "data": {
      "application/vnd.jupyter.widget-view+json": {
       "model_id": "",
       "version_major": 2,
       "version_minor": 0
      },
      "text/plain": [
       "FloatProgress(value=0.0, bar_style='info', description='Progress:', layout=Layout(height='25px', width='50%'),…"
      ]
     },
     "metadata": {},
     "output_type": "display_data"
    },
    {
     "name": "stdout",
     "output_type": "stream",
     "text": [
      "import spark.implicits._\n",
      "parquetFileDF: org.apache.spark.sql.DataFrame = [hvfhs_license_num: string, dispatching_base_num: string ... 22 more fields]\n",
      "parquetFileDF802: org.apache.spark.sql.DataFrame = [hvfhs_license_num: string, dispatching_base_num: string ... 22 more fields]\n"
     ]
    }
   ],
   "source": [
    "import spark.implicits._\n",
    "val parquetFileDF = spark.read.parquet(path_ml_tripdata)\n",
    "val parquetFileDF802 = spark.read.parquet(path_ml_tripdata802)"
   ]
  },
  {
   "cell_type": "code",
   "execution_count": 59,
   "id": "e6f0c88e-57e1-4632-8efa-552c0006fd91",
   "metadata": {
    "execution": {
     "iopub.execute_input": "2023-05-02T15:28:01.761139Z",
     "iopub.status.busy": "2023-05-02T15:28:01.760829Z",
     "iopub.status.idle": "2023-05-02T15:28:02.514224Z",
     "shell.execute_reply": "2023-05-02T15:28:02.513439Z",
     "shell.execute_reply.started": "2023-05-02T15:28:01.761114Z"
    },
    "tags": []
   },
   "outputs": [
    {
     "data": {
      "application/vnd.jupyter.widget-view+json": {
       "model_id": "ab47dc798d6e4cc09fd5966419fe3c32",
       "version_major": 2,
       "version_minor": 0
      },
      "text/plain": [
       "VBox()"
      ]
     },
     "metadata": {},
     "output_type": "display_data"
    },
    {
     "data": {
      "application/vnd.jupyter.widget-view+json": {
       "model_id": "",
       "version_major": 2,
       "version_minor": 0
      },
      "text/plain": [
       "FloatProgress(value=0.0, bar_style='info', description='Progress:', layout=Layout(height='25px', width='50%'),…"
      ]
     },
     "metadata": {},
     "output_type": "display_data"
    },
    {
     "name": "stdout",
     "output_type": "stream",
     "text": [
      "import java.sql.Timestamp\n",
      "defined class TaxiTrip\n",
      "defined object TaxiTrip\n",
      "warning: previously defined class TaxiTrip is not a companion to object TaxiTrip.\n",
      "Companions must be defined together; you may wish to use :paste mode for this.\n"
     ]
    }
   ],
   "source": [
    "import java.sql.Timestamp\n",
    "case class TaxiTrip(\n",
    "  license:String,\n",
    "  request:Timestamp,\n",
    "  pickup:Timestamp,\n",
    "  dropoff:Timestamp,\n",
    "  distance:Double,\n",
    "  startloc:Long,\n",
    "  //endloc:String,\n",
    "  //time:Long,\n",
    "  fare:Double,\n",
    ")\n",
    "\n",
    "object TaxiTrip {\n",
    "    def extract(row:org.apache.spark.sql.Row) = {\n",
    "        val license = row.getString(0)\n",
    "        val request = row.getTimestamp(3)\n",
    "        val pickup = row.getTimestamp(5)\n",
    "        val dropoff = row.getTimestamp(6)\n",
    "        val distance = row.getDouble(9)\n",
    "        val startloc = row.getLong(7)\n",
    "        //val endloc = row.getString(8)\n",
    "        //val time = row.getLong(10)\n",
    "        val fare = row.getDouble(11)\n",
    "        \n",
    "        new TaxiTrip(license,request,pickup,dropoff,distance,startloc,fare)\n",
    "        \n",
    "\n",
    "        //new TaxiTrip(license,request,pickup,dropoff,startloc,endloc,distance,time,fare)\n",
    "    }\n",
    "}"
   ]
  },
  {
   "cell_type": "code",
   "execution_count": 60,
   "id": "a49dafe9-6e00-4430-a651-81cc461d0b20",
   "metadata": {
    "execution": {
     "iopub.execute_input": "2023-05-02T15:28:03.655889Z",
     "iopub.status.busy": "2023-05-02T15:28:03.655587Z",
     "iopub.status.idle": "2023-05-02T15:28:04.414267Z",
     "shell.execute_reply": "2023-05-02T15:28:04.413550Z",
     "shell.execute_reply.started": "2023-05-02T15:28:03.655864Z"
    },
    "tags": []
   },
   "outputs": [
    {
     "data": {
      "application/vnd.jupyter.widget-view+json": {
       "model_id": "fddccfbda6d847f08450fa199b9e65b9",
       "version_major": 2,
       "version_minor": 0
      },
      "text/plain": [
       "VBox()"
      ]
     },
     "metadata": {},
     "output_type": "display_data"
    },
    {
     "data": {
      "application/vnd.jupyter.widget-view+json": {
       "model_id": "",
       "version_major": 2,
       "version_minor": 0
      },
      "text/plain": [
       "FloatProgress(value=0.0, bar_style='info', description='Progress:', layout=Layout(height='25px', width='50%'),…"
      ]
     },
     "metadata": {},
     "output_type": "display_data"
    },
    {
     "name": "stdout",
     "output_type": "stream",
     "text": [
      "import java.util.Calendar\n",
      "getDayTime: (time: Long)java.util.Calendar\n"
     ]
    }
   ],
   "source": [
    "import java.util.Calendar\n",
    "def getDayTime(time: Long): Calendar = {\n",
    "    var date:Calendar = Calendar.getInstance();\n",
    "    date.setTimeInMillis(time);\n",
    "    date\n",
    "}"
   ]
  },
  {
   "cell_type": "code",
   "execution_count": 61,
   "id": "c0fc0cb6-743c-417b-aedd-4d485fcd83ad",
   "metadata": {
    "execution": {
     "iopub.execute_input": "2023-05-02T15:28:04.415655Z",
     "iopub.status.busy": "2023-05-02T15:28:04.415418Z",
     "iopub.status.idle": "2023-05-02T15:28:05.670742Z",
     "shell.execute_reply": "2023-05-02T15:28:05.669880Z",
     "shell.execute_reply.started": "2023-05-02T15:28:04.415631Z"
    },
    "tags": []
   },
   "outputs": [
    {
     "data": {
      "application/vnd.jupyter.widget-view+json": {
       "model_id": "a5cd99a221904759850f788a18a44ecd",
       "version_major": 2,
       "version_minor": 0
      },
      "text/plain": [
       "VBox()"
      ]
     },
     "metadata": {},
     "output_type": "display_data"
    },
    {
     "data": {
      "application/vnd.jupyter.widget-view+json": {
       "model_id": "",
       "version_major": 2,
       "version_minor": 0
      },
      "text/plain": [
       "FloatProgress(value=0.0, bar_style='info', description='Progress:', layout=Layout(height='25px', width='50%'),…"
      ]
     },
     "metadata": {},
     "output_type": "display_data"
    },
    {
     "name": "stdout",
     "output_type": "stream",
     "text": [
      "import org.apache.spark.HashPartitioner\n",
      "p: org.apache.spark.HashPartitioner = org.apache.spark.HashPartitioner@c\n",
      "data_rdd: org.apache.spark.rdd.RDD[org.apache.spark.sql.Row] = MapPartitionsRDD[28] at rdd at <console>:37\n",
      "data_rdd802: org.apache.spark.rdd.RDD[org.apache.spark.sql.Row] = MapPartitionsRDD[34] at rdd at <console>:37\n",
      "rddTaxiTrip: org.apache.spark.rdd.RDD[TaxiTrip] = MapPartitionsRDD[70] at map at <console>:89\n",
      "rddTaxiTrip2: org.apache.spark.rdd.RDD[TaxiTrip] = MapPartitionsRDD[71] at map at <console>:89\n"
     ]
    }
   ],
   "source": [
    "import org.apache.spark.HashPartitioner\n",
    "val p = new HashPartitioner(12)\n",
    "val data_rdd = parquetFileDF.rdd\n",
    "val data_rdd802 = parquetFileDF802.rdd\n",
    "val rddTaxiTrip = data_rdd.map(TaxiTrip.extract)\n",
    "val rddTaxiTrip2 = data_rdd802.map(TaxiTrip.extract)\n"
   ]
  },
  {
   "cell_type": "code",
   "execution_count": 62,
   "id": "81d6de18",
   "metadata": {
    "execution": {
     "iopub.execute_input": "2023-05-02T15:28:05.672251Z",
     "iopub.status.busy": "2023-05-02T15:28:05.672000Z",
     "iopub.status.idle": "2023-05-02T15:28:33.006426Z",
     "shell.execute_reply": "2023-05-02T15:28:33.005594Z",
     "shell.execute_reply.started": "2023-05-02T15:28:05.672225Z"
    },
    "tags": []
   },
   "outputs": [
    {
     "data": {
      "application/vnd.jupyter.widget-view+json": {
       "model_id": "1ea2038ebb7a456d97b2527097dce86d",
       "version_major": 2,
       "version_minor": 0
      },
      "text/plain": [
       "VBox()"
      ]
     },
     "metadata": {},
     "output_type": "display_data"
    },
    {
     "data": {
      "application/vnd.jupyter.widget-view+json": {
       "model_id": "",
       "version_major": 2,
       "version_minor": 0
      },
      "text/plain": [
       "FloatProgress(value=0.0, bar_style='info', description='Progress:', layout=Layout(height='25px', width='50%'),…"
      ]
     },
     "metadata": {},
     "output_type": "display_data"
    },
    {
     "name": "stdout",
     "output_type": "stream",
     "text": [
      "res48: Long = 11908468\n"
     ]
    }
   ],
   "source": [
    "rddTaxiTrip.map(x => x.startloc).count()\n",
    "//rddTaxiTrip.map(x => x.startloc).collect()"
   ]
  },
  {
   "cell_type": "code",
   "execution_count": 63,
   "id": "559f1f77-7b3f-49e9-859b-a3efcdbb103b",
   "metadata": {
    "execution": {
     "iopub.execute_input": "2023-05-02T15:28:44.710379Z",
     "iopub.status.busy": "2023-05-02T15:28:44.710068Z",
     "iopub.status.idle": "2023-05-02T15:29:14.048750Z",
     "shell.execute_reply": "2023-05-02T15:29:14.047985Z",
     "shell.execute_reply.started": "2023-05-02T15:28:44.710350Z"
    }
   },
   "outputs": [
    {
     "data": {
      "application/vnd.jupyter.widget-view+json": {
       "model_id": "eb36a8218ce84e50baeb1fa94915c746",
       "version_major": 2,
       "version_minor": 0
      },
      "text/plain": [
       "VBox()"
      ]
     },
     "metadata": {},
     "output_type": "display_data"
    },
    {
     "data": {
      "application/vnd.jupyter.widget-view+json": {
       "model_id": "",
       "version_major": 2,
       "version_minor": 0
      },
      "text/plain": [
       "FloatProgress(value=0.0, bar_style='info', description='Progress:', layout=Layout(height='25px', width='50%'),…"
      ]
     },
     "metadata": {},
     "output_type": "display_data"
    },
    {
     "name": "stdout",
     "output_type": "stream",
     "text": [
      "res51: Long = 262\n"
     ]
    }
   ],
   "source": [
    "rddTaxiTrip.map(x => x.startloc).distinct().count()"
   ]
  },
  {
   "cell_type": "code",
   "execution_count": 64,
   "id": "1f432b96-c256-4e46-833b-d019f14bac51",
   "metadata": {
    "execution": {
     "iopub.execute_input": "2023-05-02T15:29:59.846745Z",
     "iopub.status.busy": "2023-05-02T15:29:59.846439Z",
     "iopub.status.idle": "2023-05-02T15:30:00.596610Z",
     "shell.execute_reply": "2023-05-02T15:30:00.595811Z",
     "shell.execute_reply.started": "2023-05-02T15:29:59.846720Z"
    }
   },
   "outputs": [
    {
     "data": {
      "application/vnd.jupyter.widget-view+json": {
       "model_id": "163e3b9ffa174b8ebcdc3b83a03519ee",
       "version_major": 2,
       "version_minor": 0
      },
      "text/plain": [
       "VBox()"
      ]
     },
     "metadata": {},
     "output_type": "display_data"
    },
    {
     "data": {
      "application/vnd.jupyter.widget-view+json": {
       "model_id": "",
       "version_major": 2,
       "version_minor": 0
      },
      "text/plain": [
       "FloatProgress(value=0.0, bar_style='info', description='Progress:', layout=Layout(height='25px', width='50%'),…"
      ]
     },
     "metadata": {},
     "output_type": "display_data"
    },
    {
     "name": "stdout",
     "output_type": "stream",
     "text": [
      "query1: org.apache.spark.rdd.RDD[(Double, Long)] = MapPartitionsRDD[77] at map at <console>:88\n",
      "query1802: org.apache.spark.rdd.RDD[(Double, Long)] = MapPartitionsRDD[78] at map at <console>:88\n"
     ]
    }
   ],
   "source": [
    "val query1 = rddTaxiTrip.map(x => (x.distance, (x.dropoff.getTime() - x.pickup.getTime())/(60*1000)))\n",
    "val query1802 = rddTaxiTrip2.map(x => (x.distance, (x.dropoff.getTime() - x.pickup.getTime())/(60*1000)))"
   ]
  },
  {
   "cell_type": "code",
   "execution_count": 65,
   "id": "40d6dac2-9be8-439f-8ea5-2b7e26102467",
   "metadata": {
    "execution": {
     "iopub.execute_input": "2023-05-02T15:30:22.561188Z",
     "iopub.status.busy": "2023-05-02T15:30:22.560881Z",
     "iopub.status.idle": "2023-05-02T15:30:23.309643Z",
     "shell.execute_reply": "2023-05-02T15:30:23.308883Z",
     "shell.execute_reply.started": "2023-05-02T15:30:22.561162Z"
    }
   },
   "outputs": [
    {
     "data": {
      "application/vnd.jupyter.widget-view+json": {
       "model_id": "d44ccd8cb36048368084aed2ef63a0c9",
       "version_major": 2,
       "version_minor": 0
      },
      "text/plain": [
       "VBox()"
      ]
     },
     "metadata": {},
     "output_type": "display_data"
    },
    {
     "data": {
      "application/vnd.jupyter.widget-view+json": {
       "model_id": "",
       "version_major": 2,
       "version_minor": 0
      },
      "text/plain": [
       "FloatProgress(value=0.0, bar_style='info', description='Progress:', layout=Layout(height='25px', width='50%'),…"
      ]
     },
     "metadata": {},
     "output_type": "display_data"
    },
    {
     "name": "stdout",
     "output_type": "stream",
     "text": [
      "query1union: org.apache.spark.rdd.RDD[(Double, Long)] = UnionRDD[79] at union at <console>:89\n"
     ]
    }
   ],
   "source": [
    "val query1union = query1.union(query1802).cache()"
   ]
  },
  {
   "cell_type": "code",
   "execution_count": 66,
   "id": "43c2585a-6fbc-45a2-94a9-d0ced2056e2b",
   "metadata": {
    "execution": {
     "iopub.execute_input": "2023-05-02T15:30:36.614895Z",
     "iopub.status.busy": "2023-05-02T15:30:36.614554Z",
     "iopub.status.idle": "2023-05-02T15:31:25.999880Z",
     "shell.execute_reply": "2023-05-02T15:31:25.999158Z",
     "shell.execute_reply.started": "2023-05-02T15:30:36.614865Z"
    }
   },
   "outputs": [
    {
     "data": {
      "application/vnd.jupyter.widget-view+json": {
       "model_id": "707720d219364958bdd12d79a47e8912",
       "version_major": 2,
       "version_minor": 0
      },
      "text/plain": [
       "VBox()"
      ]
     },
     "metadata": {},
     "output_type": "display_data"
    },
    {
     "data": {
      "application/vnd.jupyter.widget-view+json": {
       "model_id": "",
       "version_major": 2,
       "version_minor": 0
      },
      "text/plain": [
       "FloatProgress(value=0.0, bar_style='info', description='Progress:', layout=Layout(height='25px', width='50%'),…"
      ]
     },
     "metadata": {},
     "output_type": "display_data"
    },
    {
     "name": "stdout",
     "output_type": "stream",
     "text": [
      "res52: Array[(Double, Long)] = Array((738.95,666), (527.11,575), (512.5,541), (480.73,512), (454.49,452), (432.359,379), (417.77,469), (408.19,440), (389.65,370), (381.95,444))\n"
     ]
    }
   ],
   "source": [
    "query1union.sortByKey(false).take(10)"
   ]
  },
  {
   "cell_type": "code",
   "execution_count": null,
   "id": "1ed8d3c1-d614-4a65-981a-6dcb0ac1b463",
   "metadata": {},
   "outputs": [],
   "source": []
  },
  {
   "cell_type": "code",
   "execution_count": 73,
   "id": "d8623d60-2dde-4ce2-b3ca-f2c33f7f8b28",
   "metadata": {
    "execution": {
     "iopub.execute_input": "2023-05-02T15:42:16.949801Z",
     "iopub.status.busy": "2023-05-02T15:42:16.949501Z",
     "iopub.status.idle": "2023-05-02T15:42:17.705139Z",
     "shell.execute_reply": "2023-05-02T15:42:17.704291Z",
     "shell.execute_reply.started": "2023-05-02T15:42:16.949775Z"
    },
    "tags": []
   },
   "outputs": [
    {
     "data": {
      "application/vnd.jupyter.widget-view+json": {
       "model_id": "6afc8f184e704c8386f8b60dcb229891",
       "version_major": 2,
       "version_minor": 0
      },
      "text/plain": [
       "VBox()"
      ]
     },
     "metadata": {},
     "output_type": "display_data"
    },
    {
     "data": {
      "application/vnd.jupyter.widget-view+json": {
       "model_id": "",
       "version_major": 2,
       "version_minor": 0
      },
      "text/plain": [
       "FloatProgress(value=0.0, bar_style='info', description='Progress:', layout=Layout(height='25px', width='50%'),…"
      ]
     },
     "metadata": {},
     "output_type": "display_data"
    },
    {
     "name": "stdout",
     "output_type": "stream",
     "text": [
      "query2: org.apache.spark.rdd.RDD[Long] = MapPartitionsRDD[89] at map at <console>:88\n",
      "query2802: org.apache.spark.rdd.RDD[Long] = MapPartitionsRDD[90] at map at <console>:88\n"
     ]
    }
   ],
   "source": [
    "val query2 = rddTaxiTrip.map(x => (x.pickup.getTime() - x.request.getTime())/(60*1000))\n",
    "val query2802 = rddTaxiTrip2.map(x => (x.pickup.getTime() - x.request.getTime())/(60*1000))"
   ]
  },
  {
   "cell_type": "code",
   "execution_count": 75,
   "id": "a66268be-94f7-4d2e-a76a-38c4d52fc5a1",
   "metadata": {
    "execution": {
     "iopub.execute_input": "2023-05-02T15:43:11.005832Z",
     "iopub.status.busy": "2023-05-02T15:43:11.005501Z",
     "iopub.status.idle": "2023-05-02T15:43:11.756275Z",
     "shell.execute_reply": "2023-05-02T15:43:11.755377Z",
     "shell.execute_reply.started": "2023-05-02T15:43:11.005804Z"
    },
    "tags": []
   },
   "outputs": [
    {
     "data": {
      "application/vnd.jupyter.widget-view+json": {
       "model_id": "61dacc4d761d460299475243ead8a31f",
       "version_major": 2,
       "version_minor": 0
      },
      "text/plain": [
       "VBox()"
      ]
     },
     "metadata": {},
     "output_type": "display_data"
    },
    {
     "data": {
      "application/vnd.jupyter.widget-view+json": {
       "model_id": "",
       "version_major": 2,
       "version_minor": 0
      },
      "text/plain": [
       "FloatProgress(value=0.0, bar_style='info', description='Progress:', layout=Layout(height='25px', width='50%'),…"
      ]
     },
     "metadata": {},
     "output_type": "display_data"
    },
    {
     "name": "stdout",
     "output_type": "stream",
     "text": [
      "query2union: org.apache.spark.rdd.RDD[Long] = UnionRDD[91] at union at <console>:90\n"
     ]
    }
   ],
   "source": [
    "//query2.collect()\n",
    "val query2union = query2.union(query2802).cache()"
   ]
  },
  {
   "cell_type": "code",
   "execution_count": 78,
   "id": "dd2ad512-a0c3-4ee2-93ae-e91adb127042",
   "metadata": {
    "execution": {
     "iopub.execute_input": "2023-05-02T15:45:12.064433Z",
     "iopub.status.busy": "2023-05-02T15:45:12.064096Z",
     "iopub.status.idle": "2023-05-02T15:48:35.975925Z",
     "shell.execute_reply": "2023-05-02T15:48:35.975051Z",
     "shell.execute_reply.started": "2023-05-02T15:45:12.064406Z"
    },
    "tags": []
   },
   "outputs": [
    {
     "data": {
      "application/vnd.jupyter.widget-view+json": {
       "model_id": "0439da07ba064fe3b800ae7bc0124237",
       "version_major": 2,
       "version_minor": 0
      },
      "text/plain": [
       "VBox()"
      ]
     },
     "metadata": {},
     "output_type": "display_data"
    },
    {
     "data": {
      "application/vnd.jupyter.widget-view+json": {
       "model_id": "48fe028952634d0a8fbbed140ee219d5",
       "version_major": 2,
       "version_minor": 0
      },
      "text/plain": [
       "FloatProgress(value=0.0, bar_style='info', description='Progress:', layout=Layout(height='25px', width='50%'),…"
      ]
     },
     "metadata": {},
     "output_type": "display_data"
    },
    {
     "name": "stderr",
     "output_type": "stream",
     "text": [
      "An error was encountered:\n",
      "Invalid status code '400' from http://localhost:8998/sessions/4/statements/78 with error payload: {\"msg\":\"requirement failed: Session isn't active.\"}\n"
     ]
    }
   ],
   "source": [
    "query1union.collect()"
   ]
  },
  {
   "cell_type": "code",
   "execution_count": null,
   "id": "2db8b0db-9ad1-4a71-93b5-697189ca3927",
   "metadata": {},
   "outputs": [],
   "source": []
  }
 ],
 "metadata": {
  "kernelspec": {
   "display_name": "Spark",
   "language": "scala",
   "name": "sparkkernel"
  },
  "language_info": {
   "codemirror_mode": "text/x-scala",
   "file_extension": ".sc",
   "mimetype": "text/x-scala",
   "name": "scala",
   "pygments_lexer": "scala"
  }
 },
 "nbformat": 4,
 "nbformat_minor": 5
}
