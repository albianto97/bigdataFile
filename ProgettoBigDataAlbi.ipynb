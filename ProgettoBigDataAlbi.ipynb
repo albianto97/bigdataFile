{
 "cells": [
  {
   "cell_type": "markdown",
   "id": "7ca6d370",
   "metadata": {},
   "source": [
    "###### Il progetto è visibile su github al seguente indirizzo: https://github.com/albianto97/bigdataFile.\n",
    "\n",
    "Il dataset analizzato (https://www.kaggle.com/datasets/shuhengmo/uber-nyc-forhire-vehicles-trip-data-2021), contiene informazioni sui viaggi fatti da varie licenze \"taxi\" nella città di New York.\n",
    "La grandezza totale del dataset è di 5 GB e contiene molte informazioni sui luoghi di partenza, arrivo, prezzo e varie tempistiche come l'orario e giorno di partenza e quelli d'arrivo."
   ]
  },
  {
   "cell_type": "code",
   "execution_count": 2,
   "id": "3dd9066f-ba4d-4509-bb38-7b68db61974e",
   "metadata": {
    "execution": {
     "iopub.status.busy": "2023-05-02T14:56:30.622554Z",
     "iopub.status.idle": "2023-05-02T14:56:30.622827Z",
     "shell.execute_reply": "2023-05-02T14:56:30.622709Z"
    },
    "tags": []
   },
   "outputs": [
    {
     "name": "stdout",
     "output_type": "stream",
     "text": [
      "Starting Spark application\n"
     ]
    },
    {
     "data": {
      "text/html": [
       "<table>\n",
       "<tr><th>ID</th><th>YARN Application ID</th><th>Kind</th><th>State</th><th>Spark UI</th><th>Driver log</th><th>User</th><th>Current session?</th></tr><tr><td>1</td><td>application_1686252650686_0002</td><td>spark</td><td>idle</td><td><a target=\"_blank\" href=\"http://ip-172-31-27-165.ec2.internal:20888/proxy/application_1686252650686_0002/\" class=\"emr-proxy-link\" emr-resource=\"j-11LM188P0POE\n",
       "\" application-id=\"application_1686252650686_0002\">Link</a></td><td><a target=\"_blank\" href=\"http://ip-172-31-22-253.ec2.internal:8042/node/containerlogs/container_1686252650686_0002_01_000001/livy\" >Link</a></td><td>None</td><td>✔</td></tr></table>"
      ],
      "text/plain": [
       "<IPython.core.display.HTML object>"
      ]
     },
     "metadata": {},
     "output_type": "display_data"
    },
    {
     "data": {
      "application/vnd.jupyter.widget-view+json": {
       "model_id": "",
       "version_major": 2,
       "version_minor": 0
      },
      "text/plain": [
       "FloatProgress(value=0.0, bar_style='info', description='Progress:', layout=Layout(height='25px', width='50%'),…"
      ]
     },
     "metadata": {},
     "output_type": "display_data"
    },
    {
     "name": "stdout",
     "output_type": "stream",
     "text": [
      "SparkSession available as 'spark'.\n"
     ]
    },
    {
     "data": {
      "text/html": [
       "Current session configs: <tt>{'executorMemory': '5G', 'numExecutors': 2, 'executorCores': 3, 'conf': {'spark.dynamicAllocation.enabled': 'false'}, 'proxyUser': 'assumed-role_voclabs_user2476921_alberto_antonelli2_studio_unibo_it', 'kind': 'spark'}</tt><br>"
      ],
      "text/plain": [
       "<IPython.core.display.HTML object>"
      ]
     },
     "metadata": {},
     "output_type": "display_data"
    },
    {
     "data": {
      "text/html": [
       "<table>\n",
       "<tr><th>ID</th><th>YARN Application ID</th><th>Kind</th><th>State</th><th>Spark UI</th><th>Driver log</th><th>User</th><th>Current session?</th></tr><tr><td>1</td><td>application_1686252650686_0002</td><td>spark</td><td>idle</td><td><a target=\"_blank\" href=\"http://ip-172-31-27-165.ec2.internal:20888/proxy/application_1686252650686_0002/\" class=\"emr-proxy-link\" emr-resource=\"j-11LM188P0POE\n",
       "\" application-id=\"application_1686252650686_0002\">Link</a></td><td><a target=\"_blank\" href=\"http://ip-172-31-22-253.ec2.internal:8042/node/containerlogs/container_1686252650686_0002_01_000001/livy\" >Link</a></td><td>None</td><td>✔</td></tr></table>"
      ],
      "text/plain": [
       "<IPython.core.display.HTML object>"
      ]
     },
     "metadata": {},
     "output_type": "display_data"
    }
   ],
   "source": [
    "%%configure -f\n",
    "{\"executorMemory\":\"5G\", \"numExecutors\":2, \"executorCores\":3, \"conf\":\n",
    "{\"spark.dynamicAllocation.enabled\": \"false\"}}\n"
   ]
  },
  {
   "cell_type": "code",
   "execution_count": 9,
   "id": "e065b9b8-df3a-4be8-9511-ac3dff1b2c5c",
   "metadata": {
    "execution": {
     "iopub.execute_input": "2023-05-02T14:56:48.458056Z",
     "iopub.status.busy": "2023-05-02T14:56:48.457735Z",
     "iopub.status.idle": "2023-05-02T14:57:21.879765Z",
     "shell.execute_reply": "2023-05-02T14:57:21.878870Z",
     "shell.execute_reply.started": "2023-05-02T14:56:48.458030Z"
    },
    "tags": []
   },
   "outputs": [
    {
     "data": {
      "application/vnd.jupyter.widget-view+json": {
       "model_id": "1ce550f7ce4e449aa17d6968e25bed6c",
       "version_major": 2,
       "version_minor": 0
      },
      "text/plain": [
       "VBox()"
      ]
     },
     "metadata": {},
     "output_type": "display_data"
    },
    {
     "data": {
      "application/vnd.jupyter.widget-view+json": {
       "model_id": "",
       "version_major": 2,
       "version_minor": 0
      },
      "text/plain": [
       "FloatProgress(value=0.0, bar_style='info', description='Progress:', layout=Layout(height='25px', width='50%'),…"
      ]
     },
     "metadata": {},
     "output_type": "display_data"
    },
    {
     "name": "stdout",
     "output_type": "stream",
     "text": [
      "bucketname: String = unibo-bd-antonelli2023\n",
      "path_ml_tripdata: String = s3a://unibo-bd-antonelli2023/datasets/fhvhv_tripdata_2021-01.parquet\n",
      "path_ml_tripdata2: String = s3a://unibo-bd-antonelli2023/datasets/fhvhv_tripdata_2021-02.parquet\n",
      "res13: String = application_1686252650686_0002\n",
      "res15: String = SPARK UI: Enable forwarding of port 20888 and connect to http://localhost:20888/proxy/application_1686252650686_0002/\n"
     ]
    }
   ],
   "source": [
    "val bucketname = \"unibo-bd-antonelli2023\"\n",
    "val path_ml_tripdata =\n",
    "\"s3a://\"+bucketname+\"/datasets/fhvhv_tripdata_2021-01.parquet\"\n",
    "val path_ml_tripdata2 =\n",
    "\"s3a://\"+bucketname+\"/datasets/fhvhv_tripdata_2021-02.parquet\"\n",
    "\n",
    "sc.applicationId\n",
    "\n",
    "\"SPARK UI: Enable forwarding of port 20888 and connect to http://localhost:20888/proxy/\" + sc.applicationId + \"/\""
   ]
  },
  {
   "cell_type": "markdown",
   "id": "b36d4e57",
   "metadata": {},
   "source": [
    "I dati sono presenti nel formato Parquet; dopo essere stati importati, tutti i job sono stati fatti dopo una successiva conversione in RDD. I dati sono raggruppati mensilmente, per un totale di 12 file Parquet. \n",
    "\n",
    "Importazione dei dati in formato Parquet."
   ]
  },
  {
   "cell_type": "code",
   "execution_count": 10,
   "id": "f197b83d-b515-41c7-baf6-6799c2d06c4d",
   "metadata": {
    "execution": {
     "iopub.execute_input": "2023-05-02T15:09:24.941646Z",
     "iopub.status.busy": "2023-05-02T15:09:24.941321Z",
     "iopub.status.idle": "2023-05-02T15:09:36.258166Z",
     "shell.execute_reply": "2023-05-02T15:09:36.257233Z",
     "shell.execute_reply.started": "2023-05-02T15:09:24.941618Z"
    },
    "tags": []
   },
   "outputs": [
    {
     "data": {
      "application/vnd.jupyter.widget-view+json": {
       "model_id": "26cbf084a1d0434fb972089c2c1738ac",
       "version_major": 2,
       "version_minor": 0
      },
      "text/plain": [
       "VBox()"
      ]
     },
     "metadata": {},
     "output_type": "display_data"
    },
    {
     "data": {
      "application/vnd.jupyter.widget-view+json": {
       "model_id": "",
       "version_major": 2,
       "version_minor": 0
      },
      "text/plain": [
       "FloatProgress(value=0.0, bar_style='info', description='Progress:', layout=Layout(height='25px', width='50%'),…"
      ]
     },
     "metadata": {},
     "output_type": "display_data"
    },
    {
     "name": "stdout",
     "output_type": "stream",
     "text": [
      "import spark.implicits._\n",
      "parquetFileDF: org.apache.spark.sql.DataFrame = [hvfhs_license_num: string, dispatching_base_num: string ... 22 more fields]\n",
      "parquetFileDF2: org.apache.spark.sql.DataFrame = [hvfhs_license_num: string, dispatching_base_num: string ... 22 more fields]\n"
     ]
    }
   ],
   "source": [
    "import spark.implicits._\n",
    "val parquetFileDF = spark.read.parquet(path_ml_tripdata)\n",
    "val parquetFileDF2 = spark.read.parquet(path_ml_tripdata2)"
   ]
  },
  {
   "cell_type": "markdown",
   "id": "4bc3603e",
   "metadata": {},
   "source": [
    "# Analisi dei campi del dataset\n",
    "* licenseClass: tipo stringa che rappresenta la licenza de taxi.\n",
    "\t* HV0002: Juno\n",
    "    * HV0003: Uber\n",
    "    * HV0004: Via\n",
    "    * HV0005: Lyft\n",
    "* license: tipo Stringa che rappresenta il numero del taxi.\n",
    "* request: tipo Timestamp che rappresenta la data/ora della richiesta del viaggio.\n",
    "* pickup: tipo Timestamp  che rappresenta la data/ora dell'inizio del viaggio.\n",
    "* dropoff: tipo Timestamp che rappresenta la data/ora della fine del viaggio.\n",
    "* distance: tipo Double che rappresenta la distanza totale in miglia percorsa dal taxi per questo viaggio.\n",
    "* startloc: tipo Long che rappresenta la zona di partenza del viaggio.\n",
    "* endloc: tipo Long che rappresenta la zona di arrivo del viaggio.\n",
    "* fare: tipo Double che rappresenta il prezzo del viaggio."
   ]
  },
  {
   "cell_type": "code",
   "execution_count": 4,
   "id": "e6f0c88e-57e1-4632-8efa-552c0006fd91",
   "metadata": {
    "execution": {
     "iopub.execute_input": "2023-05-02T15:28:01.761139Z",
     "iopub.status.busy": "2023-05-02T15:28:01.760829Z",
     "iopub.status.idle": "2023-05-02T15:28:02.514224Z",
     "shell.execute_reply": "2023-05-02T15:28:02.513439Z",
     "shell.execute_reply.started": "2023-05-02T15:28:01.761114Z"
    },
    "tags": []
   },
   "outputs": [
    {
     "data": {
      "application/vnd.jupyter.widget-view+json": {
       "model_id": "7d4723800cbd4d089ae5cf25f9ac739e",
       "version_major": 2,
       "version_minor": 0
      },
      "text/plain": [
       "VBox()"
      ]
     },
     "metadata": {},
     "output_type": "display_data"
    },
    {
     "data": {
      "application/vnd.jupyter.widget-view+json": {
       "model_id": "",
       "version_major": 2,
       "version_minor": 0
      },
      "text/plain": [
       "FloatProgress(value=0.0, bar_style='info', description='Progress:', layout=Layout(height='25px', width='50%'),…"
      ]
     },
     "metadata": {},
     "output_type": "display_data"
    },
    {
     "name": "stdout",
     "output_type": "stream",
     "text": [
      "import java.sql.Timestamp\n",
      "defined class TaxiTrip\n",
      "defined object TaxiTrip\n",
      "warning: previously defined class TaxiTrip is not a companion to object TaxiTrip.\n",
      "Companions must be defined together; you may wish to use :paste mode for this.\n"
     ]
    }
   ],
   "source": [
    "import java.sql.Timestamp\n",
    "case class TaxiTrip(\n",
    "  licenseClass:String,\n",
    "  license:String,  \n",
    "  request:Timestamp,\n",
    "  pickup:Timestamp,\n",
    "  dropoff:Timestamp,\n",
    "  distance:Double,\n",
    "  startloc:Long,\n",
    "  endloc:Long,\n",
    "  //time:Long,\n",
    "  fare:Double,\n",
    ")\n",
    "\n",
    "object TaxiTrip {\n",
    "    def extract(row:org.apache.spark.sql.Row) = {\n",
    "        val licenseClass = row.getString(0)\n",
    "        val license = row.getString(1)\n",
    "        val request = row.getTimestamp(4)\n",
    "        val pickup = row.getTimestamp(5)\n",
    "        val dropoff = row.getTimestamp(6)\n",
    "        val distance = row.getDouble(9)\n",
    "        val startloc = row.getLong(7)\n",
    "        val endloc = row.getLong(8)\n",
    "        //val time = row.getLong(10)\n",
    "        val fare = row.getDouble(11)\n",
    "        \n",
    "        new TaxiTrip(licenseClass,license,request,pickup,dropoff,distance,startloc,endloc,fare)\n",
    "        \n",
    "\n",
    "        //new TaxiTrip(license,request,pickup,dropoff,startloc,endloc,distance,time,fare)\n",
    "    }\n",
    "}"
   ]
  },
  {
   "cell_type": "markdown",
   "id": "6f4cee4a",
   "metadata": {},
   "source": [
    "La seguente funzione serve per convertire da formato timestamp a calendar, in modo da poter estrarre informazioni come giorno del mese, ora del giorno oppure giorno della settimana. <br>\n",
    "Si può notare che il dataset conteneva \"trip_time\" ossia il totale del tempo in secondi che i passeggeri hanno passato sul taxi durante il viaggio. <br>Ho preferito definire una funzione perchè sarebbe stata utile eventualmente per tutti i tempi importati dal dataset (request, pickup e dropoff)."
   ]
  },
  {
   "cell_type": "code",
   "execution_count": 5,
   "id": "a49dafe9-6e00-4430-a651-81cc461d0b20",
   "metadata": {
    "execution": {
     "iopub.execute_input": "2023-05-02T15:28:03.655889Z",
     "iopub.status.busy": "2023-05-02T15:28:03.655587Z",
     "iopub.status.idle": "2023-05-02T15:28:04.414267Z",
     "shell.execute_reply": "2023-05-02T15:28:04.413550Z",
     "shell.execute_reply.started": "2023-05-02T15:28:03.655864Z"
    },
    "tags": []
   },
   "outputs": [
    {
     "data": {
      "application/vnd.jupyter.widget-view+json": {
       "model_id": "cf638feade164381921a73e72455448f",
       "version_major": 2,
       "version_minor": 0
      },
      "text/plain": [
       "VBox()"
      ]
     },
     "metadata": {},
     "output_type": "display_data"
    },
    {
     "data": {
      "application/vnd.jupyter.widget-view+json": {
       "model_id": "",
       "version_major": 2,
       "version_minor": 0
      },
      "text/plain": [
       "FloatProgress(value=0.0, bar_style='info', description='Progress:', layout=Layout(height='25px', width='50%'),…"
      ]
     },
     "metadata": {},
     "output_type": "display_data"
    },
    {
     "name": "stdout",
     "output_type": "stream",
     "text": [
      "import java.util.Calendar\n",
      "getDayTime: (time: Long)java.util.Calendar\n"
     ]
    }
   ],
   "source": [
    "import java.util.Calendar\n",
    "def getDayTime(time: Long): Calendar = {\n",
    "    var date:Calendar = Calendar.getInstance();\n",
    "    date.setTimeInMillis(time);\n",
    "    date\n",
    "}"
   ]
  },
  {
   "cell_type": "markdown",
   "id": "3b57b9f6",
   "metadata": {},
   "source": [
    "# Creazione e caching del RDD a partire dal file Parquet.\n",
    "Caching per migliorare le prestazioni in vista di futuri utilizzi. Si è optato per la scelta tenere due ripartizioni (quindi due task per core). Essendoci due executor con tre core ciascuno, il numero totale di core è sei. Quindi si è scelta una ripartizione di 12, anche se guardando i tempi di esecuzione il miglioramento è solo di qualche secondo."
   ]
  },
  {
   "cell_type": "code",
   "execution_count": 12,
   "id": "c0fc0cb6-743c-417b-aedd-4d485fcd83ad",
   "metadata": {
    "execution": {
     "iopub.execute_input": "2023-05-02T15:28:04.415655Z",
     "iopub.status.busy": "2023-05-02T15:28:04.415418Z",
     "iopub.status.idle": "2023-05-02T15:28:05.670742Z",
     "shell.execute_reply": "2023-05-02T15:28:05.669880Z",
     "shell.execute_reply.started": "2023-05-02T15:28:04.415631Z"
    },
    "tags": []
   },
   "outputs": [
    {
     "data": {
      "application/vnd.jupyter.widget-view+json": {
       "model_id": "17c2e306691d4e388f86c9a5bec2ee3c",
       "version_major": 2,
       "version_minor": 0
      },
      "text/plain": [
       "VBox()"
      ]
     },
     "metadata": {},
     "output_type": "display_data"
    },
    {
     "data": {
      "application/vnd.jupyter.widget-view+json": {
       "model_id": "",
       "version_major": 2,
       "version_minor": 0
      },
      "text/plain": [
       "FloatProgress(value=0.0, bar_style='info', description='Progress:', layout=Layout(height='25px', width='50%'),…"
      ]
     },
     "metadata": {},
     "output_type": "display_data"
    },
    {
     "name": "stdout",
     "output_type": "stream",
     "text": [
      "import org.apache.spark.HashPartitioner\n",
      "p: org.apache.spark.HashPartitioner = org.apache.spark.HashPartitioner@c\n",
      "data_rdd: org.apache.spark.rdd.RDD[org.apache.spark.sql.Row] = MapPartitionsRDD[9] at rdd at <console>:36\n",
      "data_rdd2: org.apache.spark.rdd.RDD[org.apache.spark.sql.Row] = MapPartitionsRDD[15] at rdd at <console>:36\n",
      "rddTaxiTrip: org.apache.spark.rdd.RDD[TaxiTrip] = MapPartitionsRDD[18] at map at <console>:39\n",
      "rddTaxiTrip2: org.apache.spark.rdd.RDD[TaxiTrip] = MapPartitionsRDD[19] at map at <console>:39\n"
     ]
    }
   ],
   "source": [
    "import org.apache.spark.HashPartitioner\n",
    "val p = new HashPartitioner(12)\n",
    "val data_rdd = parquetFileDF.rdd\n",
    "val data_rdd2 = parquetFileDF2.rdd\n",
    "val rddTaxiTrip = data_rdd.map(TaxiTrip.extract)\n",
    "val rddTaxiTrip2 = data_rdd2.map(TaxiTrip.extract)\n"
   ]
  },
  {
   "cell_type": "markdown",
   "id": "bf22209e",
   "metadata": {},
   "source": [
    "# File di input\n",
    "Per tutte le seguenti query verranno utilizzati due file, i quali verranno uniti successivamente attraverso una union: il primo contenente i dati per il mese di gennaio 2021, il secondo contente i dati di febbraio 2021.\n",
    "<br>Avendo caricato tutti i file nella cartella è possibile fare confronti anche su mesi diversi, ed avendo Kaggle anche i dataset di anni precedenti la stessa analisi può essere effettutata anche su anni differenti. (Attenzione ad eventuali campi mancanti in dataset di anni precedenti). \n",
    "<br>La grandezza di input è di circa 380/390 MB a file.\n"
   ]
  },
  {
   "cell_type": "markdown",
   "id": "d02dcf96",
   "metadata": {},
   "source": [
    "### Numero totale di record"
   ]
  },
  {
   "cell_type": "code",
   "execution_count": 13,
   "id": "23280221",
   "metadata": {},
   "outputs": [
    {
     "data": {
      "application/vnd.jupyter.widget-view+json": {
       "model_id": "57ebae6139d94984be79250f68a574da",
       "version_major": 2,
       "version_minor": 0
      },
      "text/plain": [
       "VBox()"
      ]
     },
     "metadata": {},
     "output_type": "display_data"
    },
    {
     "data": {
      "application/vnd.jupyter.widget-view+json": {
       "model_id": "",
       "version_major": 2,
       "version_minor": 0
      },
      "text/plain": [
       "FloatProgress(value=0.0, bar_style='info', description='Progress:', layout=Layout(height='25px', width='50%'),…"
      ]
     },
     "metadata": {},
     "output_type": "display_data"
    },
    {
     "name": "stdout",
     "output_type": "stream",
     "text": [
      "res16: Long = 11908468\n"
     ]
    }
   ],
   "source": [
    "rddTaxiTrip.count()"
   ]
  },
  {
   "cell_type": "markdown",
   "id": "54e63f75",
   "metadata": {},
   "source": [
    "### Numero totale di zone di arrivo diverse\n",
    "Nota: Lo stesso numero sono quelle di partenza."
   ]
  },
  {
   "cell_type": "code",
   "execution_count": 14,
   "id": "81d6de18",
   "metadata": {
    "execution": {
     "iopub.execute_input": "2023-05-02T15:28:05.672251Z",
     "iopub.status.busy": "2023-05-02T15:28:05.672000Z",
     "iopub.status.idle": "2023-05-02T15:28:33.006426Z",
     "shell.execute_reply": "2023-05-02T15:28:33.005594Z",
     "shell.execute_reply.started": "2023-05-02T15:28:05.672225Z"
    },
    "tags": []
   },
   "outputs": [
    {
     "data": {
      "application/vnd.jupyter.widget-view+json": {
       "model_id": "d22289f5eab04fc795c113606da3a523",
       "version_major": 2,
       "version_minor": 0
      },
      "text/plain": [
       "VBox()"
      ]
     },
     "metadata": {},
     "output_type": "display_data"
    },
    {
     "data": {
      "application/vnd.jupyter.widget-view+json": {
       "model_id": "",
       "version_major": 2,
       "version_minor": 0
      },
      "text/plain": [
       "FloatProgress(value=0.0, bar_style='info', description='Progress:', layout=Layout(height='25px', width='50%'),…"
      ]
     },
     "metadata": {},
     "output_type": "display_data"
    },
    {
     "name": "stdout",
     "output_type": "stream",
     "text": [
      "res17: Long = 262\n"
     ]
    }
   ],
   "source": [
    "rddTaxiTrip.map(x => x.endloc).distinct().count()"
   ]
  },
  {
   "cell_type": "markdown",
   "id": "8161b829",
   "metadata": {},
   "source": [
    "### Stampa delle classi di licenza \n",
    "Nel caso ne mancasse qualcuna significa che non è presente nel periodo di tempo considerato."
   ]
  },
  {
   "cell_type": "code",
   "execution_count": 15,
   "id": "32449cfa",
   "metadata": {},
   "outputs": [
    {
     "data": {
      "application/vnd.jupyter.widget-view+json": {
       "model_id": "67ee8121530642fab17ebaf8794dd5e1",
       "version_major": 2,
       "version_minor": 0
      },
      "text/plain": [
       "VBox()"
      ]
     },
     "metadata": {},
     "output_type": "display_data"
    },
    {
     "data": {
      "application/vnd.jupyter.widget-view+json": {
       "model_id": "",
       "version_major": 2,
       "version_minor": 0
      },
      "text/plain": [
       "FloatProgress(value=0.0, bar_style='info', description='Progress:', layout=Layout(height='25px', width='50%'),…"
      ]
     },
     "metadata": {},
     "output_type": "display_data"
    },
    {
     "name": "stdout",
     "output_type": "stream",
     "text": [
      "res18: Array[String] = Array(HV0004, HV0005, HV0003)\n"
     ]
    }
   ],
   "source": [
    "rddTaxiTrip.map(x => x.licenseClass).distinct().collect()"
   ]
  },
  {
   "cell_type": "markdown",
   "id": "03e4c891",
   "metadata": {},
   "source": [
    "### VIAGGI PIU LUNGHI IN TERMINE DI KM, IN RELAZIONE CON LA DURATA DEL VIAGGIO\n"
   ]
  },
  {
   "cell_type": "code",
   "execution_count": 83,
   "id": "1f432b96-c256-4e46-833b-d019f14bac51",
   "metadata": {
    "execution": {
     "iopub.execute_input": "2023-05-02T15:29:59.846745Z",
     "iopub.status.busy": "2023-05-02T15:29:59.846439Z",
     "iopub.status.idle": "2023-05-02T15:30:00.596610Z",
     "shell.execute_reply": "2023-05-02T15:30:00.595811Z",
     "shell.execute_reply.started": "2023-05-02T15:29:59.846720Z"
    }
   },
   "outputs": [
    {
     "data": {
      "application/vnd.jupyter.widget-view+json": {
       "model_id": "39df8ea2117743899ebea6bead552694",
       "version_major": 2,
       "version_minor": 0
      },
      "text/plain": [
       "VBox()"
      ]
     },
     "metadata": {},
     "output_type": "display_data"
    },
    {
     "data": {
      "application/vnd.jupyter.widget-view+json": {
       "model_id": "",
       "version_major": 2,
       "version_minor": 0
      },
      "text/plain": [
       "FloatProgress(value=0.0, bar_style='info', description='Progress:', layout=Layout(height='25px', width='50%'),…"
      ]
     },
     "metadata": {},
     "output_type": "display_data"
    },
    {
     "name": "stdout",
     "output_type": "stream",
     "text": [
      "query1: org.apache.spark.rdd.RDD[(Double, Long)] = MapPartitionsRDD[264] at map at <console>:81\n",
      "query1802: org.apache.spark.rdd.RDD[(Double, Long)] = MapPartitionsRDD[265] at map at <console>:81\n"
     ]
    }
   ],
   "source": [
    "val query1 = rddTaxiTrip.map(x => (x.distance, (x.dropoff.getTime() - x.pickup.getTime())/(60*1000)))\n",
    "val query1802 = rddTaxiTrip2.map(x => (x.distance, (x.dropoff.getTime() - x.pickup.getTime())/(60*1000)))"
   ]
  },
  {
   "cell_type": "code",
   "execution_count": 84,
   "id": "40d6dac2-9be8-439f-8ea5-2b7e26102467",
   "metadata": {
    "execution": {
     "iopub.execute_input": "2023-05-02T15:30:22.561188Z",
     "iopub.status.busy": "2023-05-02T15:30:22.560881Z",
     "iopub.status.idle": "2023-05-02T15:30:23.309643Z",
     "shell.execute_reply": "2023-05-02T15:30:23.308883Z",
     "shell.execute_reply.started": "2023-05-02T15:30:22.561162Z"
    }
   },
   "outputs": [
    {
     "data": {
      "application/vnd.jupyter.widget-view+json": {
       "model_id": "5bf4dae048fa447398d7227666fbc0f1",
       "version_major": 2,
       "version_minor": 0
      },
      "text/plain": [
       "VBox()"
      ]
     },
     "metadata": {},
     "output_type": "display_data"
    },
    {
     "data": {
      "application/vnd.jupyter.widget-view+json": {
       "model_id": "",
       "version_major": 2,
       "version_minor": 0
      },
      "text/plain": [
       "FloatProgress(value=0.0, bar_style='info', description='Progress:', layout=Layout(height='25px', width='50%'),…"
      ]
     },
     "metadata": {},
     "output_type": "display_data"
    },
    {
     "name": "stdout",
     "output_type": "stream",
     "text": [
      "query1union: org.apache.spark.rdd.RDD[(Double, Long)] = UnionRDD[266] at union at <console>:82\n"
     ]
    }
   ],
   "source": [
    "val query1union = query1.union(query1802).cache()"
   ]
  },
  {
   "cell_type": "code",
   "execution_count": 85,
   "id": "43c2585a-6fbc-45a2-94a9-d0ced2056e2b",
   "metadata": {
    "execution": {
     "iopub.execute_input": "2023-05-02T15:30:36.614895Z",
     "iopub.status.busy": "2023-05-02T15:30:36.614554Z",
     "iopub.status.idle": "2023-05-02T15:31:25.999880Z",
     "shell.execute_reply": "2023-05-02T15:31:25.999158Z",
     "shell.execute_reply.started": "2023-05-02T15:30:36.614865Z"
    }
   },
   "outputs": [
    {
     "data": {
      "application/vnd.jupyter.widget-view+json": {
       "model_id": "93dcff03f9714b1f99448e2778426d94",
       "version_major": 2,
       "version_minor": 0
      },
      "text/plain": [
       "VBox()"
      ]
     },
     "metadata": {},
     "output_type": "display_data"
    },
    {
     "data": {
      "application/vnd.jupyter.widget-view+json": {
       "model_id": "",
       "version_major": 2,
       "version_minor": 0
      },
      "text/plain": [
       "FloatProgress(value=0.0, bar_style='info', description='Progress:', layout=Layout(height='25px', width='50%'),…"
      ]
     },
     "metadata": {},
     "output_type": "display_data"
    },
    {
     "name": "stdout",
     "output_type": "stream",
     "text": [
      "res187: Array[(Double, Long)] = Array((738.95,666), (527.11,575), (512.5,541), (480.73,512), (454.49,452), (432.359,379), (417.77,469), (408.19,440), (389.65,370), (381.95,444))\n"
     ]
    }
   ],
   "source": [
    "query1union.sortByKey(false).take(10)"
   ]
  },
  {
   "cell_type": "markdown",
   "id": "4d022c06",
   "metadata": {},
   "source": [
    "### VIAGGI PIU COSTOSI, IN RELAZIONE CON LA SOMMA TRA LUNGHEZZA E LA DURATA DEL VIAGGIO\n",
    "Aggiunto un filtro sulla distanza minima. Questo comporterà solo la stampa dei viaggi più costosi visto che ci si aspetta che l'andamento sia proporzionale tra distanza e costo."
   ]
  },
  {
   "cell_type": "code",
   "execution_count": 86,
   "id": "20ffa170",
   "metadata": {},
   "outputs": [
    {
     "data": {
      "application/vnd.jupyter.widget-view+json": {
       "model_id": "21cfe9720f114633b76c38f6debee13c",
       "version_major": 2,
       "version_minor": 0
      },
      "text/plain": [
       "VBox()"
      ]
     },
     "metadata": {},
     "output_type": "display_data"
    },
    {
     "data": {
      "application/vnd.jupyter.widget-view+json": {
       "model_id": "",
       "version_major": 2,
       "version_minor": 0
      },
      "text/plain": [
       "FloatProgress(value=0.0, bar_style='info', description='Progress:', layout=Layout(height='25px', width='50%'),…"
      ]
     },
     "metadata": {},
     "output_type": "display_data"
    },
    {
     "name": "stdout",
     "output_type": "stream",
     "text": [
      "query2: org.apache.spark.rdd.RDD[(Double, Double)] = MapPartitionsRDD[274] at map at <console>:81\n",
      "query2802: org.apache.spark.rdd.RDD[(Double, Double)] = MapPartitionsRDD[276] at map at <console>:81\n"
     ]
    }
   ],
   "source": [
    "val query2 = rddTaxiTrip.filter(_.distance > 20).map(x => (x.fare, ((x.dropoff.getTime() - x.pickup.getTime())/(60*1000) + x.distance)))\n",
    "val query2802 = rddTaxiTrip2.filter(_.distance > 20).map(x => (x.fare, ((x.dropoff.getTime() - x.pickup.getTime())/(60*1000) + x.distance)))"
   ]
  },
  {
   "cell_type": "code",
   "execution_count": 87,
   "id": "2e65fe78",
   "metadata": {},
   "outputs": [
    {
     "data": {
      "application/vnd.jupyter.widget-view+json": {
       "model_id": "d1598aa17b024580a43b8fdf1e0db0b0",
       "version_major": 2,
       "version_minor": 0
      },
      "text/plain": [
       "VBox()"
      ]
     },
     "metadata": {},
     "output_type": "display_data"
    },
    {
     "data": {
      "application/vnd.jupyter.widget-view+json": {
       "model_id": "",
       "version_major": 2,
       "version_minor": 0
      },
      "text/plain": [
       "FloatProgress(value=0.0, bar_style='info', description='Progress:', layout=Layout(height='25px', width='50%'),…"
      ]
     },
     "metadata": {},
     "output_type": "display_data"
    },
    {
     "name": "stdout",
     "output_type": "stream",
     "text": [
      "query2union: org.apache.spark.rdd.RDD[(Double, Double)] = UnionRDD[277] at union at <console>:82\n"
     ]
    }
   ],
   "source": [
    "val query2union = query2.union(query2802).cache()"
   ]
  },
  {
   "cell_type": "code",
   "execution_count": 88,
   "id": "936ae2cf",
   "metadata": {},
   "outputs": [
    {
     "data": {
      "application/vnd.jupyter.widget-view+json": {
       "model_id": "5fd51a7287494e8485535f62df7f3d4a",
       "version_major": 2,
       "version_minor": 0
      },
      "text/plain": [
       "VBox()"
      ]
     },
     "metadata": {},
     "output_type": "display_data"
    },
    {
     "data": {
      "application/vnd.jupyter.widget-view+json": {
       "model_id": "",
       "version_major": 2,
       "version_minor": 0
      },
      "text/plain": [
       "FloatProgress(value=0.0, bar_style='info', description='Progress:', layout=Layout(height='25px', width='50%'),…"
      ]
     },
     "metadata": {},
     "output_type": "display_data"
    },
    {
     "name": "stdout",
     "output_type": "stream",
     "text": [
      "res188: Array[(Double, Double)] = Array((1532.67,1404.95), (1374.73,906.49), (1361.13,759.65), (1308.56,886.77), (1215.83,825.95), (1159.66,626.4), (1149.87,992.73), (1149.03,452.39), (1082.69,536.21), (1073.88,629.78))\n"
     ]
    }
   ],
   "source": [
    "query2union.sortByKey(false).take(10)"
   ]
  },
  {
   "cell_type": "markdown",
   "id": "3b09001a",
   "metadata": {},
   "source": [
    "### TEMPO DI VIAGGIO MEDIO, IN BASE ALLA ZONA DI PARTENZA\n",
    "Il codice esegue le seguenti operazioni:\n",
    "* Viene eseguita una map per estrarre la zona di partenza e il tempo di viaggio;\n",
    "* Successivamente viene fatta un aggregazione in base alla chiave per andare a calcolare la somma dei tempi e il conteggio dei viaggi;\n",
    "\n",
    "Queste azioni sono state svolte per entrambi gli RDD dei mesi.\n",
    "\n",
    "* Viene eseguita una union per raggruppare i due valori;\n",
    "\n",
    "Il risultato finale che si sta cercando è quello di vedere per ogni zona quanto è il tempo medio di viaggio"
   ]
  },
  {
   "cell_type": "code",
   "execution_count": 89,
   "id": "d8623d60-2dde-4ce2-b3ca-f2c33f7f8b28",
   "metadata": {
    "execution": {
     "iopub.execute_input": "2023-05-02T15:42:16.949801Z",
     "iopub.status.busy": "2023-05-02T15:42:16.949501Z",
     "iopub.status.idle": "2023-05-02T15:42:17.705139Z",
     "shell.execute_reply": "2023-05-02T15:42:17.704291Z",
     "shell.execute_reply.started": "2023-05-02T15:42:16.949775Z"
    },
    "tags": []
   },
   "outputs": [
    {
     "data": {
      "application/vnd.jupyter.widget-view+json": {
       "model_id": "f9e1f34c12464dc7b5f697ad8c8d2130",
       "version_major": 2,
       "version_minor": 0
      },
      "text/plain": [
       "VBox()"
      ]
     },
     "metadata": {},
     "output_type": "display_data"
    },
    {
     "data": {
      "application/vnd.jupyter.widget-view+json": {
       "model_id": "",
       "version_major": 2,
       "version_minor": 0
      },
      "text/plain": [
       "FloatProgress(value=0.0, bar_style='info', description='Progress:', layout=Layout(height='25px', width='50%'),…"
      ]
     },
     "metadata": {},
     "output_type": "display_data"
    },
    {
     "name": "stdout",
     "output_type": "stream",
     "text": [
      "query3: org.apache.spark.rdd.RDD[(Long, (Double, Double))] = ShuffledRDD[286] at partitionBy at <console>:83\n",
      "query31: org.apache.spark.rdd.RDD[(Long, (Double, Double))] = ShuffledRDD[289] at partitionBy at <console>:83\n",
      "query3union: org.apache.spark.rdd.RDD[(Long, (Double, Double))] = PartitionerAwareUnionRDD[290] at union at <console>:82\n"
     ]
    }
   ],
   "source": [
    "val query3 = rddTaxiTrip.map(x => (x.startloc, (x.dropoff.getTime() - x.pickup.getTime())/(60*1000))).\n",
    "    aggregateByKey((0.0,0.0))((a,v)=>(a._1+v,a._2+1),(a1,a2)=>(a1._1+a2._1,a1._2+a2._2)).partitionBy(p)\n",
    "val query31 = rddTaxiTrip2.map(x => (x.startloc, (x.dropoff.getTime() - x.pickup.getTime())/(60*1000))).\n",
    "    aggregateByKey((0.0,0.0))((a,v)=>(a._1+v,a._2+1),(a1,a2)=>(a1._1+a2._1,a1._2+a2._2)).partitionBy(p)\n",
    "val query3union = query3.union(query31).cache()"
   ]
  },
  {
   "cell_type": "markdown",
   "id": "592cff56",
   "metadata": {},
   "source": [
    "##### Risultato raggruppato per vedere la differenza tra i due mesi rispetto alla zona di partenza"
   ]
  },
  {
   "cell_type": "code",
   "execution_count": 90,
   "id": "b414d6d3",
   "metadata": {},
   "outputs": [
    {
     "data": {
      "application/vnd.jupyter.widget-view+json": {
       "model_id": "655c9cbb046a43ae9449d48392545dda",
       "version_major": 2,
       "version_minor": 0
      },
      "text/plain": [
       "VBox()"
      ]
     },
     "metadata": {},
     "output_type": "display_data"
    },
    {
     "data": {
      "application/vnd.jupyter.widget-view+json": {
       "model_id": "",
       "version_major": 2,
       "version_minor": 0
      },
      "text/plain": [
       "FloatProgress(value=0.0, bar_style='info', description='Progress:', layout=Layout(height='25px', width='50%'),…"
      ]
     },
     "metadata": {},
     "output_type": "display_data"
    },
    {
     "name": "stdout",
     "output_type": "stream",
     "text": [
      "q: Array[(Iterable[Double], Long)] = Array((CompactBuffer(35.26170798898072, 37.86046511627907),1), (CompactBuffer(29.887379973950182, 30.010265920054298),132), (CompactBuffer(29.043478260869566, 14.444444444444445),2), (CompactBuffer(26.88235294117647, 25.642857142857142),110), (CompactBuffer(23.692460239286607, 25.2119881087581),138), (CompactBuffer(22.56801909307876, 22.26112759643917),27), (CompactBuffer(22.0, 17.0),199), (CompactBuffer(21.416037008481112, 21.901016009852217),202), (CompactBuffer(20.15281650864473, 20.65938242280285),46), (CompactBuffer(19.722795265101055, 21.199589471142236),117))\n"
     ]
    }
   ],
   "source": [
    "val q = query3union.map({case(k,v) => (k,v._1/v._2)}).groupByKey().map({case(k,v) => (v,k)}).sortByKey(false).take(10)"
   ]
  },
  {
   "cell_type": "markdown",
   "id": "0284adf3",
   "metadata": {},
   "source": [
    "#### Attenzione"
   ]
  },
  {
   "cell_type": "code",
   "execution_count": 68,
   "id": "d646a4f1",
   "metadata": {
    "scrolled": false
   },
   "outputs": [
    {
     "data": {
      "application/vnd.jupyter.widget-view+json": {
       "model_id": "0bd6fa2d55214179950b854c42a0edd9",
       "version_major": 2,
       "version_minor": 0
      },
      "text/plain": [
       "VBox()"
      ]
     },
     "metadata": {},
     "output_type": "display_data"
    },
    {
     "data": {
      "application/vnd.jupyter.widget-view+json": {
       "model_id": "",
       "version_major": 2,
       "version_minor": 0
      },
      "text/plain": [
       "FloatProgress(value=0.0, bar_style='info', description='Progress:', layout=Layout(height='25px', width='50%'),…"
      ]
     },
     "metadata": {},
     "output_type": "display_data"
    },
    {
     "name": "stdout",
     "output_type": "stream",
     "text": [
      "query6: org.apache.spark.rdd.RDD[(Long, Long)] = MapPartitionsRDD[203] at map at <console>:30\n",
      "query61: org.apache.spark.rdd.RDD[(Long, Long)] = MapPartitionsRDD[204] at map at <console>:29\n",
      "query6union: org.apache.spark.rdd.RDD[(Long, Long)] = UnionRDD[205] at union at <console>:30\n"
     ]
    }
   ],
   "source": [
    "//CAPIRE QUALE è IL RISULTATO\n",
    "val query6 = rddTaxiTrip.map(x => (x.startloc, (x.dropoff.getTime() - x.pickup.getTime())/(60*1000)))\n",
    "val query61 = rddTaxiTrip2.map(x => (x.startloc, (x.dropoff.getTime() - x.pickup.getTime())/(60*1000)))\n",
    "val query6union = query5.union(query51).cache()\n",
    "//query5union.take(3)\n",
    "query6union.aggregateByKey((0.0,0.0))((a,v)=>(a._1+v,a._2+1),(a1,a2)=>(a1._1+a2._1,a1._2+a2._2)).partitionBy(p)\n",
    "query6union.map({case(k,v) => (k/v)}).take(10)\n",
    "query6union.map({case(k,v) => (k,v._1/v._2)}).sortByKey(false).take(10)"
   ]
  },
  {
   "cell_type": "markdown",
   "id": "a46913a6",
   "metadata": {},
   "source": [
    "### IN MEDIA QUANTI VIAGGI FA CIASCUNA LICENZA\n",
    "\n",
    "Inizialmente, la funzione \"map\" viene utilizzata per estrarre le informazioni relative al numero di licenze e al numero di viaggi effettuati. Infine, la funzione \"aggregate\" viene utilizzata per calcolare la somma totale dei viaggi e il numero totale di licenze. Infine, viene calcolata la media."
   ]
  },
  {
   "cell_type": "code",
   "execution_count": 92,
   "id": "1f8c8afe",
   "metadata": {},
   "outputs": [
    {
     "data": {
      "application/vnd.jupyter.widget-view+json": {
       "model_id": "b3012d3239a94ca69adf57bea6c60e13",
       "version_major": 2,
       "version_minor": 0
      },
      "text/plain": [
       "VBox()"
      ]
     },
     "metadata": {},
     "output_type": "display_data"
    },
    {
     "data": {
      "application/vnd.jupyter.widget-view+json": {
       "model_id": "",
       "version_major": 2,
       "version_minor": 0
      },
      "text/plain": [
       "FloatProgress(value=0.0, bar_style='info', description='Progress:', layout=Layout(height='25px', width='50%'),…"
      ]
     },
     "metadata": {},
     "output_type": "display_data"
    },
    {
     "name": "stdout",
     "output_type": "stream",
     "text": [
      "query4: (Int, Int) = (11908468,32)\n",
      "res190: String = Media: 372139\n"
     ]
    }
   ],
   "source": [
    "val query4 = rddTaxiTrip.map(x => (x.license,1)).\n",
    "reduceByKey(_+_).\n",
    "aggregate((0,0))((a,v)=>(a._1+v._2, a._2+1),(a1,a2)=>(a1._1+a2._1,a1._2+a2._2))\n",
    "\"Media: \" + (query4._1/query4._2)"
   ]
  },
  {
   "cell_type": "markdown",
   "id": "ea4e4d4e",
   "metadata": {},
   "source": [
    "### CLASSE DI LICENZA CHE FA PIU VIAGGI, CON LA PRESENZA ANCHE DELLA TARIFFA CLIENTE\n",
    "\n",
    "Questo codice stampa i risultati delle classi di licenze che fa più viaggi in relazione anche al guadagno. In particolare, il codice mappa ogni elemento in una tupla in cui la chiave è la licenza, contenente il guadagno e il numero di viaggi di ogni licenza. Poi, i dati vengono aggregati tramite la funzione reduceByKey che somma i valori associati alla stessa chiave. Successivamente, il risultato viene mappato in una tupla contenente il nome della licenza, il guadagno totale e il numero di viaggi totali e viene ordinato in modo decrescente in base al guadagno. Infine, vengono stampati gli elementi della lista di risultati ottenuti dalla funzione collect()."
   ]
  },
  {
   "cell_type": "code",
   "execution_count": 93,
   "id": "5c9563e6",
   "metadata": {
    "scrolled": true
   },
   "outputs": [
    {
     "data": {
      "application/vnd.jupyter.widget-view+json": {
       "model_id": "267ddb4486fd41ad83c2b5fbbab8c8e9",
       "version_major": 2,
       "version_minor": 0
      },
      "text/plain": [
       "VBox()"
      ]
     },
     "metadata": {},
     "output_type": "display_data"
    },
    {
     "data": {
      "application/vnd.jupyter.widget-view+json": {
       "model_id": "",
       "version_major": 2,
       "version_minor": 0
      },
      "text/plain": [
       "FloatProgress(value=0.0, bar_style='info', description='Progress:', layout=Layout(height='25px', width='50%'),…"
      ]
     },
     "metadata": {},
     "output_type": "display_data"
    },
    {
     "name": "stdout",
     "output_type": "stream",
     "text": [
      "(HV0003,1.468278860287933E8,8704128)\n",
      "(HV0005,5.509768345985989E7,3094325)\n",
      "(HV0004,2816007.860000914,110015)\n",
      "query5: Unit = ()\n"
     ]
    }
   ],
   "source": [
    "val query5 = rddTaxiTrip.map(x => (x.licenseClass,(x.fare,1))).\n",
    "reduceByKey((t1,t2) => (t1._1+t2._1, t1._2+t2._2)).\n",
    "map(v => (v._1,v._2._1, v._2._2)).\n",
    "sortBy(_._2,false).\n",
    "collect().foreach(println(_))"
   ]
  },
  {
   "cell_type": "markdown",
   "id": "771eb861",
   "metadata": {},
   "source": [
    "### LICENZA CHE FA PIU VIAGGI, CON LA PRESENZA ANCHE DELLA TARIFFA CLIENTE\n",
    "\n",
    "Qui viene eseguita una replica della query precedente, basandosi su ogni singola licenza."
   ]
  },
  {
   "cell_type": "code",
   "execution_count": 94,
   "id": "711ff7ac",
   "metadata": {},
   "outputs": [
    {
     "data": {
      "application/vnd.jupyter.widget-view+json": {
       "model_id": "3bfc28e117ab4e5f8ce722994921f371",
       "version_major": 2,
       "version_minor": 0
      },
      "text/plain": [
       "VBox()"
      ]
     },
     "metadata": {},
     "output_type": "display_data"
    },
    {
     "data": {
      "application/vnd.jupyter.widget-view+json": {
       "model_id": "",
       "version_major": 2,
       "version_minor": 0
      },
      "text/plain": [
       "FloatProgress(value=0.0, bar_style='info', description='Progress:', layout=Layout(height='25px', width='50%'),…"
      ]
     },
     "metadata": {},
     "output_type": "display_data"
    },
    {
     "name": "stdout",
     "output_type": "stream",
     "text": [
      "(B02510,5.503748608986006E7,3091000)\n",
      "(B02764,1.709378720999917E7,1009388)\n",
      "(B02872,1.5509604710001156E7,924960)\n",
      "(B02875,1.2014741050004447E7,735450)\n",
      "(B02765,1.0189792220006326E7,591242)\n",
      "(B02869,7744772.440006703,452098)\n",
      "(B02887,5608155.9400040135,333768)\n",
      "(B02871,5581241.000004057,330085)\n",
      "(B02682,5456731.730003582,321599)\n",
      "(B02866,5284853.590003659,309274)\n",
      "(B02864,5203100.810003353,316395)\n",
      "(B02878,5125333.480003258,312013)\n",
      "(B02617,4884453.930003084,281432)\n",
      "(B02883,4582633.870002626,268391)\n",
      "(B02884,4354322.950002186,257674)\n",
      "(B02882,4097472.360001952,241988)\n",
      "(B02876,3929723.280001779,230732)\n",
      "(B02867,3730036.2400015946,217449)\n",
      "(B02879,3572925.7100014733,216993)\n",
      "(B02877,3490842.3500013095,208986)\n",
      "(B02835,3355979.0300012426,200129)\n",
      "(B02888,3032522.3300008504,177542)\n",
      "(B02800,2776613.2300008354,108146)\n",
      "(B02889,2500286.6500002183,149398)\n",
      "(B02836,2385524.3700000723,140365)\n",
      "(B02395,2056890.0899998054,124107)\n",
      "(B02880,2039189.9299998167,119173)\n",
      "(B02870,1768859.4399998628,106975)\n",
      "(B02865,1385092.2499999353,82291)\n",
      "(B02512,849017.0699999768,44231)\n",
      "(B02844,60197.37000000005,3325)\n",
      "(B03136,39394.629999999925,1869)\n",
      "query6: Unit = ()\n"
     ]
    }
   ],
   "source": [
    "val query6 = rddTaxiTrip.map(x => (x.license,(x.fare,1))).\n",
    "reduceByKey((t1,t2) => (t1._1+t2._1, t1._2+t2._2)).\n",
    "map(v => (v._1,v._2._1, v._2._2)).\n",
    "sortBy(_._2,false).\n",
    "collect().foreach(println(_))"
   ]
  },
  {
   "cell_type": "markdown",
   "id": "2c1af28e",
   "metadata": {},
   "source": [
    "### MAP PER QUERY GROUP BY LOCATION/TIME, REDUCE BY KEY PER CONTARE LE OCCORRENZE DEI RECORD, MAP PER SCAMBIARE CHIAVE-VALORE PER POTER ORDINARE I VALORI PER VEDERE LE ZONE/PERIODI PIU GETTONATI\n"
   ]
  },
  {
   "cell_type": "code",
   "execution_count": 95,
   "id": "4cd46f70",
   "metadata": {},
   "outputs": [
    {
     "data": {
      "application/vnd.jupyter.widget-view+json": {
       "model_id": "8c61d978c16d465ca8fe34322e677e84",
       "version_major": 2,
       "version_minor": 0
      },
      "text/plain": [
       "VBox()"
      ]
     },
     "metadata": {},
     "output_type": "display_data"
    },
    {
     "data": {
      "application/vnd.jupyter.widget-view+json": {
       "model_id": "",
       "version_major": 2,
       "version_minor": 0
      },
      "text/plain": [
       "FloatProgress(value=0.0, bar_style='info', description='Progress:', layout=Layout(height='25px', width='50%'),…"
      ]
     },
     "metadata": {},
     "output_type": "display_data"
    },
    {
     "name": "stdout",
     "output_type": "stream",
     "text": [
      "query7: org.apache.spark.rdd.RDD[(Int, Int)] = ShuffledRDD[318] at partitionBy at <console>:85\n",
      "query7802: org.apache.spark.rdd.RDD[(Int, Int)] = ShuffledRDD[320] at partitionBy at <console>:83\n",
      "query7union: org.apache.spark.rdd.RDD[(Int, Int)] = PartitionerAwareUnionRDD[321] at union at <console>:83\n",
      "res195: Array[(Int, Int)] = Array((4107150,6), (4102794,7), (3425392,1), (3205149,5), (3142246,4), (2869346,3), (2670333,2))\n"
     ]
    }
   ],
   "source": [
    "//rddTaxiTrip.map(x => (x.startloc, 1)).reduceByKey((x,y) => x + y).map({case(k,v) => (v,k)}).sortByKey(false).collect()\n",
    "\n",
    "val query7 = rddTaxiTrip.map(x => (getDayTime(x.pickup.getTime()).get(Calendar.DAY_OF_WEEK), 1)).partitionBy(p)\n",
    "val query7802 = rddTaxiTrip2.map(x => (getDayTime(x.pickup.getTime()).get(Calendar.DAY_OF_WEEK), 1)).partitionBy(p)\n",
    "\n",
    "val query7union = query7.union(query7802).cache()\n",
    "\n",
    "query7union.reduceByKey((x,y) => x + y).map({case(k,v) => (v,k)}).sortByKey(false).collect()"
   ]
  },
  {
   "cell_type": "markdown",
   "id": "91f21e51",
   "metadata": {},
   "source": [
    "### DISTANZA MEDIA PERCORSA DAI TAXI IN UN SINGOLO VIAGGIO, IN RELAZIONE ALLA ZONA"
   ]
  },
  {
   "cell_type": "code",
   "execution_count": 96,
   "id": "321f1ef0",
   "metadata": {},
   "outputs": [
    {
     "data": {
      "application/vnd.jupyter.widget-view+json": {
       "model_id": "567807a3c5ea4902acd74f4aff5e9410",
       "version_major": 2,
       "version_minor": 0
      },
      "text/plain": [
       "VBox()"
      ]
     },
     "metadata": {},
     "output_type": "display_data"
    },
    {
     "data": {
      "application/vnd.jupyter.widget-view+json": {
       "model_id": "",
       "version_major": 2,
       "version_minor": 0
      },
      "text/plain": [
       "FloatProgress(value=0.0, bar_style='info', description='Progress:', layout=Layout(height='25px', width='50%'),…"
      ]
     },
     "metadata": {},
     "output_type": "display_data"
    },
    {
     "name": "stdout",
     "output_type": "stream",
     "text": [
      "query8: org.apache.spark.rdd.RDD[(Long, (Double, Double))] = ShuffledRDD[330] at partitionBy at <console>:83\n",
      "query81: org.apache.spark.rdd.RDD[(Long, (Double, Double))] = ShuffledRDD[334] at partitionBy at <console>:83\n"
     ]
    }
   ],
   "source": [
    "val query8 = rddTaxiTrip.filter(_.distance < 100).map(x => (x.startloc,x.distance)).\n",
    "    aggregateByKey((0.0,0.0))((a,v)=>(a._1+v,a._2+1),(a1,a2)=>(a1._1+a2._1,a1._2+a2._2)).partitionBy(p)\n",
    "val query81 = rddTaxiTrip2.filter(_.distance < 100).map(x => (x.startloc,x.distance)).\n",
    "    aggregateByKey((0.0,0.0))((a,v)=>(a._1+v,a._2+1),(a1,a2)=>(a1._1+a2._1,a1._2+a2._2)).partitionBy(p)"
   ]
  },
  {
   "cell_type": "code",
   "execution_count": 97,
   "id": "f71ade4a",
   "metadata": {},
   "outputs": [
    {
     "data": {
      "application/vnd.jupyter.widget-view+json": {
       "model_id": "013da3b46f2344d08071806131761393",
       "version_major": 2,
       "version_minor": 0
      },
      "text/plain": [
       "VBox()"
      ]
     },
     "metadata": {},
     "output_type": "display_data"
    },
    {
     "data": {
      "application/vnd.jupyter.widget-view+json": {
       "model_id": "",
       "version_major": 2,
       "version_minor": 0
      },
      "text/plain": [
       "FloatProgress(value=0.0, bar_style='info', description='Progress:', layout=Layout(height='25px', width='50%'),…"
      ]
     },
     "metadata": {},
     "output_type": "display_data"
    },
    {
     "name": "stdout",
     "output_type": "stream",
     "text": [
      "query8union: org.apache.spark.rdd.RDD[(Long, (Double, Double))] = PartitionerAwareUnionRDD[335] at union at <console>:82\n"
     ]
    }
   ],
   "source": [
    "val query8union = query8.union(query81).cache()"
   ]
  },
  {
   "cell_type": "code",
   "execution_count": 98,
   "id": "9b415fb7",
   "metadata": {},
   "outputs": [
    {
     "data": {
      "application/vnd.jupyter.widget-view+json": {
       "model_id": "9be6e81d93aa4bb396cdca1d2ec782f5",
       "version_major": 2,
       "version_minor": 0
      },
      "text/plain": [
       "VBox()"
      ]
     },
     "metadata": {},
     "output_type": "display_data"
    },
    {
     "data": {
      "application/vnd.jupyter.widget-view+json": {
       "model_id": "",
       "version_major": 2,
       "version_minor": 0
      },
      "text/plain": [
       "FloatProgress(value=0.0, bar_style='info', description='Progress:', layout=Layout(height='25px', width='50%'),…"
      ]
     },
     "metadata": {},
     "output_type": "display_data"
    },
    {
     "name": "stdout",
     "output_type": "stream",
     "text": [
      "q8: Array[(Double, Long)] = Array((20.136333333333326,1), (19.978372093023246,1), (15.583862644195618,132), (14.864652072083206,132), (11.889173913043477,2), (10.915017273061434,138), (10.765875894988065,27), (10.74933302682418,138), (10.515,199), (10.507823529411766,110))\n"
     ]
    }
   ],
   "source": [
    "val q8 = query8union.map({case(k,v) => (k,v._1/v._2)}).map({case(k,v) => (v,k)}).sortByKey(false).take(10)"
   ]
  },
  {
   "cell_type": "code",
   "execution_count": 99,
   "id": "ac5e2860",
   "metadata": {},
   "outputs": [
    {
     "data": {
      "application/vnd.jupyter.widget-view+json": {
       "model_id": "cd81dd8e89a54303ba58bf1fe7b69763",
       "version_major": 2,
       "version_minor": 0
      },
      "text/plain": [
       "VBox()"
      ]
     },
     "metadata": {},
     "output_type": "display_data"
    },
    {
     "data": {
      "application/vnd.jupyter.widget-view+json": {
       "model_id": "",
       "version_major": 2,
       "version_minor": 0
      },
      "text/plain": [
       "FloatProgress(value=0.0, bar_style='info', description='Progress:', layout=Layout(height='25px', width='50%'),…"
      ]
     },
     "metadata": {},
     "output_type": "display_data"
    },
    {
     "name": "stdout",
     "output_type": "stream",
     "text": [
      "import org.apache.spark.sql.{SparkSession, Row}\n",
      "import org.apache.spark.sql.types.{DoubleType, LongType, StructField, StructType}\n",
      "spark: org.apache.spark.sql.SparkSession = org.apache.spark.sql.SparkSession@31366754\n",
      "schema: org.apache.spark.sql.types.StructType = StructType(StructField(Value,DoubleType,true),StructField(Key,LongType,true))\n",
      "rows: Array[org.apache.spark.sql.Row] = Array([20.136333333333326,1], [19.978372093023246,1], [15.583862644195618,132], [14.864652072083206,132], [11.889173913043477,2], [10.915017273061434,138], [10.765875894988065,27], [10.74933302682418,138], [10.515,199], [10.507823529411766,110])\n",
      "df: org.apache.spark.sql.DataFrame = [Value: double, Key: bigint]\n"
     ]
    }
   ],
   "source": [
    "import org.apache.spark.sql.{SparkSession, Row}\n",
    "import org.apache.spark.sql.types.{DoubleType, LongType, StructField, StructType}\n",
    "\n",
    "// Crea la sessione Spark\n",
    "val spark = SparkSession.builder.getOrCreate()\n",
    "\n",
    "// Definisci lo schema del DataFrame\n",
    "val schema = StructType(Seq(\n",
    "  StructField(\"Value\", DoubleType, nullable = true),\n",
    "  StructField(\"Key\", LongType, nullable = true)\n",
    "))\n",
    "\n",
    "// Crea un array di oggetti Row\n",
    "val rows = q8.map { case (v, k) => Row(v, k) }\n",
    "\n",
    "// Crea il DataFrame utilizzando lo schema e l'array di righe\n",
    "val df = spark.createDataFrame(spark.sparkContext.parallelize(rows), schema)\n",
    "\n",
    "// Salva il DataFrame come file CSV\n",
    "df.write.format(\"csv\").mode(SaveMode.Overwrite).save(\"s3a://\"+bucketname+\"/datasets/project/output/avgDistance\")"
   ]
  },
  {
   "cell_type": "markdown",
   "id": "54200087",
   "metadata": {},
   "source": [
    "SQL"
   ]
  },
  {
   "cell_type": "code",
   "execution_count": 100,
   "id": "c679e1a5",
   "metadata": {},
   "outputs": [
    {
     "data": {
      "application/vnd.jupyter.widget-view+json": {
       "model_id": "f29bc8bd525b4aa29ea2c913431d0df6",
       "version_major": 2,
       "version_minor": 0
      },
      "text/plain": [
       "VBox()"
      ]
     },
     "metadata": {},
     "output_type": "display_data"
    },
    {
     "data": {
      "application/vnd.jupyter.widget-view+json": {
       "model_id": "",
       "version_major": 2,
       "version_minor": 0
      },
      "text/plain": [
       "FloatProgress(value=0.0, bar_style='info', description='Progress:', layout=Layout(height='25px', width='50%'),…"
      ]
     },
     "metadata": {},
     "output_type": "display_data"
    },
    {
     "name": "stdout",
     "output_type": "stream",
     "text": [
      "parkDF: org.apache.spark.sql.DataFrame = [hvfhs_license_num: string, dispatching_base_num: string ... 22 more fields]\n",
      "res208: org.apache.spark.sql.DataFrame = [hvfhs_license_num: string, dispatching_base_num: string ... 22 more fields]\n"
     ]
    }
   ],
   "source": [
    "parquetFileDF.createOrReplaceTempView(\"parquetFile\")\n",
    "val parkDF = spark.sql(\"Select * from parquetFile\")\n",
    "parkDF"
   ]
  },
  {
   "cell_type": "markdown",
   "id": "2edd8d3e",
   "metadata": {},
   "source": [
    "### ANALISI SUL GUADAGNO MEDIO DI OGNI SINGOLO VIAGGIO PER OGNI GIORNO\n",
    "Il codice ha lo scopo di calcolare il guadagno medio di ogni classe di licenza in base al giorno in cui si è svolto il viaggio. Il risultato è stato poi salvato in un file CSV.<br>\n",
    "Sono state eseguite le seguenti operazioni:\n",
    "* Viene eseguito creato un RDD (avgFareByDay) che associa a ciascuna coppia (classe di licenza, Giorno) una tupla contenente la somma del guadagno e il numero di viaggi durante il giorno.\n",
    "* Viene quindi eseguita una riduzione per chiave (reduceByKey) per aggregare i dati raggruppati per classe di licenza e giorno.\n",
    "* Successivamente, viene eseguita una mappatura (mapValues) per calcolare il guadagno medio di ogni viaggio per ogni giorno.\n",
    "* In seguito, viene eseguita una mappatura (map) per riorganizzare i dati e raggrupparli per classe di licenza.\n",
    "* Vengono poi eseguite ulteriori operazioni di trasformazione (flatMap e coalesce) per preparare i dati per il salvataggio su file CSV.\n",
    "* Infine, viene convertito l'RDD in un DataFrame e salvato in un file CSV.\n"
   ]
  },
  {
   "cell_type": "code",
   "execution_count": 101,
   "id": "72fe3eb8",
   "metadata": {},
   "outputs": [
    {
     "data": {
      "application/vnd.jupyter.widget-view+json": {
       "model_id": "8d5790c6bc7f4e04b2668569d115a956",
       "version_major": 2,
       "version_minor": 0
      },
      "text/plain": [
       "VBox()"
      ]
     },
     "metadata": {},
     "output_type": "display_data"
    },
    {
     "data": {
      "application/vnd.jupyter.widget-view+json": {
       "model_id": "",
       "version_major": 2,
       "version_minor": 0
      },
      "text/plain": [
       "FloatProgress(value=0.0, bar_style='info', description='Progress:', layout=Layout(height='25px', width='50%'),…"
      ]
     },
     "metadata": {},
     "output_type": "display_data"
    },
    {
     "name": "stdout",
     "output_type": "stream",
     "text": [
      "avgFareByDay: org.apache.spark.rdd.RDD[(String, Double, Int)] = MapPartitionsRDD[347] at map at <console>:88\n"
     ]
    }
   ],
   "source": [
    "val avgFareByDay = rddTaxiTrip.map(x => ((x.licenseClass, getDayTime(x.pickup.getTime()).get(Calendar.DAY_OF_WEEK)), (x.fare, 1))).\n",
    "  reduceByKey((accum, value) => (accum._1 + value._1, accum._2 + value._2)).\n",
    "  mapValues(sumCount => sumCount._1 / sumCount._2).\n",
    "  map(item => (item._1._1, item._2, item._1._2))\n",
    "  //collect() //(licenza,avg,giorno)\n"
   ]
  },
  {
   "cell_type": "code",
   "execution_count": 102,
   "id": "155806d3",
   "metadata": {},
   "outputs": [
    {
     "data": {
      "application/vnd.jupyter.widget-view+json": {
       "model_id": "97fb64e2f4cc426f9e9047aca2623898",
       "version_major": 2,
       "version_minor": 0
      },
      "text/plain": [
       "VBox()"
      ]
     },
     "metadata": {},
     "output_type": "display_data"
    },
    {
     "data": {
      "application/vnd.jupyter.widget-view+json": {
       "model_id": "",
       "version_major": 2,
       "version_minor": 0
      },
      "text/plain": [
       "FloatProgress(value=0.0, bar_style='info', description='Progress:', layout=Layout(height='25px', width='50%'),…"
      ]
     },
     "metadata": {},
     "output_type": "display_data"
    },
    {
     "name": "stdout",
     "output_type": "stream",
     "text": [
      "avgFareByLicense: org.apache.spark.rdd.RDD[(String, Iterable[(Double, Int)])] = MapPartitionsRDD[350] at mapValues at <console>:86\n"
     ]
    }
   ],
   "source": [
    "// Raggruppo per licenza\n",
    "val avgFareByLicense = avgFareByDay.groupBy(_._1).\n",
    "  mapValues(_.map(item => (item._2, item._3)))//.collect()\n"
   ]
  },
  {
   "cell_type": "code",
   "execution_count": 103,
   "id": "f89db2b6",
   "metadata": {},
   "outputs": [
    {
     "data": {
      "application/vnd.jupyter.widget-view+json": {
       "model_id": "e8cb3517df964911976dfc6ec90637e6",
       "version_major": 2,
       "version_minor": 0
      },
      "text/plain": [
       "VBox()"
      ]
     },
     "metadata": {},
     "output_type": "display_data"
    },
    {
     "data": {
      "application/vnd.jupyter.widget-view+json": {
       "model_id": "",
       "version_major": 2,
       "version_minor": 0
      },
      "text/plain": [
       "FloatProgress(value=0.0, bar_style='info', description='Progress:', layout=Layout(height='25px', width='50%'),…"
      ]
     },
     "metadata": {},
     "output_type": "display_data"
    },
    {
     "name": "stdout",
     "output_type": "stream",
     "text": [
      "avgFareByLicenseAndDay: org.apache.spark.rdd.RDD[((String, Int), Double)] = CoalescedRDD[352] at coalesce at <console>:89\n"
     ]
    }
   ],
   "source": [
    "//flatmap con chiave prodotto e anno\n",
    "val avgFareByLicenseAndDay = avgFareByLicense.flatMap { \n",
    "    case (license, dayFare) => dayFare.map { \n",
    "        case (avgFare, day) => ((license, day),avgFare)\n",
    "  }\n",
    "}.coalesce(1)"
   ]
  },
  {
   "cell_type": "code",
   "execution_count": 104,
   "id": "d555a8f4",
   "metadata": {},
   "outputs": [
    {
     "data": {
      "application/vnd.jupyter.widget-view+json": {
       "model_id": "bed752dcc0df43d3b46318a77d46e31b",
       "version_major": 2,
       "version_minor": 0
      },
      "text/plain": [
       "VBox()"
      ]
     },
     "metadata": {},
     "output_type": "display_data"
    },
    {
     "data": {
      "application/vnd.jupyter.widget-view+json": {
       "model_id": "",
       "version_major": 2,
       "version_minor": 0
      },
      "text/plain": [
       "FloatProgress(value=0.0, bar_style='info', description='Progress:', layout=Layout(height='25px', width='50%'),…"
      ]
     },
     "metadata": {},
     "output_type": "display_data"
    },
    {
     "name": "stdout",
     "output_type": "stream",
     "text": [
      "import org.apache.spark.sql.SaveMode\n",
      "df: org.apache.spark.sql.DataFrame = [_1: string, _2: int ... 1 more field]\n"
     ]
    }
   ],
   "source": [
    "import org.apache.spark.sql.SaveMode\n",
    "// Conversione in DataFrame con stringa\n",
    "val df = avgFareByLicenseAndDay.map{case ((license, day), avgFare) => (license,day,avgFare)}.toDF()\n",
    "\n",
    "// Salvataggio su file CSV\n",
    "df.write.format(\"csv\").mode(SaveMode.Overwrite).save(\"s3a://\"+bucketname+\"/datasets/project/output/avgFare\")"
   ]
  },
  {
   "cell_type": "code",
   "execution_count": null,
   "id": "cf40df6f",
   "metadata": {},
   "outputs": [],
   "source": []
  },
  {
   "cell_type": "code",
   "execution_count": 105,
   "id": "03ddace5",
   "metadata": {},
   "outputs": [
    {
     "data": {
      "application/vnd.jupyter.widget-view+json": {
       "model_id": "3ebac6cade5746ec9491e2295ff7bb6e",
       "version_major": 2,
       "version_minor": 0
      },
      "text/plain": [
       "VBox()"
      ]
     },
     "metadata": {},
     "output_type": "display_data"
    },
    {
     "data": {
      "application/vnd.jupyter.widget-view+json": {
       "model_id": "",
       "version_major": 2,
       "version_minor": 0
      },
      "text/plain": [
       "FloatProgress(value=0.0, bar_style='info', description='Progress:', layout=Layout(height='25px', width='50%'),…"
      ]
     },
     "metadata": {},
     "output_type": "display_data"
    }
   ],
   "source": [
    "//rddTaxiTrip.map(x => x.startloc).distinct().count()\n",
    "//rddTaxiTrip.map(x => x.license).distinct().count()\n",
    "//rddTaxiTrip2.map(x => x.startloc).distinct().count()\n",
    "//rddTaxiTrip2.map(x => x.license).distinct().count()\n",
    "//rddTaxiTrip.map(x => x.startloc).take(5)\n",
    "//rddTaxiTrip.map(x => x.license).take(5)\n",
    "//rddTaxiTrip.map(x => x.request).take(5)\n",
    "//rddTaxiTrip.map(x => x.request.getTime()).take(5)\n",
    "//rddTaxiTrip.map(x => x.fare).take(5)"
   ]
  }
 ],
 "metadata": {
  "kernelspec": {
   "display_name": "Spark",
   "language": "scala",
   "name": "sparkkernel"
  },
  "language_info": {
   "codemirror_mode": "text/x-scala",
   "file_extension": ".sc",
   "mimetype": "text/x-scala",
   "name": "scala",
   "pygments_lexer": "scala"
  }
 },
 "nbformat": 4,
 "nbformat_minor": 5
}
