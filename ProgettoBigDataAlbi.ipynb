{
 "cells": [
  {
   "cell_type": "markdown",
   "id": "7ca6d370",
   "metadata": {},
   "source": [
    "###### Il progetto è visibile su github al seguente indirizzo: https://github.com/albianto97/bigdataFile.\n",
    "\n",
    "Il dataset analizzato (https://www.kaggle.com/datasets/shuhengmo/uber-nyc-forhire-vehicles-trip-data-2021), contiene informazioni sui viaggi fatti da varie licenze \"taxi\" nella città di New York.\n",
    "La grandezza totale del dataset è di 5 GB e contiene molte informazioni sui luoghi di partenza, arrivo, prezzo e varie tempistiche come l'orario e giorno di partenza e quelli d'arrivo."
   ]
  },
  {
   "cell_type": "code",
   "execution_count": 50,
   "id": "3dd9066f-ba4d-4509-bb38-7b68db61974e",
   "metadata": {
    "execution": {
     "iopub.status.busy": "2023-05-02T14:56:30.622554Z",
     "iopub.status.idle": "2023-05-02T14:56:30.622827Z",
     "shell.execute_reply": "2023-05-02T14:56:30.622709Z"
    },
    "tags": []
   },
   "outputs": [
    {
     "name": "stdout",
     "output_type": "stream",
     "text": [
      "Starting Spark application\n"
     ]
    },
    {
     "data": {
      "text/html": [
       "<table>\n",
       "<tr><th>ID</th><th>YARN Application ID</th><th>Kind</th><th>State</th><th>Spark UI</th><th>Driver log</th><th>User</th><th>Current session?</th></tr><tr><td>1</td><td>application_1686317366919_0002</td><td>spark</td><td>idle</td><td><a target=\"_blank\" href=\"http://ip-172-31-26-106.ec2.internal:20888/proxy/application_1686317366919_0002/\" class=\"emr-proxy-link\" emr-resource=\"j-27XCY26DKWSKK\n",
       "\" application-id=\"application_1686317366919_0002\">Link</a></td><td><a target=\"_blank\" href=\"http://ip-172-31-17-246.ec2.internal:8042/node/containerlogs/container_1686317366919_0002_01_000001/livy\" >Link</a></td><td>None</td><td>✔</td></tr></table>"
      ],
      "text/plain": [
       "<IPython.core.display.HTML object>"
      ]
     },
     "metadata": {},
     "output_type": "display_data"
    },
    {
     "data": {
      "application/vnd.jupyter.widget-view+json": {
       "model_id": "",
       "version_major": 2,
       "version_minor": 0
      },
      "text/plain": [
       "FloatProgress(value=0.0, bar_style='info', description='Progress:', layout=Layout(height='25px', width='50%'),…"
      ]
     },
     "metadata": {},
     "output_type": "display_data"
    },
    {
     "name": "stdout",
     "output_type": "stream",
     "text": [
      "SparkSession available as 'spark'.\n"
     ]
    },
    {
     "data": {
      "text/html": [
       "Current session configs: <tt>{'executorMemory': '8G', 'numExecutors': 2, 'executorCores': 3, 'conf': {'spark.dynamicAllocation.enabled': 'false'}, 'proxyUser': 'assumed-role_voclabs_user2476921_alberto_antonelli2_studio_unibo_it', 'kind': 'spark'}</tt><br>"
      ],
      "text/plain": [
       "<IPython.core.display.HTML object>"
      ]
     },
     "metadata": {},
     "output_type": "display_data"
    },
    {
     "data": {
      "text/html": [
       "<table>\n",
       "<tr><th>ID</th><th>YARN Application ID</th><th>Kind</th><th>State</th><th>Spark UI</th><th>Driver log</th><th>User</th><th>Current session?</th></tr><tr><td>1</td><td>application_1686317366919_0002</td><td>spark</td><td>idle</td><td><a target=\"_blank\" href=\"http://ip-172-31-26-106.ec2.internal:20888/proxy/application_1686317366919_0002/\" class=\"emr-proxy-link\" emr-resource=\"j-27XCY26DKWSKK\n",
       "\" application-id=\"application_1686317366919_0002\">Link</a></td><td><a target=\"_blank\" href=\"http://ip-172-31-17-246.ec2.internal:8042/node/containerlogs/container_1686317366919_0002_01_000001/livy\" >Link</a></td><td>None</td><td>✔</td></tr></table>"
      ],
      "text/plain": [
       "<IPython.core.display.HTML object>"
      ]
     },
     "metadata": {},
     "output_type": "display_data"
    }
   ],
   "source": [
    "%%configure -f\n",
    "{\"executorMemory\":\"6G\", \"numExecutors\":2, \"executorCores\":3, \"conf\":\n",
    "{\"spark.dynamicAllocation.enabled\": \"false\"}}\n"
   ]
  },
  {
   "cell_type": "code",
   "execution_count": 51,
   "id": "e065b9b8-df3a-4be8-9511-ac3dff1b2c5c",
   "metadata": {
    "execution": {
     "iopub.execute_input": "2023-05-02T14:56:48.458056Z",
     "iopub.status.busy": "2023-05-02T14:56:48.457735Z",
     "iopub.status.idle": "2023-05-02T14:57:21.879765Z",
     "shell.execute_reply": "2023-05-02T14:57:21.878870Z",
     "shell.execute_reply.started": "2023-05-02T14:56:48.458030Z"
    },
    "tags": []
   },
   "outputs": [
    {
     "data": {
      "application/vnd.jupyter.widget-view+json": {
       "model_id": "097aea54c18f459c8f17a8024a838467",
       "version_major": 2,
       "version_minor": 0
      },
      "text/plain": [
       "VBox()"
      ]
     },
     "metadata": {},
     "output_type": "display_data"
    },
    {
     "data": {
      "application/vnd.jupyter.widget-view+json": {
       "model_id": "",
       "version_major": 2,
       "version_minor": 0
      },
      "text/plain": [
       "FloatProgress(value=0.0, bar_style='info', description='Progress:', layout=Layout(height='25px', width='50%'),…"
      ]
     },
     "metadata": {},
     "output_type": "display_data"
    },
    {
     "name": "stdout",
     "output_type": "stream",
     "text": [
      "bucketname: String = unibo-bd-antonelli2023\n",
      "path_ml_tripdata: String = s3a://unibo-bd-antonelli2023/datasets/fhvhv_tripdata_2021-01.parquet\n",
      "path_ml_tripdata2: String = s3a://unibo-bd-antonelli2023/datasets/fhvhv_tripdata_2021-02.parquet\n",
      "res2: String = application_1686317366919_0002\n",
      "res4: String = SPARK UI: Enable forwarding of port 20888 and connect to http://localhost:20888/proxy/application_1686317366919_0002/\n"
     ]
    }
   ],
   "source": [
    "val bucketname = \"unibo-bd-antonelli2023\"\n",
    "val path_ml_tripdata =\n",
    "\"s3a://\"+bucketname+\"/datasets/fhvhv_tripdata_2021-01.parquet\"\n",
    "val path_ml_tripdata2 =\n",
    "\"s3a://\"+bucketname+\"/datasets/fhvhv_tripdata_2021-02.parquet\"\n",
    "\n",
    "sc.applicationId\n",
    "\n",
    "\"SPARK UI: Enable forwarding of port 20888 and connect to http://localhost:20888/proxy/\" + sc.applicationId + \"/\""
   ]
  },
  {
   "cell_type": "markdown",
   "id": "b36d4e57",
   "metadata": {},
   "source": [
    "I dati sono presenti nel formato Parquet; dopo essere stati importati, tutti i job sono stati fatti dopo una successiva conversione in RDD. I dati sono raggruppati mensilmente, per un totale di 12 file Parquet. \n",
    "\n",
    "Importazione dei dati in formato Parquet."
   ]
  },
  {
   "cell_type": "code",
   "execution_count": 52,
   "id": "f197b83d-b515-41c7-baf6-6799c2d06c4d",
   "metadata": {
    "execution": {
     "iopub.execute_input": "2023-05-02T15:09:24.941646Z",
     "iopub.status.busy": "2023-05-02T15:09:24.941321Z",
     "iopub.status.idle": "2023-05-02T15:09:36.258166Z",
     "shell.execute_reply": "2023-05-02T15:09:36.257233Z",
     "shell.execute_reply.started": "2023-05-02T15:09:24.941618Z"
    },
    "tags": []
   },
   "outputs": [
    {
     "data": {
      "application/vnd.jupyter.widget-view+json": {
       "model_id": "41ddcb418a004384bd1a1be9958e3b32",
       "version_major": 2,
       "version_minor": 0
      },
      "text/plain": [
       "VBox()"
      ]
     },
     "metadata": {},
     "output_type": "display_data"
    },
    {
     "data": {
      "application/vnd.jupyter.widget-view+json": {
       "model_id": "",
       "version_major": 2,
       "version_minor": 0
      },
      "text/plain": [
       "FloatProgress(value=0.0, bar_style='info', description='Progress:', layout=Layout(height='25px', width='50%'),…"
      ]
     },
     "metadata": {},
     "output_type": "display_data"
    },
    {
     "name": "stdout",
     "output_type": "stream",
     "text": [
      "import spark.implicits._\n",
      "parquetFileDF: org.apache.spark.sql.DataFrame = [hvfhs_license_num: string, dispatching_base_num: string ... 22 more fields]\n",
      "parquetFileDF2: org.apache.spark.sql.DataFrame = [hvfhs_license_num: string, dispatching_base_num: string ... 22 more fields]\n"
     ]
    }
   ],
   "source": [
    "import spark.implicits._\n",
    "val parquetFileDF = spark.read.parquet(path_ml_tripdata)\n",
    "val parquetFileDF2 = spark.read.parquet(path_ml_tripdata2)"
   ]
  },
  {
   "cell_type": "markdown",
   "id": "4bc3603e",
   "metadata": {},
   "source": [
    "# Analisi dei campi del dataset\n",
    "* licenseClass: tipo stringa che rappresenta la licenza de taxi.\n",
    "\t* HV0002: Juno\n",
    "    * HV0003: Uber\n",
    "    * HV0004: Via\n",
    "    * HV0005: Lyft\n",
    "* license: tipo Stringa che rappresenta il numero del taxi.\n",
    "* request: tipo Timestamp che rappresenta la data/ora della richiesta del viaggio.\n",
    "* pickup: tipo Timestamp  che rappresenta la data/ora dell'inizio del viaggio.\n",
    "* dropoff: tipo Timestamp che rappresenta la data/ora della fine del viaggio.\n",
    "* distance: tipo Double che rappresenta la distanza totale in miglia percorsa dal taxi per questo viaggio.\n",
    "* startloc: tipo Long che rappresenta la zona di partenza del viaggio.\n",
    "* endloc: tipo Long che rappresenta la zona di arrivo del viaggio.\n",
    "* fare: tipo Double che rappresenta il prezzo del viaggio."
   ]
  },
  {
   "cell_type": "code",
   "execution_count": 53,
   "id": "e6f0c88e-57e1-4632-8efa-552c0006fd91",
   "metadata": {
    "execution": {
     "iopub.execute_input": "2023-05-02T15:28:01.761139Z",
     "iopub.status.busy": "2023-05-02T15:28:01.760829Z",
     "iopub.status.idle": "2023-05-02T15:28:02.514224Z",
     "shell.execute_reply": "2023-05-02T15:28:02.513439Z",
     "shell.execute_reply.started": "2023-05-02T15:28:01.761114Z"
    },
    "tags": []
   },
   "outputs": [
    {
     "data": {
      "application/vnd.jupyter.widget-view+json": {
       "model_id": "fcda4eb4e5d04d979990ee419f07b08d",
       "version_major": 2,
       "version_minor": 0
      },
      "text/plain": [
       "VBox()"
      ]
     },
     "metadata": {},
     "output_type": "display_data"
    },
    {
     "data": {
      "application/vnd.jupyter.widget-view+json": {
       "model_id": "",
       "version_major": 2,
       "version_minor": 0
      },
      "text/plain": [
       "FloatProgress(value=0.0, bar_style='info', description='Progress:', layout=Layout(height='25px', width='50%'),…"
      ]
     },
     "metadata": {},
     "output_type": "display_data"
    },
    {
     "name": "stdout",
     "output_type": "stream",
     "text": [
      "import java.sql.Timestamp\n",
      "defined class TaxiTrip\n",
      "defined object TaxiTrip\n",
      "warning: previously defined class TaxiTrip is not a companion to object TaxiTrip.\n",
      "Companions must be defined together; you may wish to use :paste mode for this.\n"
     ]
    }
   ],
   "source": [
    "import java.sql.Timestamp\n",
    "case class TaxiTrip(\n",
    "  licenseClass:String,\n",
    "  license:String,  \n",
    "  request:Timestamp,\n",
    "  pickup:Timestamp,\n",
    "  dropoff:Timestamp,\n",
    "  distance:Double,\n",
    "  startloc:Long,\n",
    "  endloc:Long,\n",
    "  //time:Long,\n",
    "  fare:Double,\n",
    ")\n",
    "\n",
    "object TaxiTrip {\n",
    "    def extract(row:org.apache.spark.sql.Row) = {\n",
    "        val licenseClass = row.getString(0)\n",
    "        val license = row.getString(1)\n",
    "        val request = row.getTimestamp(4)\n",
    "        val pickup = row.getTimestamp(5)\n",
    "        val dropoff = row.getTimestamp(6)\n",
    "        val distance = row.getDouble(9)\n",
    "        val startloc = row.getLong(7)\n",
    "        val endloc = row.getLong(8)\n",
    "        //val time = row.getLong(10)\n",
    "        val fare = row.getDouble(11)\n",
    "        \n",
    "        new TaxiTrip(licenseClass,license,request,pickup,dropoff,distance,startloc,endloc,fare)\n",
    "        \n",
    "\n",
    "        //new TaxiTrip(license,request,pickup,dropoff,startloc,endloc,distance,time,fare)\n",
    "    }\n",
    "}"
   ]
  },
  {
   "cell_type": "markdown",
   "id": "6f4cee4a",
   "metadata": {},
   "source": [
    "La seguente funzione serve per convertire da formato timestamp a calendar, in modo da poter estrarre informazioni come giorno del mese, ora del giorno oppure giorno della settimana. <br>\n",
    "Si può notare che il dataset conteneva \"trip_time\" ossia il totale del tempo in secondi che i passeggeri hanno passato sul taxi durante il viaggio. <br>Ho preferito definire una funzione perchè sarebbe stata utile eventualmente per tutti i tempi importati dal dataset (request, pickup e dropoff)."
   ]
  },
  {
   "cell_type": "code",
   "execution_count": 54,
   "id": "a49dafe9-6e00-4430-a651-81cc461d0b20",
   "metadata": {
    "execution": {
     "iopub.execute_input": "2023-05-02T15:28:03.655889Z",
     "iopub.status.busy": "2023-05-02T15:28:03.655587Z",
     "iopub.status.idle": "2023-05-02T15:28:04.414267Z",
     "shell.execute_reply": "2023-05-02T15:28:04.413550Z",
     "shell.execute_reply.started": "2023-05-02T15:28:03.655864Z"
    },
    "tags": []
   },
   "outputs": [
    {
     "data": {
      "application/vnd.jupyter.widget-view+json": {
       "model_id": "8870d0aad0ad4711956d42fcdde37399",
       "version_major": 2,
       "version_minor": 0
      },
      "text/plain": [
       "VBox()"
      ]
     },
     "metadata": {},
     "output_type": "display_data"
    },
    {
     "data": {
      "application/vnd.jupyter.widget-view+json": {
       "model_id": "",
       "version_major": 2,
       "version_minor": 0
      },
      "text/plain": [
       "FloatProgress(value=0.0, bar_style='info', description='Progress:', layout=Layout(height='25px', width='50%'),…"
      ]
     },
     "metadata": {},
     "output_type": "display_data"
    },
    {
     "name": "stdout",
     "output_type": "stream",
     "text": [
      "import java.util.Calendar\n",
      "getDayTime: (time: Long)java.util.Calendar\n"
     ]
    }
   ],
   "source": [
    "import java.util.Calendar\n",
    "def getDayTime(time: Long): Calendar = {\n",
    "    var date:Calendar = Calendar.getInstance();\n",
    "    date.setTimeInMillis(time);\n",
    "    date\n",
    "}"
   ]
  },
  {
   "cell_type": "markdown",
   "id": "3b57b9f6",
   "metadata": {},
   "source": [
    "# Creazione e caching del RDD a partire dal file Parquet.\n",
    "Caching per migliorare le prestazioni in vista di futuri utilizzi.<br>Essendoci due executor con tre core ciascuno, il numero totale di core è sei. "
   ]
  },
  {
   "cell_type": "code",
   "execution_count": 55,
   "id": "c0fc0cb6-743c-417b-aedd-4d485fcd83ad",
   "metadata": {
    "execution": {
     "iopub.execute_input": "2023-05-02T15:28:04.415655Z",
     "iopub.status.busy": "2023-05-02T15:28:04.415418Z",
     "iopub.status.idle": "2023-05-02T15:28:05.670742Z",
     "shell.execute_reply": "2023-05-02T15:28:05.669880Z",
     "shell.execute_reply.started": "2023-05-02T15:28:04.415631Z"
    },
    "tags": []
   },
   "outputs": [
    {
     "data": {
      "application/vnd.jupyter.widget-view+json": {
       "model_id": "1f92d1c0daa34906a5a65ec32d323a12",
       "version_major": 2,
       "version_minor": 0
      },
      "text/plain": [
       "VBox()"
      ]
     },
     "metadata": {},
     "output_type": "display_data"
    },
    {
     "data": {
      "application/vnd.jupyter.widget-view+json": {
       "model_id": "",
       "version_major": 2,
       "version_minor": 0
      },
      "text/plain": [
       "FloatProgress(value=0.0, bar_style='info', description='Progress:', layout=Layout(height='25px', width='50%'),…"
      ]
     },
     "metadata": {},
     "output_type": "display_data"
    },
    {
     "name": "stdout",
     "output_type": "stream",
     "text": [
      "data_rdd: org.apache.spark.rdd.RDD[org.apache.spark.sql.Row] = MapPartitionsRDD[9] at rdd at <console>:28\n",
      "data_rdd2: org.apache.spark.rdd.RDD[org.apache.spark.sql.Row] = MapPartitionsRDD[15] at rdd at <console>:28\n",
      "rddTaxiTrip: org.apache.spark.rdd.RDD[TaxiTrip] = MapPartitionsRDD[16] at map at <console>:29\n",
      "rddTaxiTrip2: org.apache.spark.rdd.RDD[TaxiTrip] = MapPartitionsRDD[17] at map at <console>:29\n"
     ]
    }
   ],
   "source": [
    "val data_rdd = parquetFileDF.rdd\n",
    "val data_rdd2 = parquetFileDF2.rdd\n",
    "val rddTaxiTrip = data_rdd.map(TaxiTrip.extract)\n",
    "val rddTaxiTrip2 = data_rdd2.map(TaxiTrip.extract)\n"
   ]
  },
  {
   "cell_type": "markdown",
   "id": "bf22209e",
   "metadata": {},
   "source": [
    "# File di input\n",
    "Per tutte le seguenti query verranno utilizzati due file, i quali verranno uniti successivamente attraverso una union: il primo contenente i dati per il mese di gennaio 2021, il secondo contente i dati di febbraio 2021.\n",
    "<br>Avendo caricato tutti i file nella cartella è possibile fare confronti anche su mesi diversi, ed avendo Kaggle anche i dataset di anni precedenti la stessa analisi può essere effettutata anche su anni differenti. (Attenzione ad eventuali campi mancanti in dataset di anni precedenti). \n",
    "<br>La grandezza di input è di circa 380/390 MB a file.\n"
   ]
  },
  {
   "cell_type": "markdown",
   "id": "d02dcf96",
   "metadata": {},
   "source": [
    "### Numero totale di record"
   ]
  },
  {
   "cell_type": "code",
   "execution_count": 56,
   "id": "23280221",
   "metadata": {},
   "outputs": [
    {
     "data": {
      "application/vnd.jupyter.widget-view+json": {
       "model_id": "6684858ee869414db916e658b4e2c260",
       "version_major": 2,
       "version_minor": 0
      },
      "text/plain": [
       "VBox()"
      ]
     },
     "metadata": {},
     "output_type": "display_data"
    },
    {
     "data": {
      "application/vnd.jupyter.widget-view+json": {
       "model_id": "",
       "version_major": 2,
       "version_minor": 0
      },
      "text/plain": [
       "FloatProgress(value=0.0, bar_style='info', description='Progress:', layout=Layout(height='25px', width='50%'),…"
      ]
     },
     "metadata": {},
     "output_type": "display_data"
    },
    {
     "name": "stdout",
     "output_type": "stream",
     "text": [
      "res6: Long = 11908468\n"
     ]
    }
   ],
   "source": [
    "rddTaxiTrip.count()"
   ]
  },
  {
   "cell_type": "markdown",
   "id": "54e63f75",
   "metadata": {},
   "source": [
    "### Numero totale di zone di arrivo diverse\n",
    "Nota: Lo stesso numero sono quelle di partenza."
   ]
  },
  {
   "cell_type": "code",
   "execution_count": 57,
   "id": "81d6de18",
   "metadata": {
    "execution": {
     "iopub.execute_input": "2023-05-02T15:28:05.672251Z",
     "iopub.status.busy": "2023-05-02T15:28:05.672000Z",
     "iopub.status.idle": "2023-05-02T15:28:33.006426Z",
     "shell.execute_reply": "2023-05-02T15:28:33.005594Z",
     "shell.execute_reply.started": "2023-05-02T15:28:05.672225Z"
    },
    "tags": []
   },
   "outputs": [
    {
     "data": {
      "application/vnd.jupyter.widget-view+json": {
       "model_id": "45cdc6a1c9604e62a3144d9ddf7f3fd1",
       "version_major": 2,
       "version_minor": 0
      },
      "text/plain": [
       "VBox()"
      ]
     },
     "metadata": {},
     "output_type": "display_data"
    },
    {
     "data": {
      "application/vnd.jupyter.widget-view+json": {
       "model_id": "",
       "version_major": 2,
       "version_minor": 0
      },
      "text/plain": [
       "FloatProgress(value=0.0, bar_style='info', description='Progress:', layout=Layout(height='25px', width='50%'),…"
      ]
     },
     "metadata": {},
     "output_type": "display_data"
    },
    {
     "name": "stdout",
     "output_type": "stream",
     "text": [
      "res7: Long = 262\n"
     ]
    }
   ],
   "source": [
    "rddTaxiTrip.map(x => x.endloc).distinct().count()"
   ]
  },
  {
   "cell_type": "markdown",
   "id": "8161b829",
   "metadata": {},
   "source": [
    "### Stampa delle classi di licenza \n",
    "Nel caso ne mancasse qualcuna significa che non è presente nel periodo di tempo considerato."
   ]
  },
  {
   "cell_type": "code",
   "execution_count": 17,
   "id": "32449cfa",
   "metadata": {},
   "outputs": [
    {
     "data": {
      "application/vnd.jupyter.widget-view+json": {
       "model_id": "39eb61cf94a7463fb758c16b2ea58267",
       "version_major": 2,
       "version_minor": 0
      },
      "text/plain": [
       "VBox()"
      ]
     },
     "metadata": {},
     "output_type": "display_data"
    },
    {
     "data": {
      "application/vnd.jupyter.widget-view+json": {
       "model_id": "",
       "version_major": 2,
       "version_minor": 0
      },
      "text/plain": [
       "FloatProgress(value=0.0, bar_style='info', description='Progress:', layout=Layout(height='25px', width='50%'),…"
      ]
     },
     "metadata": {},
     "output_type": "display_data"
    },
    {
     "name": "stdout",
     "output_type": "stream",
     "text": [
      "res12: Array[String] = Array(HV0004, HV0005, HV0003)\n"
     ]
    }
   ],
   "source": [
    "rddTaxiTrip.map(x => x.licenseClass).distinct().collect()"
   ]
  },
  {
   "cell_type": "markdown",
   "id": "03e4c891",
   "metadata": {},
   "source": [
    "###  Viaggi più lunghi in termine di KM, in relazione con la durata del viaggio"
   ]
  },
  {
   "cell_type": "code",
   "execution_count": 18,
   "id": "1f432b96-c256-4e46-833b-d019f14bac51",
   "metadata": {
    "execution": {
     "iopub.execute_input": "2023-05-02T15:29:59.846745Z",
     "iopub.status.busy": "2023-05-02T15:29:59.846439Z",
     "iopub.status.idle": "2023-05-02T15:30:00.596610Z",
     "shell.execute_reply": "2023-05-02T15:30:00.595811Z",
     "shell.execute_reply.started": "2023-05-02T15:29:59.846720Z"
    }
   },
   "outputs": [
    {
     "data": {
      "application/vnd.jupyter.widget-view+json": {
       "model_id": "97a2a89f9b5044b9a1ca430bdfddcfc2",
       "version_major": 2,
       "version_minor": 0
      },
      "text/plain": [
       "VBox()"
      ]
     },
     "metadata": {},
     "output_type": "display_data"
    },
    {
     "data": {
      "application/vnd.jupyter.widget-view+json": {
       "model_id": "",
       "version_major": 2,
       "version_minor": 0
      },
      "text/plain": [
       "FloatProgress(value=0.0, bar_style='info', description='Progress:', layout=Layout(height='25px', width='50%'),…"
      ]
     },
     "metadata": {},
     "output_type": "display_data"
    },
    {
     "name": "stdout",
     "output_type": "stream",
     "text": [
      "query1: org.apache.spark.rdd.RDD[(Double, Long)] = MapPartitionsRDD[81] at map at <console>:35\n",
      "query1802: org.apache.spark.rdd.RDD[(Double, Long)] = MapPartitionsRDD[82] at map at <console>:35\n"
     ]
    }
   ],
   "source": [
    "val query1 = rddTaxiTrip.map(x => (x.distance, (x.dropoff.getTime() - x.pickup.getTime())/(60*1000)))\n",
    "val query1802 = rddTaxiTrip2.map(x => (x.distance, (x.dropoff.getTime() - x.pickup.getTime())/(60*1000)))"
   ]
  },
  {
   "cell_type": "code",
   "execution_count": 19,
   "id": "40d6dac2-9be8-439f-8ea5-2b7e26102467",
   "metadata": {
    "execution": {
     "iopub.execute_input": "2023-05-02T15:30:22.561188Z",
     "iopub.status.busy": "2023-05-02T15:30:22.560881Z",
     "iopub.status.idle": "2023-05-02T15:30:23.309643Z",
     "shell.execute_reply": "2023-05-02T15:30:23.308883Z",
     "shell.execute_reply.started": "2023-05-02T15:30:22.561162Z"
    }
   },
   "outputs": [
    {
     "data": {
      "application/vnd.jupyter.widget-view+json": {
       "model_id": "8363460bcf6246bdab29adad885ccef8",
       "version_major": 2,
       "version_minor": 0
      },
      "text/plain": [
       "VBox()"
      ]
     },
     "metadata": {},
     "output_type": "display_data"
    },
    {
     "data": {
      "application/vnd.jupyter.widget-view+json": {
       "model_id": "",
       "version_major": 2,
       "version_minor": 0
      },
      "text/plain": [
       "FloatProgress(value=0.0, bar_style='info', description='Progress:', layout=Layout(height='25px', width='50%'),…"
      ]
     },
     "metadata": {},
     "output_type": "display_data"
    },
    {
     "name": "stdout",
     "output_type": "stream",
     "text": [
      "query1union: org.apache.spark.rdd.RDD[(Double, Long)] = UnionRDD[83] at union at <console>:36\n"
     ]
    }
   ],
   "source": [
    "val query1union = query1.union(query1802).cache()"
   ]
  },
  {
   "cell_type": "code",
   "execution_count": 20,
   "id": "43c2585a-6fbc-45a2-94a9-d0ced2056e2b",
   "metadata": {
    "execution": {
     "iopub.execute_input": "2023-05-02T15:30:36.614895Z",
     "iopub.status.busy": "2023-05-02T15:30:36.614554Z",
     "iopub.status.idle": "2023-05-02T15:31:25.999880Z",
     "shell.execute_reply": "2023-05-02T15:31:25.999158Z",
     "shell.execute_reply.started": "2023-05-02T15:30:36.614865Z"
    }
   },
   "outputs": [
    {
     "data": {
      "application/vnd.jupyter.widget-view+json": {
       "model_id": "6de9220863884c7088caf49432c71ed5",
       "version_major": 2,
       "version_minor": 0
      },
      "text/plain": [
       "VBox()"
      ]
     },
     "metadata": {},
     "output_type": "display_data"
    },
    {
     "data": {
      "application/vnd.jupyter.widget-view+json": {
       "model_id": "",
       "version_major": 2,
       "version_minor": 0
      },
      "text/plain": [
       "FloatProgress(value=0.0, bar_style='info', description='Progress:', layout=Layout(height='25px', width='50%'),…"
      ]
     },
     "metadata": {},
     "output_type": "display_data"
    },
    {
     "name": "stdout",
     "output_type": "stream",
     "text": [
      "res13: Array[(Double, Long)] = Array((738.95,666), (527.11,575), (512.5,541), (480.73,512), (454.49,452), (432.359,379), (417.77,469), (408.19,440), (389.65,370), (381.95,444))\n"
     ]
    }
   ],
   "source": [
    "query1union.sortByKey(false).take(10)"
   ]
  },
  {
   "cell_type": "markdown",
   "id": "4d022c06",
   "metadata": {},
   "source": [
    "### Viaggi piu costosi, in relazione con la somma tra lunghezza e la durata del viaggio\n",
    "Aggiunto un filtro sulla distanza minima. Questo comporterà solo la stampa dei viaggi più costosi visto che ci si aspetta che l'andamento sia proporzionale tra distanza e costo."
   ]
  },
  {
   "cell_type": "code",
   "execution_count": 21,
   "id": "20ffa170",
   "metadata": {},
   "outputs": [
    {
     "data": {
      "application/vnd.jupyter.widget-view+json": {
       "model_id": "7c55d71245f94df2a88fe35921aa86e8",
       "version_major": 2,
       "version_minor": 0
      },
      "text/plain": [
       "VBox()"
      ]
     },
     "metadata": {},
     "output_type": "display_data"
    },
    {
     "data": {
      "application/vnd.jupyter.widget-view+json": {
       "model_id": "",
       "version_major": 2,
       "version_minor": 0
      },
      "text/plain": [
       "FloatProgress(value=0.0, bar_style='info', description='Progress:', layout=Layout(height='25px', width='50%'),…"
      ]
     },
     "metadata": {},
     "output_type": "display_data"
    },
    {
     "name": "stdout",
     "output_type": "stream",
     "text": [
      "query2: org.apache.spark.rdd.RDD[(Double, Double)] = MapPartitionsRDD[91] at map at <console>:35\n",
      "query2802: org.apache.spark.rdd.RDD[(Double, Double)] = MapPartitionsRDD[93] at map at <console>:35\n"
     ]
    }
   ],
   "source": [
    "val query2 = rddTaxiTrip.filter(_.distance > 20).map(x => (x.fare, ((x.dropoff.getTime() - x.pickup.getTime())/(60*1000) + x.distance)))\n",
    "val query2802 = rddTaxiTrip2.filter(_.distance > 20).map(x => (x.fare, ((x.dropoff.getTime() - x.pickup.getTime())/(60*1000) + x.distance)))"
   ]
  },
  {
   "cell_type": "code",
   "execution_count": 22,
   "id": "2e65fe78",
   "metadata": {},
   "outputs": [
    {
     "data": {
      "application/vnd.jupyter.widget-view+json": {
       "model_id": "24fb26595db3468d87790cb76bb3df9f",
       "version_major": 2,
       "version_minor": 0
      },
      "text/plain": [
       "VBox()"
      ]
     },
     "metadata": {},
     "output_type": "display_data"
    },
    {
     "data": {
      "application/vnd.jupyter.widget-view+json": {
       "model_id": "",
       "version_major": 2,
       "version_minor": 0
      },
      "text/plain": [
       "FloatProgress(value=0.0, bar_style='info', description='Progress:', layout=Layout(height='25px', width='50%'),…"
      ]
     },
     "metadata": {},
     "output_type": "display_data"
    },
    {
     "name": "stdout",
     "output_type": "stream",
     "text": [
      "query2union: org.apache.spark.rdd.RDD[(Double, Double)] = UnionRDD[94] at union at <console>:36\n"
     ]
    }
   ],
   "source": [
    "val query2union = query2.union(query2802).cache()"
   ]
  },
  {
   "cell_type": "code",
   "execution_count": 23,
   "id": "936ae2cf",
   "metadata": {},
   "outputs": [
    {
     "data": {
      "application/vnd.jupyter.widget-view+json": {
       "model_id": "a8362bc66b64410f8e3a75d254ab710d",
       "version_major": 2,
       "version_minor": 0
      },
      "text/plain": [
       "VBox()"
      ]
     },
     "metadata": {},
     "output_type": "display_data"
    },
    {
     "data": {
      "application/vnd.jupyter.widget-view+json": {
       "model_id": "",
       "version_major": 2,
       "version_minor": 0
      },
      "text/plain": [
       "FloatProgress(value=0.0, bar_style='info', description='Progress:', layout=Layout(height='25px', width='50%'),…"
      ]
     },
     "metadata": {},
     "output_type": "display_data"
    },
    {
     "name": "stdout",
     "output_type": "stream",
     "text": [
      "res14: Array[(Double, Double)] = Array((1532.67,1404.95), (1374.73,906.49), (1361.13,759.65), (1308.56,886.77), (1215.83,825.95), (1159.66,626.4), (1149.87,992.73), (1149.03,452.39), (1082.69,536.21), (1073.88,629.78))\n"
     ]
    }
   ],
   "source": [
    "query2union.sortByKey(false).take(10)"
   ]
  },
  {
   "cell_type": "markdown",
   "id": "aa5e610e",
   "metadata": {},
   "source": [
    "### Distanza totale percorsa da ciascuna licenza di taxi in ciascuna zona di partenza\n"
   ]
  },
  {
   "cell_type": "code",
   "execution_count": 46,
   "id": "970d7867",
   "metadata": {},
   "outputs": [
    {
     "data": {
      "application/vnd.jupyter.widget-view+json": {
       "model_id": "15bbdd9fb7744207bc8b6e9c858f86c1",
       "version_major": 2,
       "version_minor": 0
      },
      "text/plain": [
       "VBox()"
      ]
     },
     "metadata": {},
     "output_type": "display_data"
    },
    {
     "data": {
      "application/vnd.jupyter.widget-view+json": {
       "model_id": "",
       "version_major": 2,
       "version_minor": 0
      },
      "text/plain": [
       "FloatProgress(value=0.0, bar_style='info', description='Progress:', layout=Layout(height='25px', width='50%'),…"
      ]
     },
     "metadata": {},
     "output_type": "display_data"
    },
    {
     "name": "stdout",
     "output_type": "stream",
     "text": [
      "totalDistanceByLicenseAndStartLoc: Array[((String, Long), Double)] = Array(((B02888,11),1187.4000000000012), ((B02876,177),6032.130000000006), ((B02879,39),6840.850000000006), ((B02510,203),43056.412999999986), ((B02869,119),7910.020000000002), ((B02682,200),3115.9299999999985), ((B02395,14),3045.6600000000026), ((B02764,233),21495.780000000035), ((B02880,170),4044.190000000002), ((B02882,76),15702.400000000032))\n"
     ]
    }
   ],
   "source": [
    "val totalDistanceByLicenseAndStartLoc = rddTaxiTrip.map(x => \n",
    "                                     ((x.license, x.startloc), x.distance)).reduceByKey((x, y) => x + y).take(10)\n"
   ]
  },
  {
   "cell_type": "markdown",
   "id": "3b09001a",
   "metadata": {},
   "source": [
    "### Tempo di viaggio medio, in base alla zona di partenza\n",
    "Il codice esegue le seguenti operazioni:\n",
    "* Viene eseguita una map per estrarre la zona di partenza e il tempo di viaggio;\n",
    "* Successivamente viene fatta un aggregazione in base alla chiave per andare a calcolare la somma dei tempi e il conteggio dei viaggi;\n",
    "\n",
    "Queste azioni sono state svolte per entrambi gli RDD dei mesi.\n",
    "\n",
    "* Viene eseguita una union per raggruppare i due valori;\n",
    "\n",
    "Il risultato finale che si sta cercando è quello di vedere per ogni zona quanto è il tempo medio di viaggio"
   ]
  },
  {
   "cell_type": "code",
   "execution_count": 25,
   "id": "d8623d60-2dde-4ce2-b3ca-f2c33f7f8b28",
   "metadata": {
    "execution": {
     "iopub.execute_input": "2023-05-02T15:42:16.949801Z",
     "iopub.status.busy": "2023-05-02T15:42:16.949501Z",
     "iopub.status.idle": "2023-05-02T15:42:17.705139Z",
     "shell.execute_reply": "2023-05-02T15:42:17.704291Z",
     "shell.execute_reply.started": "2023-05-02T15:42:16.949775Z"
    },
    "tags": []
   },
   "outputs": [
    {
     "data": {
      "application/vnd.jupyter.widget-view+json": {
       "model_id": "aa5f71681d9d41bb8f5797bd3daf79fe",
       "version_major": 2,
       "version_minor": 0
      },
      "text/plain": [
       "VBox()"
      ]
     },
     "metadata": {},
     "output_type": "display_data"
    },
    {
     "data": {
      "application/vnd.jupyter.widget-view+json": {
       "model_id": "",
       "version_major": 2,
       "version_minor": 0
      },
      "text/plain": [
       "FloatProgress(value=0.0, bar_style='info', description='Progress:', layout=Layout(height='25px', width='50%'),…"
      ]
     },
     "metadata": {},
     "output_type": "display_data"
    },
    {
     "name": "stdout",
     "output_type": "stream",
     "text": [
      "query3: org.apache.spark.rdd.RDD[(Long, (Double, Double))] = ShuffledRDD[103] at aggregateByKey at <console>:36\n",
      "query31: org.apache.spark.rdd.RDD[(Long, (Double, Double))] = ShuffledRDD[105] at aggregateByKey at <console>:36\n",
      "query3union: org.apache.spark.rdd.RDD[(Long, (Double, Double))] = PartitionerAwareUnionRDD[106] at union at <console>:36\n"
     ]
    }
   ],
   "source": [
    "val query3 = rddTaxiTrip.map(x => (x.startloc, (x.dropoff.getTime() - x.pickup.getTime())/(60*1000))).\n",
    "    aggregateByKey((0.0,0.0))((a,v)=>(a._1+v,a._2+1),(a1,a2)=>(a1._1+a2._1,a1._2+a2._2))\n",
    "val query31 = rddTaxiTrip2.map(x => (x.startloc, (x.dropoff.getTime() - x.pickup.getTime())/(60*1000))).\n",
    "    aggregateByKey((0.0,0.0))((a,v)=>(a._1+v,a._2+1),(a1,a2)=>(a1._1+a2._1,a1._2+a2._2))\n",
    "val query3union = query3.union(query31).cache()"
   ]
  },
  {
   "cell_type": "markdown",
   "id": "592cff56",
   "metadata": {},
   "source": [
    "##### Risultato raggruppato per vedere la differenza tra i due mesi rispetto alla zona di partenza"
   ]
  },
  {
   "cell_type": "code",
   "execution_count": 26,
   "id": "b414d6d3",
   "metadata": {},
   "outputs": [
    {
     "data": {
      "application/vnd.jupyter.widget-view+json": {
       "model_id": "42f4a8fc428a4b49a9c1872e3f60f352",
       "version_major": 2,
       "version_minor": 0
      },
      "text/plain": [
       "VBox()"
      ]
     },
     "metadata": {},
     "output_type": "display_data"
    },
    {
     "data": {
      "application/vnd.jupyter.widget-view+json": {
       "model_id": "",
       "version_major": 2,
       "version_minor": 0
      },
      "text/plain": [
       "FloatProgress(value=0.0, bar_style='info', description='Progress:', layout=Layout(height='25px', width='50%'),…"
      ]
     },
     "metadata": {},
     "output_type": "display_data"
    },
    {
     "name": "stdout",
     "output_type": "stream",
     "text": [
      "q: Array[(Iterable[Double], Long)] = Array((CompactBuffer(35.26170798898072, 37.86046511627907),1), (CompactBuffer(29.887379973950182, 30.010265920054298),132), (CompactBuffer(29.043478260869566, 14.444444444444445),2), (CompactBuffer(26.88235294117647, 25.642857142857142),110), (CompactBuffer(23.692460239286607, 25.2119881087581),138), (CompactBuffer(22.56801909307876, 22.26112759643917),27), (CompactBuffer(22.0, 17.0),199), (CompactBuffer(21.416037008481112, 21.901016009852217),202), (CompactBuffer(20.15281650864473, 20.65938242280285),46), (CompactBuffer(19.722795265101055, 21.199589471142236),117))\n"
     ]
    }
   ],
   "source": [
    "val q = query3union.map({case(k,v) => (k,v._1/v._2)}).groupByKey().map({case(k,v) => (v,k)}).sortByKey(false).take(10)"
   ]
  },
  {
   "cell_type": "markdown",
   "id": "a46913a6",
   "metadata": {},
   "source": [
    "### In media quanti viaggi fa ciascuna licenza\n",
    "\n",
    "Inizialmente, la funzione \"map\" viene utilizzata per estrarre le informazioni relative al numero di licenze e al numero di viaggi effettuati. Infine, la funzione \"aggregate\" viene utilizzata per calcolare la somma totale dei viaggi e il numero totale di licenze. Infine, viene calcolata la media."
   ]
  },
  {
   "cell_type": "code",
   "execution_count": 27,
   "id": "1f8c8afe",
   "metadata": {},
   "outputs": [
    {
     "data": {
      "application/vnd.jupyter.widget-view+json": {
       "model_id": "6bc5d6df640144e2af01896e756242ec",
       "version_major": 2,
       "version_minor": 0
      },
      "text/plain": [
       "VBox()"
      ]
     },
     "metadata": {},
     "output_type": "display_data"
    },
    {
     "data": {
      "application/vnd.jupyter.widget-view+json": {
       "model_id": "",
       "version_major": 2,
       "version_minor": 0
      },
      "text/plain": [
       "FloatProgress(value=0.0, bar_style='info', description='Progress:', layout=Layout(height='25px', width='50%'),…"
      ]
     },
     "metadata": {},
     "output_type": "display_data"
    },
    {
     "name": "stdout",
     "output_type": "stream",
     "text": [
      "query4: (Int, Int) = (11908468,32)\n",
      "res15: String = Media: 372139\n"
     ]
    }
   ],
   "source": [
    "val query4 = rddTaxiTrip.map(x => (x.license,1)).\n",
    "reduceByKey(_+_).\n",
    "aggregate((0,0))((a,v)=>(a._1+v._2, a._2+1),(a1,a2)=>(a1._1+a2._1,a1._2+a2._2))\n",
    "\"Media: \" + (query4._1/query4._2)"
   ]
  },
  {
   "cell_type": "markdown",
   "id": "ea4e4d4e",
   "metadata": {},
   "source": [
    "###  Classe di licenza che fa piu viaggi, con la presenza anche della tariffa cliente\n",
    "\n",
    "Questo codice stampa i risultati delle classi di licenze che fa più viaggi in relazione anche al guadagno. In particolare, il codice mappa ogni elemento in una tupla in cui la chiave è la licenza, contenente il guadagno e il numero di viaggi di ogni licenza. Poi, i dati vengono aggregati tramite la funzione reduceByKey che somma i valori associati alla stessa chiave. Successivamente, il risultato viene mappato in una tupla contenente il nome della licenza, il guadagno totale e il numero di viaggi totali e viene ordinato in modo decrescente in base al guadagno. Infine, vengono stampati gli elementi della lista di risultati ottenuti dalla funzione collect()."
   ]
  },
  {
   "cell_type": "code",
   "execution_count": 28,
   "id": "5c9563e6",
   "metadata": {
    "scrolled": true
   },
   "outputs": [
    {
     "data": {
      "application/vnd.jupyter.widget-view+json": {
       "model_id": "44ff68cc36ac4ce0b282a90c1428bc20",
       "version_major": 2,
       "version_minor": 0
      },
      "text/plain": [
       "VBox()"
      ]
     },
     "metadata": {},
     "output_type": "display_data"
    },
    {
     "data": {
      "application/vnd.jupyter.widget-view+json": {
       "model_id": "",
       "version_major": 2,
       "version_minor": 0
      },
      "text/plain": [
       "FloatProgress(value=0.0, bar_style='info', description='Progress:', layout=Layout(height='25px', width='50%'),…"
      ]
     },
     "metadata": {},
     "output_type": "display_data"
    },
    {
     "name": "stdout",
     "output_type": "stream",
     "text": [
      "(HV0003,1.468278860287933E8,8704128)\n",
      "(HV0005,5.509768345985989E7,3094325)\n",
      "(HV0004,2816007.860000914,110015)\n",
      "query5: Unit = ()\n"
     ]
    }
   ],
   "source": [
    "val query5 = rddTaxiTrip.map(x => (x.licenseClass,(x.fare,1))).\n",
    "reduceByKey((t1,t2) => (t1._1+t2._1, t1._2+t2._2)).\n",
    "map(v => (v._1,v._2._1, v._2._2)).\n",
    "sortBy(_._2,false).\n",
    "collect().foreach(println(_))"
   ]
  },
  {
   "cell_type": "markdown",
   "id": "771eb861",
   "metadata": {},
   "source": [
    "### Licenza che fa piu viaggi, con la presenza anche della tariffa cliente\n",
    "\n",
    "Qui viene eseguita una replica della query precedente, basandosi su ogni singola licenza."
   ]
  },
  {
   "cell_type": "code",
   "execution_count": 29,
   "id": "711ff7ac",
   "metadata": {},
   "outputs": [
    {
     "data": {
      "application/vnd.jupyter.widget-view+json": {
       "model_id": "51ab296cb1b04ae585965da91afdc423",
       "version_major": 2,
       "version_minor": 0
      },
      "text/plain": [
       "VBox()"
      ]
     },
     "metadata": {},
     "output_type": "display_data"
    },
    {
     "data": {
      "application/vnd.jupyter.widget-view+json": {
       "model_id": "",
       "version_major": 2,
       "version_minor": 0
      },
      "text/plain": [
       "FloatProgress(value=0.0, bar_style='info', description='Progress:', layout=Layout(height='25px', width='50%'),…"
      ]
     },
     "metadata": {},
     "output_type": "display_data"
    },
    {
     "name": "stdout",
     "output_type": "stream",
     "text": [
      "(B02510,5.503748608986006E7,3091000)\n",
      "(B02764,1.709378720999917E7,1009388)\n",
      "(B02872,1.5509604710001156E7,924960)\n",
      "(B02875,1.2014741050004447E7,735450)\n",
      "(B02765,1.0189792220006326E7,591242)\n",
      "(B02869,7744772.440006703,452098)\n",
      "(B02887,5608155.9400040135,333768)\n",
      "(B02871,5581241.000004057,330085)\n",
      "(B02682,5456731.730003582,321599)\n",
      "(B02866,5284853.590003659,309274)\n",
      "(B02864,5203100.810003353,316395)\n",
      "(B02878,5125333.480003258,312013)\n",
      "(B02617,4884453.930003084,281432)\n",
      "(B02883,4582633.870002626,268391)\n",
      "(B02884,4354322.950002186,257674)\n",
      "(B02882,4097472.360001952,241988)\n",
      "(B02876,3929723.280001779,230732)\n",
      "(B02867,3730036.2400015946,217449)\n",
      "(B02879,3572925.7100014733,216993)\n",
      "(B02877,3490842.3500013095,208986)\n",
      "(B02835,3355979.0300012426,200129)\n",
      "(B02888,3032522.3300008504,177542)\n",
      "(B02800,2776613.2300008354,108146)\n",
      "(B02889,2500286.6500002183,149398)\n",
      "(B02836,2385524.3700000723,140365)\n",
      "(B02395,2056890.0899998054,124107)\n",
      "(B02880,2039189.9299998167,119173)\n",
      "(B02870,1768859.4399998628,106975)\n",
      "(B02865,1385092.2499999353,82291)\n",
      "(B02512,849017.0699999768,44231)\n",
      "(B02844,60197.37000000005,3325)\n",
      "(B03136,39394.629999999925,1869)\n",
      "query6: Unit = ()\n"
     ]
    }
   ],
   "source": [
    "val query6 = rddTaxiTrip.map(x => (x.license,(x.fare,1))).\n",
    "reduceByKey((t1,t2) => (t1._1+t2._1, t1._2+t2._2)).\n",
    "map(v => (v._1,v._2._1, v._2._2)).\n",
    "sortBy(_._2,false).\n",
    "collect().foreach(println(_))"
   ]
  },
  {
   "cell_type": "markdown",
   "id": "72a63b9a",
   "metadata": {},
   "source": [
    "### Licenza di taxi con il prezzo medio del viaggio più alto per ciascuna classe di licenza\n"
   ]
  },
  {
   "cell_type": "code",
   "execution_count": 30,
   "id": "f623a84b",
   "metadata": {},
   "outputs": [
    {
     "data": {
      "application/vnd.jupyter.widget-view+json": {
       "model_id": "8b2ce4e9cce946cf82d7b738a35f0c93",
       "version_major": 2,
       "version_minor": 0
      },
      "text/plain": [
       "VBox()"
      ]
     },
     "metadata": {},
     "output_type": "display_data"
    },
    {
     "data": {
      "application/vnd.jupyter.widget-view+json": {
       "model_id": "",
       "version_major": 2,
       "version_minor": 0
      },
      "text/plain": [
       "FloatProgress(value=0.0, bar_style='info', description='Progress:', layout=Layout(height='25px', width='50%'),…"
      ]
     },
     "metadata": {},
     "output_type": "display_data"
    },
    {
     "name": "stdout",
     "output_type": "stream",
     "text": [
      "avgFareByLicenseClass: org.apache.spark.rdd.RDD[(String, Double)] = MapPartitionsRDD[134] at reduceByKey at <console>:35\n"
     ]
    }
   ],
   "source": [
    "val avgFareByLicenseClass = rddTaxiTrip.map(x => (x.licenseClass, x.fare)).groupByKey()\n",
    ".mapValues(fares => fares.sum / fares.size).reduceByKey((fare1, fare2) => if (fare1 > fare2) fare1 else fare2)"
   ]
  },
  {
   "cell_type": "code",
   "execution_count": 31,
   "id": "64e9c2c5",
   "metadata": {},
   "outputs": [
    {
     "data": {
      "application/vnd.jupyter.widget-view+json": {
       "model_id": "7b3853ad07e24937b65dcf73def29286",
       "version_major": 2,
       "version_minor": 0
      },
      "text/plain": [
       "VBox()"
      ]
     },
     "metadata": {},
     "output_type": "display_data"
    },
    {
     "data": {
      "application/vnd.jupyter.widget-view+json": {
       "model_id": "",
       "version_major": 2,
       "version_minor": 0
      },
      "text/plain": [
       "FloatProgress(value=0.0, bar_style='info', description='Progress:', layout=Layout(height='25px', width='50%'),…"
      ]
     },
     "metadata": {},
     "output_type": "display_data"
    },
    {
     "name": "stdout",
     "output_type": "stream",
     "text": [
      "res16: Array[(String, Double)] = Array((HV0004,25.59658101168853), (HV0005,17.806042823510747), (HV0003,16.86876457110848))\n"
     ]
    }
   ],
   "source": [
    "avgFareByLicenseClass.collect()"
   ]
  },
  {
   "cell_type": "markdown",
   "id": "91f21e51",
   "metadata": {},
   "source": [
    "### Distanza media percorsa dai taxi in un singolo viaggio, in relazione alla zona"
   ]
  },
  {
   "cell_type": "code",
   "execution_count": 32,
   "id": "321f1ef0",
   "metadata": {},
   "outputs": [
    {
     "data": {
      "application/vnd.jupyter.widget-view+json": {
       "model_id": "176fc5144e0f4fb89533d82c2575ac46",
       "version_major": 2,
       "version_minor": 0
      },
      "text/plain": [
       "VBox()"
      ]
     },
     "metadata": {},
     "output_type": "display_data"
    },
    {
     "data": {
      "application/vnd.jupyter.widget-view+json": {
       "model_id": "",
       "version_major": 2,
       "version_minor": 0
      },
      "text/plain": [
       "FloatProgress(value=0.0, bar_style='info', description='Progress:', layout=Layout(height='25px', width='50%'),…"
      ]
     },
     "metadata": {},
     "output_type": "display_data"
    },
    {
     "name": "stdout",
     "output_type": "stream",
     "text": [
      "query8: org.apache.spark.rdd.RDD[(Long, (Double, Double))] = ShuffledRDD[137] at aggregateByKey at <console>:36\n",
      "query81: org.apache.spark.rdd.RDD[(Long, (Double, Double))] = ShuffledRDD[140] at aggregateByKey at <console>:36\n"
     ]
    }
   ],
   "source": [
    "val query8 = rddTaxiTrip.filter(_.distance < 100).map(x => (x.startloc,x.distance)).\n",
    "    aggregateByKey((0.0,0.0))((a,v)=>(a._1+v,a._2+1),(a1,a2)=>(a1._1+a2._1,a1._2+a2._2))\n",
    "val query81 = rddTaxiTrip2.filter(_.distance < 100).map(x => (x.startloc,x.distance)).\n",
    "    aggregateByKey((0.0,0.0))((a,v)=>(a._1+v,a._2+1),(a1,a2)=>(a1._1+a2._1,a1._2+a2._2))"
   ]
  },
  {
   "cell_type": "code",
   "execution_count": 33,
   "id": "f71ade4a",
   "metadata": {},
   "outputs": [
    {
     "data": {
      "application/vnd.jupyter.widget-view+json": {
       "model_id": "b859f45ab5ea4e00931aac6e5e07ba87",
       "version_major": 2,
       "version_minor": 0
      },
      "text/plain": [
       "VBox()"
      ]
     },
     "metadata": {},
     "output_type": "display_data"
    },
    {
     "data": {
      "application/vnd.jupyter.widget-view+json": {
       "model_id": "",
       "version_major": 2,
       "version_minor": 0
      },
      "text/plain": [
       "FloatProgress(value=0.0, bar_style='info', description='Progress:', layout=Layout(height='25px', width='50%'),…"
      ]
     },
     "metadata": {},
     "output_type": "display_data"
    },
    {
     "name": "stdout",
     "output_type": "stream",
     "text": [
      "query8union: org.apache.spark.rdd.RDD[(Long, (Double, Double))] = PartitionerAwareUnionRDD[141] at union at <console>:36\n"
     ]
    }
   ],
   "source": [
    "val query8union = query8.union(query81).cache()"
   ]
  },
  {
   "cell_type": "code",
   "execution_count": 34,
   "id": "9b415fb7",
   "metadata": {},
   "outputs": [
    {
     "data": {
      "application/vnd.jupyter.widget-view+json": {
       "model_id": "a890e0bb2deb495fb5ab8c72b91fc0ac",
       "version_major": 2,
       "version_minor": 0
      },
      "text/plain": [
       "VBox()"
      ]
     },
     "metadata": {},
     "output_type": "display_data"
    },
    {
     "data": {
      "application/vnd.jupyter.widget-view+json": {
       "model_id": "",
       "version_major": 2,
       "version_minor": 0
      },
      "text/plain": [
       "FloatProgress(value=0.0, bar_style='info', description='Progress:', layout=Layout(height='25px', width='50%'),…"
      ]
     },
     "metadata": {},
     "output_type": "display_data"
    },
    {
     "name": "stdout",
     "output_type": "stream",
     "text": [
      "q8: Array[(Double, Long)] = Array((20.136333333333326,1), (19.978372093023246,1), (15.583862644195618,132), (14.864652072083206,132), (11.889173913043477,2), (10.915017273061434,138), (10.765875894988065,27), (10.74933302682418,138), (10.515,199), (10.507823529411766,110))\n"
     ]
    }
   ],
   "source": [
    "val q8 = query8union.map({case(k,v) => (k,v._1/v._2)}).map({case(k,v) => (v,k)}).sortByKey(false).take(10)"
   ]
  },
  {
   "cell_type": "code",
   "execution_count": 47,
   "id": "ac5e2860",
   "metadata": {},
   "outputs": [
    {
     "data": {
      "application/vnd.jupyter.widget-view+json": {
       "model_id": "62f3d26047d049b8baf29ec1128b10dc",
       "version_major": 2,
       "version_minor": 0
      },
      "text/plain": [
       "VBox()"
      ]
     },
     "metadata": {},
     "output_type": "display_data"
    },
    {
     "data": {
      "application/vnd.jupyter.widget-view+json": {
       "model_id": "",
       "version_major": 2,
       "version_minor": 0
      },
      "text/plain": [
       "FloatProgress(value=0.0, bar_style='info', description='Progress:', layout=Layout(height='25px', width='50%'),…"
      ]
     },
     "metadata": {},
     "output_type": "display_data"
    },
    {
     "name": "stdout",
     "output_type": "stream",
     "text": [
      "import org.apache.spark.sql.{SparkSession, Row, SaveMode}\n",
      "import org.apache.spark.sql.types.{DoubleType, LongType, StructField, StructType}\n",
      "spark: org.apache.spark.sql.SparkSession = org.apache.spark.sql.SparkSession@185d3f5c\n",
      "schema: org.apache.spark.sql.types.StructType = StructType(StructField(Value,DoubleType,true),StructField(Key,LongType,true))\n",
      "rows: Array[org.apache.spark.sql.Row] = Array([20.136333333333326,1], [19.978372093023246,1], [15.583862644195618,132], [14.864652072083206,132], [11.889173913043477,2], [10.915017273061434,138], [10.765875894988065,27], [10.74933302682418,138], [10.515,199], [10.507823529411766,110])\n",
      "df: org.apache.spark.sql.DataFrame = [Value: double, Key: bigint]\n"
     ]
    }
   ],
   "source": [
    "import org.apache.spark.sql.{SparkSession, Row, SaveMode}\n",
    "import org.apache.spark.sql.types.{DoubleType, LongType, StructField, StructType}\n",
    "\n",
    "// Crea la sessione Spark\n",
    "val spark = SparkSession.builder.getOrCreate()\n",
    "\n",
    "// Definisci lo schema del DataFrame\n",
    "val schema = StructType(Seq(\n",
    "  StructField(\"Value\", DoubleType, nullable = true),\n",
    "  StructField(\"Key\", LongType, nullable = true)\n",
    "))\n",
    "\n",
    "// Crea un array di oggetti Row\n",
    "val rows = q8.map { case (v, k) => Row(v, k) }\n",
    "\n",
    "// Crea il DataFrame utilizzando lo schema e l'array di righe\n",
    "val df = spark.createDataFrame(spark.sparkContext.parallelize(rows), schema)\n",
    "\n",
    "// Salva il DataFrame come file CSV\n",
    "df.write.format(\"csv\").mode(SaveMode.Overwrite).save(\"s3a://\"+bucketname+\"/datasets/project/output/avgDistance\")"
   ]
  },
  {
   "cell_type": "markdown",
   "id": "54200087",
   "metadata": {},
   "source": [
    "SQL"
   ]
  },
  {
   "cell_type": "code",
   "execution_count": 36,
   "id": "c679e1a5",
   "metadata": {},
   "outputs": [
    {
     "data": {
      "application/vnd.jupyter.widget-view+json": {
       "model_id": "364db862738547eebd8cffe8e7f4cb7f",
       "version_major": 2,
       "version_minor": 0
      },
      "text/plain": [
       "VBox()"
      ]
     },
     "metadata": {},
     "output_type": "display_data"
    },
    {
     "data": {
      "application/vnd.jupyter.widget-view+json": {
       "model_id": "",
       "version_major": 2,
       "version_minor": 0
      },
      "text/plain": [
       "FloatProgress(value=0.0, bar_style='info', description='Progress:', layout=Layout(height='25px', width='50%'),…"
      ]
     },
     "metadata": {},
     "output_type": "display_data"
    },
    {
     "name": "stdout",
     "output_type": "stream",
     "text": [
      "parkDF: org.apache.spark.sql.DataFrame = [hvfhs_license_num: string, dispatching_base_num: string ... 22 more fields]\n",
      "res29: org.apache.spark.sql.DataFrame = [hvfhs_license_num: string, dispatching_base_num: string ... 22 more fields]\n"
     ]
    }
   ],
   "source": [
    "parquetFileDF.createOrReplaceTempView(\"parquetFile\")\n",
    "val parkDF = spark.sql(\"Select * from parquetFile\")\n",
    "parkDF"
   ]
  },
  {
   "cell_type": "markdown",
   "id": "f047fd11",
   "metadata": {},
   "source": [
    "### Zona di arrivo più comune per ciascuna licenza di taxi"
   ]
  },
  {
   "cell_type": "code",
   "execution_count": 37,
   "id": "bdc69f47",
   "metadata": {},
   "outputs": [
    {
     "data": {
      "application/vnd.jupyter.widget-view+json": {
       "model_id": "1b6573c7d228499cb206b4aaf6d7335c",
       "version_major": 2,
       "version_minor": 0
      },
      "text/plain": [
       "VBox()"
      ]
     },
     "metadata": {},
     "output_type": "display_data"
    },
    {
     "data": {
      "application/vnd.jupyter.widget-view+json": {
       "model_id": "",
       "version_major": 2,
       "version_minor": 0
      },
      "text/plain": [
       "FloatProgress(value=0.0, bar_style='info', description='Progress:', layout=Layout(height='25px', width='50%'),…"
      ]
     },
     "metadata": {},
     "output_type": "display_data"
    },
    {
     "name": "stdout",
     "output_type": "stream",
     "text": [
      "mostCommonEndLocByLicense: org.apache.spark.rdd.RDD[(String, Long)] = MapPartitionsRDD[153] at mapValues at <console>:37\n"
     ]
    }
   ],
   "source": [
    "val mostCommonEndLocByLicense = rddTaxiTrip.map(x => ((x.license, x.endloc), 1)).reduceByKey(_ + _)\n",
    ".map { case ((license, endloc), count) => (license, (endloc, count)) }.groupByKey().mapValues { locs => locs.maxBy(_._2)._1 }"
   ]
  },
  {
   "cell_type": "code",
   "execution_count": 38,
   "id": "b0ff9383",
   "metadata": {},
   "outputs": [
    {
     "data": {
      "application/vnd.jupyter.widget-view+json": {
       "model_id": "8ccb8cbe5e9545909e7415b579988cce",
       "version_major": 2,
       "version_minor": 0
      },
      "text/plain": [
       "VBox()"
      ]
     },
     "metadata": {},
     "output_type": "display_data"
    },
    {
     "data": {
      "application/vnd.jupyter.widget-view+json": {
       "model_id": "",
       "version_major": 2,
       "version_minor": 0
      },
      "text/plain": [
       "FloatProgress(value=0.0, bar_style='info', description='Progress:', layout=Layout(height='25px', width='50%'),…"
      ]
     },
     "metadata": {},
     "output_type": "display_data"
    },
    {
     "name": "stdout",
     "output_type": "stream",
     "text": [
      "res30: Array[(String, Long)] = Array((B02682,265), (B02871,61), (B02835,265), (B02877,265), (B02880,265), (B02844,265), (B02395,265), (B02872,265), (B02836,265), (B02887,265), (B03136,140), (B02764,265), (B02869,265), (B02878,265), (B02879,265), (B02864,265), (B02765,265), (B02888,265), (B02510,265), (B02882,265), (B02889,265), (B02883,265), (B02865,265), (B02884,265), (B02512,265), (B02617,265), (B02800,166), (B02866,265), (B02875,265), (B02867,265), (B02870,265), (B02876,265))\n"
     ]
    }
   ],
   "source": [
    "mostCommonEndLocByLicense.collect()"
   ]
  },
  {
   "cell_type": "code",
   "execution_count": 39,
   "id": "c87f3164",
   "metadata": {},
   "outputs": [
    {
     "data": {
      "application/vnd.jupyter.widget-view+json": {
       "model_id": "14912822b06a4179a6f930575dc05381",
       "version_major": 2,
       "version_minor": 0
      },
      "text/plain": [
       "VBox()"
      ]
     },
     "metadata": {},
     "output_type": "display_data"
    },
    {
     "data": {
      "application/vnd.jupyter.widget-view+json": {
       "model_id": "",
       "version_major": 2,
       "version_minor": 0
      },
      "text/plain": [
       "FloatProgress(value=0.0, bar_style='info', description='Progress:', layout=Layout(height='25px', width='50%'),…"
      ]
     },
     "metadata": {},
     "output_type": "display_data"
    },
    {
     "name": "stdout",
     "output_type": "stream",
     "text": [
      "import org.apache.spark.sql.SaveMode\n",
      "mostCommonEndLocDF: org.apache.spark.sql.DataFrame = [license: string, endloc: bigint]\n"
     ]
    }
   ],
   "source": [
    "import org.apache.spark.sql.SaveMode\n",
    "val mostCommonEndLocDF = mostCommonEndLocByLicense.toDF(\"license\", \"endloc\")\n",
    "mostCommonEndLocDF.write.format(\"csv\").mode(SaveMode.Overwrite).save(\"s3a://\"+bucketname+\"/datasets/project/output/MaxLoc\")"
   ]
  },
  {
   "cell_type": "markdown",
   "id": "2edd8d3e",
   "metadata": {},
   "source": [
    "### Analisi sul guadagno medio di ogni singolo viaggio per ogni giorno\n",
    "Il codice ha lo scopo di calcolare il guadagno medio di ogni classe di licenza in base al giorno in cui si è svolto il viaggio. Il risultato è stato poi salvato in un file CSV.<br>\n",
    "Sono state eseguite le seguenti operazioni:\n",
    "* Viene eseguito creato un RDD (avgFareByDay) che associa a ciascuna coppia (classe di licenza, Giorno) una tupla contenente la somma del guadagno e il numero di viaggi durante il giorno.\n",
    "* Viene quindi eseguita una riduzione per chiave (reduceByKey) per aggregare i dati raggruppati per classe di licenza e giorno.\n",
    "* Successivamente, viene eseguita una mappatura (mapValues) per calcolare il guadagno medio di ogni viaggio per ogni giorno.\n",
    "* In seguito, viene eseguita una mappatura (map) per riorganizzare i dati e raggrupparli per classe di licenza.\n",
    "* Vengono poi eseguite ulteriori operazioni di trasformazione (flatMap e coalesce) per preparare i dati per il salvataggio su file CSV.\n",
    "* Infine, viene convertito l'RDD in un DataFrame e salvato in un file CSV.\n"
   ]
  },
  {
   "cell_type": "code",
   "execution_count": 40,
   "id": "72fe3eb8",
   "metadata": {},
   "outputs": [
    {
     "data": {
      "application/vnd.jupyter.widget-view+json": {
       "model_id": "52f26c86e01d4a2d879b3871e7d9212d",
       "version_major": 2,
       "version_minor": 0
      },
      "text/plain": [
       "VBox()"
      ]
     },
     "metadata": {},
     "output_type": "display_data"
    },
    {
     "data": {
      "application/vnd.jupyter.widget-view+json": {
       "model_id": "",
       "version_major": 2,
       "version_minor": 0
      },
      "text/plain": [
       "FloatProgress(value=0.0, bar_style='info', description='Progress:', layout=Layout(height='25px', width='50%'),…"
      ]
     },
     "metadata": {},
     "output_type": "display_data"
    },
    {
     "name": "stdout",
     "output_type": "stream",
     "text": [
      "avgFareByDay: org.apache.spark.rdd.RDD[(String, Double, Int)] = MapPartitionsRDD[159] at map at <console>:42\n"
     ]
    }
   ],
   "source": [
    "val avgFareByDay = rddTaxiTrip.map(x => ((x.licenseClass, getDayTime(x.pickup.getTime()).get(Calendar.DAY_OF_WEEK)), (x.fare, 1))).\n",
    "  reduceByKey((accum, value) => (accum._1 + value._1, accum._2 + value._2)).\n",
    "  mapValues(sumCount => sumCount._1 / sumCount._2).\n",
    "  map(item => (item._1._1, item._2, item._1._2))\n",
    "  //collect() //(licenza,avg,giorno)\n"
   ]
  },
  {
   "cell_type": "code",
   "execution_count": 41,
   "id": "155806d3",
   "metadata": {},
   "outputs": [
    {
     "data": {
      "application/vnd.jupyter.widget-view+json": {
       "model_id": "03fe1a1a42c0475b95f754ab6e44f76a",
       "version_major": 2,
       "version_minor": 0
      },
      "text/plain": [
       "VBox()"
      ]
     },
     "metadata": {},
     "output_type": "display_data"
    },
    {
     "data": {
      "application/vnd.jupyter.widget-view+json": {
       "model_id": "",
       "version_major": 2,
       "version_minor": 0
      },
      "text/plain": [
       "FloatProgress(value=0.0, bar_style='info', description='Progress:', layout=Layout(height='25px', width='50%'),…"
      ]
     },
     "metadata": {},
     "output_type": "display_data"
    },
    {
     "name": "stdout",
     "output_type": "stream",
     "text": [
      "avgFareByLicense: org.apache.spark.rdd.RDD[(String, Iterable[(Double, Int)])] = MapPartitionsRDD[162] at mapValues at <console>:40\n"
     ]
    }
   ],
   "source": [
    "// Raggruppo per licenza\n",
    "val avgFareByLicense = avgFareByDay.groupBy(_._1).\n",
    "  mapValues(_.map(item => (item._2, item._3)))//.collect()\n"
   ]
  },
  {
   "cell_type": "code",
   "execution_count": 42,
   "id": "f89db2b6",
   "metadata": {},
   "outputs": [
    {
     "data": {
      "application/vnd.jupyter.widget-view+json": {
       "model_id": "c7ba01d9f7e049ddaa2f9c5e0a831ca9",
       "version_major": 2,
       "version_minor": 0
      },
      "text/plain": [
       "VBox()"
      ]
     },
     "metadata": {},
     "output_type": "display_data"
    },
    {
     "data": {
      "application/vnd.jupyter.widget-view+json": {
       "model_id": "",
       "version_major": 2,
       "version_minor": 0
      },
      "text/plain": [
       "FloatProgress(value=0.0, bar_style='info', description='Progress:', layout=Layout(height='25px', width='50%'),…"
      ]
     },
     "metadata": {},
     "output_type": "display_data"
    },
    {
     "name": "stdout",
     "output_type": "stream",
     "text": [
      "avgFareByLicenseAndDay: org.apache.spark.rdd.RDD[((String, Int), Double)] = CoalescedRDD[164] at coalesce at <console>:43\n"
     ]
    }
   ],
   "source": [
    "//flatmap con chiave prodotto e anno\n",
    "val avgFareByLicenseAndDay = avgFareByLicense.flatMap { \n",
    "    case (license, dayFare) => dayFare.map { \n",
    "        case (avgFare, day) => ((license, day),avgFare)\n",
    "  }\n",
    "}.coalesce(1)"
   ]
  },
  {
   "cell_type": "code",
   "execution_count": 43,
   "id": "d555a8f4",
   "metadata": {},
   "outputs": [
    {
     "data": {
      "application/vnd.jupyter.widget-view+json": {
       "model_id": "1a9aa34c5ca54e0085ccd2dfb14ab766",
       "version_major": 2,
       "version_minor": 0
      },
      "text/plain": [
       "VBox()"
      ]
     },
     "metadata": {},
     "output_type": "display_data"
    },
    {
     "data": {
      "application/vnd.jupyter.widget-view+json": {
       "model_id": "",
       "version_major": 2,
       "version_minor": 0
      },
      "text/plain": [
       "FloatProgress(value=0.0, bar_style='info', description='Progress:', layout=Layout(height='25px', width='50%'),…"
      ]
     },
     "metadata": {},
     "output_type": "display_data"
    },
    {
     "name": "stdout",
     "output_type": "stream",
     "text": [
      "import org.apache.spark.sql.SaveMode\n",
      "df: org.apache.spark.sql.DataFrame = [_1: string, _2: int ... 1 more field]\n"
     ]
    }
   ],
   "source": [
    "import org.apache.spark.sql.SaveMode\n",
    "// Conversione in DataFrame con stringa\n",
    "val df = avgFareByLicenseAndDay.map{case ((license, day), avgFare) => (license,day,avgFare)}.toDF()\n",
    "\n",
    "// Salvataggio su file CSV\n",
    "df.write.format(\"csv\").mode(SaveMode.Overwrite).save(\"s3a://\"+bucketname+\"/datasets/project/output/avgFare\")"
   ]
  },
  {
   "cell_type": "code",
   "execution_count": null,
   "id": "cf40df6f",
   "metadata": {},
   "outputs": [],
   "source": []
  },
  {
   "cell_type": "code",
   "execution_count": 105,
   "id": "03ddace5",
   "metadata": {},
   "outputs": [
    {
     "data": {
      "application/vnd.jupyter.widget-view+json": {
       "model_id": "3ebac6cade5746ec9491e2295ff7bb6e",
       "version_major": 2,
       "version_minor": 0
      },
      "text/plain": [
       "VBox()"
      ]
     },
     "metadata": {},
     "output_type": "display_data"
    },
    {
     "data": {
      "application/vnd.jupyter.widget-view+json": {
       "model_id": "",
       "version_major": 2,
       "version_minor": 0
      },
      "text/plain": [
       "FloatProgress(value=0.0, bar_style='info', description='Progress:', layout=Layout(height='25px', width='50%'),…"
      ]
     },
     "metadata": {},
     "output_type": "display_data"
    }
   ],
   "source": [
    "//rddTaxiTrip.map(x => x.startloc).distinct().count()\n",
    "//rddTaxiTrip.map(x => x.license).distinct().count()\n",
    "//rddTaxiTrip2.map(x => x.startloc).distinct().count()\n",
    "//rddTaxiTrip2.map(x => x.license).distinct().count()\n",
    "//rddTaxiTrip.map(x => x.startloc).take(5)\n",
    "//rddTaxiTrip.map(x => x.license).take(5)\n",
    "//rddTaxiTrip.map(x => x.request).take(5)\n",
    "//rddTaxiTrip.map(x => x.request.getTime()).take(5)\n",
    "//rddTaxiTrip.map(x => x.fare).take(5)"
   ]
  }
 ],
 "metadata": {
  "kernelspec": {
   "display_name": "Spark",
   "language": "scala",
   "name": "sparkkernel"
  },
  "language_info": {
   "codemirror_mode": "text/x-scala",
   "file_extension": ".sc",
   "mimetype": "text/x-scala",
   "name": "scala",
   "pygments_lexer": "scala"
  }
 },
 "nbformat": 4,
 "nbformat_minor": 5
}
