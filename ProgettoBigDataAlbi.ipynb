{
 "cells": [
  {
   "cell_type": "markdown",
   "id": "7ca6d370",
   "metadata": {},
   "source": [
    "Il dataset analizzato (https://www.kaggle.com/datasets/shuhengmo/uber-nyc-forhire-vehicles-trip-data-2021), contiene informazioni sui viaggi fatti da varie licenze \"taxi\" nella città di New York.\n",
    "La grandezza totale del dataset è di 5 GB e contiene molte informazioni sui luogi di partenza, arrivo, prezzo e varie tempistiche come l'orario e giorno di partenza e quelli d'arrivo.\n",
    "\n"
   ]
  },
  {
   "cell_type": "code",
   "execution_count": null,
   "id": "3dd9066f-ba4d-4509-bb38-7b68db61974e",
   "metadata": {
    "execution": {
     "iopub.status.busy": "2023-05-02T14:56:30.622554Z",
     "iopub.status.idle": "2023-05-02T14:56:30.622827Z",
     "shell.execute_reply": "2023-05-02T14:56:30.622709Z"
    },
    "tags": []
   },
   "outputs": [],
   "source": [
    "%%configure -f\n",
    "{\"executorMemory\":\"5G\", \"numExecutors\":2, \"executorCores\":3, \"conf\":\n",
    "{\"spark.dynamicAllocation.enabled\": \"false\"}}\n"
   ]
  },
  {
   "cell_type": "code",
   "execution_count": 1,
   "id": "e065b9b8-df3a-4be8-9511-ac3dff1b2c5c",
   "metadata": {
    "execution": {
     "iopub.execute_input": "2023-05-02T14:56:48.458056Z",
     "iopub.status.busy": "2023-05-02T14:56:48.457735Z",
     "iopub.status.idle": "2023-05-02T14:57:21.879765Z",
     "shell.execute_reply": "2023-05-02T14:57:21.878870Z",
     "shell.execute_reply.started": "2023-05-02T14:56:48.458030Z"
    },
    "tags": []
   },
   "outputs": [
    {
     "data": {
      "application/vnd.jupyter.widget-view+json": {
       "model_id": "f164cdfe8bdf47a2b7fb315bd87d1904",
       "version_major": 2,
       "version_minor": 0
      },
      "text/plain": [
       "VBox()"
      ]
     },
     "metadata": {},
     "output_type": "display_data"
    },
    {
     "name": "stdout",
     "output_type": "stream",
     "text": [
      "Starting Spark application\n"
     ]
    },
    {
     "data": {
      "text/html": [
       "<table>\n",
       "<tr><th>ID</th><th>YARN Application ID</th><th>Kind</th><th>State</th><th>Spark UI</th><th>Driver log</th><th>User</th><th>Current session?</th></tr><tr><td>0</td><td>application_1686229754695_0001</td><td>spark</td><td>idle</td><td><a target=\"_blank\" href=\"http://ip-172-31-29-123.ec2.internal:20888/proxy/application_1686229754695_0001/\" class=\"emr-proxy-link\" emr-resource=\"j-16IDPGC5P1JVN\n",
       "\" application-id=\"application_1686229754695_0001\">Link</a></td><td><a target=\"_blank\" href=\"http://ip-172-31-19-210.ec2.internal:8042/node/containerlogs/container_1686229754695_0001_01_000001/livy\" >Link</a></td><td>None</td><td>✔</td></tr></table>"
      ],
      "text/plain": [
       "<IPython.core.display.HTML object>"
      ]
     },
     "metadata": {},
     "output_type": "display_data"
    },
    {
     "data": {
      "application/vnd.jupyter.widget-view+json": {
       "model_id": "",
       "version_major": 2,
       "version_minor": 0
      },
      "text/plain": [
       "FloatProgress(value=0.0, bar_style='info', description='Progress:', layout=Layout(height='25px', width='50%'),…"
      ]
     },
     "metadata": {},
     "output_type": "display_data"
    },
    {
     "name": "stdout",
     "output_type": "stream",
     "text": [
      "SparkSession available as 'spark'.\n"
     ]
    },
    {
     "data": {
      "application/vnd.jupyter.widget-view+json": {
       "model_id": "",
       "version_major": 2,
       "version_minor": 0
      },
      "text/plain": [
       "FloatProgress(value=0.0, bar_style='info', description='Progress:', layout=Layout(height='25px', width='50%'),…"
      ]
     },
     "metadata": {},
     "output_type": "display_data"
    },
    {
     "name": "stdout",
     "output_type": "stream",
     "text": [
      "bucketname: String = unibo-bd-antonelli2023\n",
      "path_ml_tripdata: String = s3a://unibo-bd-antonelli2023/datasets/fhvhv_tripdata_2021-01.parquet\n",
      "path_ml_tripdata2: String = s3a://unibo-bd-antonelli2023/datasets/fhvhv_tripdata_2021-02.parquet\n",
      "res3: String = application_1686229754695_0001\n",
      "res5: String = SPARK UI: Enable forwarding of port 20888 and connect to http://localhost:20888/proxy/application_1686229754695_0001/\n"
     ]
    }
   ],
   "source": [
    "val bucketname = \"unibo-bd-antonelli2023\"\n",
    "val path_ml_tripdata =\n",
    "\"s3a://\"+bucketname+\"/datasets/fhvhv_tripdata_2021-01.parquet\"\n",
    "//\"s3a://\"+bucketname+\"/datasets/project/2017/\"\n",
    "val path_ml_tripdata2 =\n",
    "\"s3a://\"+bucketname+\"/datasets/fhvhv_tripdata_2021-02.parquet\"\n",
    "\n",
    "sc.applicationId\n",
    "\n",
    "\"SPARK UI: Enable forwarding of port 20888 and connect to http://localhost:20888/proxy/\" + sc.applicationId + \"/\""
   ]
  },
  {
   "cell_type": "markdown",
   "id": "b36d4e57",
   "metadata": {},
   "source": [
    "I dati sono presenti nel formato Parquet; dopo essere stati importati, tutti i job sono stati fatti dopo una successiva conversione in RDD. I dati sono raggruppati mensilmente, per un totale di 12 file Parquet. \n",
    "\n",
    "Importazione dei dati in formato Parquet."
   ]
  },
  {
   "cell_type": "code",
   "execution_count": 122,
   "id": "f197b83d-b515-41c7-baf6-6799c2d06c4d",
   "metadata": {
    "execution": {
     "iopub.execute_input": "2023-05-02T15:09:24.941646Z",
     "iopub.status.busy": "2023-05-02T15:09:24.941321Z",
     "iopub.status.idle": "2023-05-02T15:09:36.258166Z",
     "shell.execute_reply": "2023-05-02T15:09:36.257233Z",
     "shell.execute_reply.started": "2023-05-02T15:09:24.941618Z"
    },
    "tags": []
   },
   "outputs": [
    {
     "data": {
      "application/vnd.jupyter.widget-view+json": {
       "model_id": "a2ec343126d948eebcf096f7b3b26114",
       "version_major": 2,
       "version_minor": 0
      },
      "text/plain": [
       "VBox()"
      ]
     },
     "metadata": {},
     "output_type": "display_data"
    },
    {
     "data": {
      "application/vnd.jupyter.widget-view+json": {
       "model_id": "",
       "version_major": 2,
       "version_minor": 0
      },
      "text/plain": [
       "FloatProgress(value=0.0, bar_style='info', description='Progress:', layout=Layout(height='25px', width='50%'),…"
      ]
     },
     "metadata": {},
     "output_type": "display_data"
    },
    {
     "name": "stdout",
     "output_type": "stream",
     "text": [
      "import spark.implicits._\n",
      "parquetFileDF: org.apache.spark.sql.DataFrame = [hvfhs_license_num: string, dispatching_base_num: string ... 22 more fields]\n",
      "parquetFileDF2: org.apache.spark.sql.DataFrame = [hvfhs_license_num: string, dispatching_base_num: string ... 22 more fields]\n"
     ]
    }
   ],
   "source": [
    "import spark.implicits._\n",
    "val parquetFileDF = spark.read.parquet(path_ml_tripdata)\n",
    "val parquetFileDF2 = spark.read.parquet(path_ml_tripdata2)"
   ]
  },
  {
   "cell_type": "markdown",
   "id": "4bc3603e",
   "metadata": {},
   "source": [
    "# Analisi dei campi del dataset\n",
    "* licenseClass: tipo stringa che rappresenta la licenza de taxi.\n",
    "\t* HV0002: Juno\n",
    "    * HV0003: Uber\n",
    "    * HV0004: Via\n",
    "    * HV0005: Lyft\n",
    "* license: tipo Stringa che rappresenta il numero del taxi.\n",
    "* request: tipo Timestamp che rappresenta la data/ora della richiesta del viaggio.\n",
    "* pickup: tipo Timestamp  che rappresenta la data/ora dell'inizio del viaggio.\n",
    "* dropoff: tipo Timestamp che rappresenta la data/ora della fine del viaggio.\n",
    "* distance: tipo Double che rappresenta la distanza totale in miglia percorsa dal taxi per questo viaggio.\n",
    "* startloc: tipo Long che rappresenta la zona di partenza del viaggio.\n",
    "* endloc: tipo Long che rappresenta la zona di arrivo del viaggio.\n",
    "* fare: tipo Double che rappresenta il prezzo del viaggio."
   ]
  },
  {
   "cell_type": "code",
   "execution_count": 123,
   "id": "e6f0c88e-57e1-4632-8efa-552c0006fd91",
   "metadata": {
    "execution": {
     "iopub.execute_input": "2023-05-02T15:28:01.761139Z",
     "iopub.status.busy": "2023-05-02T15:28:01.760829Z",
     "iopub.status.idle": "2023-05-02T15:28:02.514224Z",
     "shell.execute_reply": "2023-05-02T15:28:02.513439Z",
     "shell.execute_reply.started": "2023-05-02T15:28:01.761114Z"
    },
    "tags": []
   },
   "outputs": [
    {
     "data": {
      "application/vnd.jupyter.widget-view+json": {
       "model_id": "11ae9c0bcda84fdd894a5e9460fbe25a",
       "version_major": 2,
       "version_minor": 0
      },
      "text/plain": [
       "VBox()"
      ]
     },
     "metadata": {},
     "output_type": "display_data"
    },
    {
     "data": {
      "application/vnd.jupyter.widget-view+json": {
       "model_id": "",
       "version_major": 2,
       "version_minor": 0
      },
      "text/plain": [
       "FloatProgress(value=0.0, bar_style='info', description='Progress:', layout=Layout(height='25px', width='50%'),…"
      ]
     },
     "metadata": {},
     "output_type": "display_data"
    },
    {
     "name": "stdout",
     "output_type": "stream",
     "text": [
      "import java.sql.Timestamp\n",
      "defined class TaxiTrip\n",
      "defined object TaxiTrip\n",
      "warning: previously defined class TaxiTrip is not a companion to object TaxiTrip.\n",
      "Companions must be defined together; you may wish to use :paste mode for this.\n"
     ]
    }
   ],
   "source": [
    "import java.sql.Timestamp\n",
    "case class TaxiTrip(\n",
    "  licenseClass:String,\n",
    "  license:String,  \n",
    "  request:Timestamp,\n",
    "  pickup:Timestamp,\n",
    "  dropoff:Timestamp,\n",
    "  distance:Double,\n",
    "  startloc:Long,\n",
    "  endloc:Long,\n",
    "  //time:Long,\n",
    "  fare:Double,\n",
    ")\n",
    "\n",
    "object TaxiTrip {\n",
    "    def extract(row:org.apache.spark.sql.Row) = {\n",
    "        val licenseClass = row.getString(0)\n",
    "        val license = row.getString(1)\n",
    "        val request = row.getTimestamp(4)\n",
    "        val pickup = row.getTimestamp(5)\n",
    "        val dropoff = row.getTimestamp(6)\n",
    "        val distance = row.getDouble(9)\n",
    "        val startloc = row.getLong(7)\n",
    "        val endloc = row.getLong(8)\n",
    "        //val time = row.getLong(10)\n",
    "        val fare = row.getDouble(11)\n",
    "        \n",
    "        new TaxiTrip(licenseClass,license,request,pickup,dropoff,distance,startloc,endloc,fare)\n",
    "        \n",
    "\n",
    "        //new TaxiTrip(license,request,pickup,dropoff,startloc,endloc,distance,time,fare)\n",
    "    }\n",
    "}"
   ]
  },
  {
   "cell_type": "markdown",
   "id": "6f4cee4a",
   "metadata": {},
   "source": [
    "La seguente funzione serve per convertire da formato timestamp a calendar, in modo da poter estrarre informazioni come giorno del mese o ora del giorno. <br>\n",
    "Si può notare che il dataset conteneva \"trip_time\" ossia il totale del tempo in secondi che i passeggeri hanno passato sul taxi durante il viaggio. <br>Ho preferito definire una funzione perchè sarebbe stata utile per tutti i tempi importati dal dataset (request, pickup e dropoff)."
   ]
  },
  {
   "cell_type": "code",
   "execution_count": 124,
   "id": "a49dafe9-6e00-4430-a651-81cc461d0b20",
   "metadata": {
    "execution": {
     "iopub.execute_input": "2023-05-02T15:28:03.655889Z",
     "iopub.status.busy": "2023-05-02T15:28:03.655587Z",
     "iopub.status.idle": "2023-05-02T15:28:04.414267Z",
     "shell.execute_reply": "2023-05-02T15:28:04.413550Z",
     "shell.execute_reply.started": "2023-05-02T15:28:03.655864Z"
    },
    "tags": []
   },
   "outputs": [
    {
     "data": {
      "application/vnd.jupyter.widget-view+json": {
       "model_id": "edc49e05984f4c5fae20618e42ff4cd1",
       "version_major": 2,
       "version_minor": 0
      },
      "text/plain": [
       "VBox()"
      ]
     },
     "metadata": {},
     "output_type": "display_data"
    },
    {
     "data": {
      "application/vnd.jupyter.widget-view+json": {
       "model_id": "",
       "version_major": 2,
       "version_minor": 0
      },
      "text/plain": [
       "FloatProgress(value=0.0, bar_style='info', description='Progress:', layout=Layout(height='25px', width='50%'),…"
      ]
     },
     "metadata": {},
     "output_type": "display_data"
    },
    {
     "name": "stdout",
     "output_type": "stream",
     "text": [
      "import java.util.Calendar\n",
      "getDayTime: (time: Long)java.util.Calendar\n"
     ]
    }
   ],
   "source": [
    "import java.util.Calendar\n",
    "def getDayTime(time: Long): Calendar = {\n",
    "    var date:Calendar = Calendar.getInstance();\n",
    "    date.setTimeInMillis(time);\n",
    "    date\n",
    "}"
   ]
  },
  {
   "cell_type": "markdown",
   "id": "3b57b9f6",
   "metadata": {},
   "source": [
    "# Creazione e caching del RDD a partire dal file Parquet.\n",
    "Caching per migliorare le prestazioni in vista di futuri utilizzi. Si è optato per la scelta tenere due ripartizioni (quindi due task per core). Essendoci due executor con tre core ciascuno, il numero totale di core è sei. Quindi si è scelta una ripartizione di 12, anche se guardando i tempi di esecuzione il miglioramento è solo di qualche secondo."
   ]
  },
  {
   "cell_type": "code",
   "execution_count": 125,
   "id": "c0fc0cb6-743c-417b-aedd-4d485fcd83ad",
   "metadata": {
    "execution": {
     "iopub.execute_input": "2023-05-02T15:28:04.415655Z",
     "iopub.status.busy": "2023-05-02T15:28:04.415418Z",
     "iopub.status.idle": "2023-05-02T15:28:05.670742Z",
     "shell.execute_reply": "2023-05-02T15:28:05.669880Z",
     "shell.execute_reply.started": "2023-05-02T15:28:04.415631Z"
    },
    "tags": []
   },
   "outputs": [
    {
     "data": {
      "application/vnd.jupyter.widget-view+json": {
       "model_id": "3c9f9e80400f45aa93c3c5977e9fd76c",
       "version_major": 2,
       "version_minor": 0
      },
      "text/plain": [
       "VBox()"
      ]
     },
     "metadata": {},
     "output_type": "display_data"
    },
    {
     "data": {
      "application/vnd.jupyter.widget-view+json": {
       "model_id": "",
       "version_major": 2,
       "version_minor": 0
      },
      "text/plain": [
       "FloatProgress(value=0.0, bar_style='info', description='Progress:', layout=Layout(height='25px', width='50%'),…"
      ]
     },
     "metadata": {},
     "output_type": "display_data"
    },
    {
     "name": "stdout",
     "output_type": "stream",
     "text": [
      "import org.apache.spark.HashPartitioner\n",
      "p: org.apache.spark.HashPartitioner = org.apache.spark.HashPartitioner@c\n",
      "data_rdd: org.apache.spark.rdd.RDD[org.apache.spark.sql.Row] = MapPartitionsRDD[348] at rdd at <console>:56\n",
      "data_rdd2: org.apache.spark.rdd.RDD[org.apache.spark.sql.Row] = MapPartitionsRDD[354] at rdd at <console>:56\n",
      "rddTaxiTrip: org.apache.spark.rdd.RDD[TaxiTrip] = MapPartitionsRDD[355] at map at <console>:57\n",
      "rddTaxiTrip2: org.apache.spark.rdd.RDD[TaxiTrip] = MapPartitionsRDD[356] at map at <console>:57\n"
     ]
    }
   ],
   "source": [
    "import org.apache.spark.HashPartitioner\n",
    "val p = new HashPartitioner(12)\n",
    "val data_rdd = parquetFileDF.rdd\n",
    "val data_rdd2 = parquetFileDF2.rdd\n",
    "val rddTaxiTrip = data_rdd.map(TaxiTrip.extract)\n",
    "val rddTaxiTrip2 = data_rdd2.map(TaxiTrip.extract)\n"
   ]
  },
  {
   "cell_type": "markdown",
   "id": "bf22209e",
   "metadata": {},
   "source": [
    "# File di input\n",
    "Per tutte le seguenti query verranno utilizzati due file, i quali verranno uniti successivamente attraverso una union: il primo contenente i dati per il mese di gennaio 2021, il secondo contente i dati di febbraio 2021.\n",
    "<br>Avendo caricato tutti i file nella cartella è possibile fare confronti anche su mesi diversi, ed avendo Kaggle anche i dataset di anni precedenti la stessa analisi può essere effettutata anche su anni differenti. (Attenzione ad eventuali campi mancanti in dataset di anni precedenti). \n",
    "<br>La grandezza di input è di circa 380/390 MB a file.\n"
   ]
  },
  {
   "cell_type": "markdown",
   "id": "d02dcf96",
   "metadata": {},
   "source": [
    "## Numero totale di record"
   ]
  },
  {
   "cell_type": "code",
   "execution_count": null,
   "id": "23280221",
   "metadata": {},
   "outputs": [],
   "source": [
    "rddTaxiTrip.count()"
   ]
  },
  {
   "cell_type": "markdown",
   "id": "54e63f75",
   "metadata": {},
   "source": [
    "## Numero totale di zone di arrivo diverse\n",
    "Lo stesso numero sono quelle di partenza."
   ]
  },
  {
   "cell_type": "code",
   "execution_count": null,
   "id": "81d6de18",
   "metadata": {
    "execution": {
     "iopub.execute_input": "2023-05-02T15:28:05.672251Z",
     "iopub.status.busy": "2023-05-02T15:28:05.672000Z",
     "iopub.status.idle": "2023-05-02T15:28:33.006426Z",
     "shell.execute_reply": "2023-05-02T15:28:33.005594Z",
     "shell.execute_reply.started": "2023-05-02T15:28:05.672225Z"
    },
    "tags": []
   },
   "outputs": [],
   "source": [
    "rddTaxiTrip.map(x => x.endloc).distinct().count()"
   ]
  },
  {
   "cell_type": "code",
   "execution_count": 109,
   "id": "aa864729",
   "metadata": {},
   "outputs": [
    {
     "data": {
      "application/vnd.jupyter.widget-view+json": {
       "model_id": "60514da068e94fd7b84c5b3685932e10",
       "version_major": 2,
       "version_minor": 0
      },
      "text/plain": [
       "VBox()"
      ]
     },
     "metadata": {},
     "output_type": "display_data"
    },
    {
     "data": {
      "application/vnd.jupyter.widget-view+json": {
       "model_id": "",
       "version_major": 2,
       "version_minor": 0
      },
      "text/plain": [
       "FloatProgress(value=0.0, bar_style='info', description='Progress:', layout=Layout(height='25px', width='50%'),…"
      ]
     },
     "metadata": {},
     "output_type": "display_data"
    },
    {
     "name": "stdout",
     "output_type": "stream",
     "text": [
      "res193: Array[java.sql.Timestamp] = Array(2021-01-01 00:31:42.0, 2021-01-01 00:55:19.0, 2021-01-01 00:22:41.0, 2021-01-01 00:42:37.0, 2021-01-01 00:47:17.0)\n",
      "res194: Array[Long] = Array(1609461102000, 1609462519000, 1609460561000, 1609461757000, 1609462037000)\n"
     ]
    }
   ],
   "source": [
    "//rddTaxiTrip.map(x => x.startloc).distinct().count()\n",
    "//rddTaxiTrip.map(x => x.license).distinct().count()\n",
    "//rddTaxiTrip2.map(x => x.startloc).distinct().count()\n",
    "//rddTaxiTrip2.map(x => x.license).distinct().count()\n",
    "//rddTaxiTrip.map(x => x.startloc).take(5)\n",
    "//rddTaxiTrip.map(x => x.license).take(5)\n",
    "rddTaxiTrip.map(x => x.request).take(5)\n",
    "rddTaxiTrip.map(x => x.request.getTime()).take(5)\n",
    "//rddTaxiTrip.map(x => x.fare).take(5)"
   ]
  },
  {
   "cell_type": "markdown",
   "id": "8161b829",
   "metadata": {},
   "source": [
    "## Stampa delle classi di licenza \n",
    "Nel caso ne mancasse qualcuna significa che non è presente nel periodo di tempo considerato."
   ]
  },
  {
   "cell_type": "code",
   "execution_count": null,
   "id": "32449cfa",
   "metadata": {},
   "outputs": [],
   "source": [
    "rddTaxiTrip.map(x => x.licenseClass).distinct().collect()"
   ]
  },
  {
   "cell_type": "markdown",
   "id": "03e4c891",
   "metadata": {},
   "source": [
    "### VIAGGI PIU LUNGHI IN TERMINE DI KM, IN RELAZIONE CON LA DURATA DEL VIAGGIO\n"
   ]
  },
  {
   "cell_type": "code",
   "execution_count": null,
   "id": "1f432b96-c256-4e46-833b-d019f14bac51",
   "metadata": {
    "execution": {
     "iopub.execute_input": "2023-05-02T15:29:59.846745Z",
     "iopub.status.busy": "2023-05-02T15:29:59.846439Z",
     "iopub.status.idle": "2023-05-02T15:30:00.596610Z",
     "shell.execute_reply": "2023-05-02T15:30:00.595811Z",
     "shell.execute_reply.started": "2023-05-02T15:29:59.846720Z"
    }
   },
   "outputs": [],
   "source": [
    "val query1 = rddTaxiTrip.map(x => (x.distance, (x.dropoff.getTime() - x.pickup.getTime())/(60*1000)))\n",
    "val query1802 = rddTaxiTrip2.map(x => (x.distance, (x.dropoff.getTime() - x.pickup.getTime())/(60*1000)))"
   ]
  },
  {
   "cell_type": "code",
   "execution_count": null,
   "id": "40d6dac2-9be8-439f-8ea5-2b7e26102467",
   "metadata": {
    "execution": {
     "iopub.execute_input": "2023-05-02T15:30:22.561188Z",
     "iopub.status.busy": "2023-05-02T15:30:22.560881Z",
     "iopub.status.idle": "2023-05-02T15:30:23.309643Z",
     "shell.execute_reply": "2023-05-02T15:30:23.308883Z",
     "shell.execute_reply.started": "2023-05-02T15:30:22.561162Z"
    }
   },
   "outputs": [],
   "source": [
    "val query1union = query1.union(query1802).cache()"
   ]
  },
  {
   "cell_type": "code",
   "execution_count": null,
   "id": "43c2585a-6fbc-45a2-94a9-d0ced2056e2b",
   "metadata": {
    "execution": {
     "iopub.execute_input": "2023-05-02T15:30:36.614895Z",
     "iopub.status.busy": "2023-05-02T15:30:36.614554Z",
     "iopub.status.idle": "2023-05-02T15:31:25.999880Z",
     "shell.execute_reply": "2023-05-02T15:31:25.999158Z",
     "shell.execute_reply.started": "2023-05-02T15:30:36.614865Z"
    }
   },
   "outputs": [],
   "source": [
    "query1union.sortByKey(false).take(10)"
   ]
  },
  {
   "cell_type": "markdown",
   "id": "4d022c06",
   "metadata": {},
   "source": [
    "### VIAGGI PIU COSTOSI, IN RELAZIONE CON LA SOMMA TRA LUNGHEZZA E LA DURATA DEL VIAGGIO\n",
    "Aggiunto un filtro sulla distanza minima. Questo comporterà solo la stampa dei viaggi più costosi visto che ci si aspetta che l'andamento sia proporzionale tra distanza e costo."
   ]
  },
  {
   "cell_type": "code",
   "execution_count": null,
   "id": "20ffa170",
   "metadata": {},
   "outputs": [],
   "source": [
    "val query2 = rddTaxiTrip.filter(_.distance > 10).map(x => (x.fare, ((x.dropoff.getTime() - x.pickup.getTime())/(60*1000) + x.distance)))\n",
    "val query2802 = rddTaxiTrip2.filter(_.distance > 10).map(x => (x.fare, ((x.dropoff.getTime() - x.pickup.getTime())/(60*1000) + x.distance)))"
   ]
  },
  {
   "cell_type": "code",
   "execution_count": null,
   "id": "2e65fe78",
   "metadata": {},
   "outputs": [],
   "source": [
    "val query2union = query2.union(query2802).cache()"
   ]
  },
  {
   "cell_type": "code",
   "execution_count": null,
   "id": "936ae2cf",
   "metadata": {},
   "outputs": [],
   "source": [
    "query2union.sortByKey(false).take(10)"
   ]
  },
  {
   "cell_type": "markdown",
   "id": "3b09001a",
   "metadata": {},
   "source": [
    "### TEMPO DI VIAGGIO MEDIO, IN BASE ALLA ZONA DI PARTENZA"
   ]
  },
  {
   "cell_type": "code",
   "execution_count": 110,
   "id": "d8623d60-2dde-4ce2-b3ca-f2c33f7f8b28",
   "metadata": {
    "execution": {
     "iopub.execute_input": "2023-05-02T15:42:16.949801Z",
     "iopub.status.busy": "2023-05-02T15:42:16.949501Z",
     "iopub.status.idle": "2023-05-02T15:42:17.705139Z",
     "shell.execute_reply": "2023-05-02T15:42:17.704291Z",
     "shell.execute_reply.started": "2023-05-02T15:42:16.949775Z"
    },
    "tags": []
   },
   "outputs": [
    {
     "data": {
      "application/vnd.jupyter.widget-view+json": {
       "model_id": "8528e53bd2574736954a5911637ade1f",
       "version_major": 2,
       "version_minor": 0
      },
      "text/plain": [
       "VBox()"
      ]
     },
     "metadata": {},
     "output_type": "display_data"
    },
    {
     "data": {
      "application/vnd.jupyter.widget-view+json": {
       "model_id": "",
       "version_major": 2,
       "version_minor": 0
      },
      "text/plain": [
       "FloatProgress(value=0.0, bar_style='info', description='Progress:', layout=Layout(height='25px', width='50%'),…"
      ]
     },
     "metadata": {},
     "output_type": "display_data"
    },
    {
     "name": "stdout",
     "output_type": "stream",
     "text": [
      "query5: org.apache.spark.rdd.RDD[(Long, (Double, Double))] = ShuffledRDD[305] at partitionBy at <console>:52\n",
      "query51: org.apache.spark.rdd.RDD[(Long, (Double, Double))] = ShuffledRDD[308] at partitionBy at <console>:52\n",
      "query5union: org.apache.spark.rdd.RDD[(Long, (Double, Double))] = PartitionerAwareUnionRDD[309] at union at <console>:51\n"
     ]
    }
   ],
   "source": [
    "val query5 = rddTaxiTrip.map(x => (x.startloc, (x.dropoff.getTime() - x.request.getTime())/(60*1000))).\n",
    "    aggregateByKey((0.0,0.0))((a,v)=>(a._1+v,a._2+1),(a1,a2)=>(a1._1+a2._1,a1._2+a2._2)).partitionBy(p)\n",
    "val query51 = rddTaxiTrip2.map(x => (x.startloc, (x.dropoff.getTime() - x.request.getTime())/(60*1000))).\n",
    "    aggregateByKey((0.0,0.0))((a,v)=>(a._1+v,a._2+1),(a1,a2)=>(a1._1+a2._1,a1._2+a2._2)).partitionBy(p)\n",
    "val query5union = query5.union(query51).cache()"
   ]
  },
  {
   "cell_type": "markdown",
   "id": "45862c1a",
   "metadata": {},
   "source": [
    "##### Risultato raggruppato per vedere la differenza tra i due mesi rispetto alla zona di partenza"
   ]
  },
  {
   "cell_type": "code",
   "execution_count": 111,
   "id": "b0f93a71",
   "metadata": {},
   "outputs": [
    {
     "data": {
      "application/vnd.jupyter.widget-view+json": {
       "model_id": "82b2db132ad743a4bcbb5b74d8e271f9",
       "version_major": 2,
       "version_minor": 0
      },
      "text/plain": [
       "VBox()"
      ]
     },
     "metadata": {},
     "output_type": "display_data"
    },
    {
     "data": {
      "application/vnd.jupyter.widget-view+json": {
       "model_id": "",
       "version_major": 2,
       "version_minor": 0
      },
      "text/plain": [
       "FloatProgress(value=0.0, bar_style='info', description='Progress:', layout=Layout(height='25px', width='50%'),…"
      ]
     },
     "metadata": {},
     "output_type": "display_data"
    },
    {
     "name": "stderr",
     "output_type": "stream",
     "text": [
      "An error was encountered:\n",
      "org.apache.spark.SparkException: Job aborted due to stage failure: Task 1 in stage 256.0 failed 4 times, most recent failure: Lost task 1.3 in stage 256.0 (TID 894) (ip-172-31-16-174.ec2.internal executor 1): java.lang.NullPointerException\n",
      "\tat $anonfun$query5$1(<console>:51)\n",
      "\tat scala.collection.Iterator$$anon$10.next(Iterator.scala:461)\n",
      "\tat org.apache.spark.util.collection.ExternalSorter.insertAll(ExternalSorter.scala:199)\n",
      "\tat org.apache.spark.shuffle.sort.SortShuffleWriter.write(SortShuffleWriter.scala:65)\n",
      "\tat org.apache.spark.shuffle.ShuffleWriteProcessor.write(ShuffleWriteProcessor.scala:59)\n",
      "\tat org.apache.spark.scheduler.ShuffleMapTask.runTask(ShuffleMapTask.scala:99)\n",
      "\tat org.apache.spark.scheduler.ShuffleMapTask.runTask(ShuffleMapTask.scala:52)\n",
      "\tat org.apache.spark.scheduler.Task.run(Task.scala:138)\n",
      "\tat org.apache.spark.executor.Executor$TaskRunner.$anonfun$run$3(Executor.scala:548)\n",
      "\tat org.apache.spark.util.Utils$.tryWithSafeFinally(Utils.scala:1516)\n",
      "\tat org.apache.spark.executor.Executor$TaskRunner.run(Executor.scala:551)\n",
      "\tat java.util.concurrent.ThreadPoolExecutor.runWorker(ThreadPoolExecutor.java:1149)\n",
      "\tat java.util.concurrent.ThreadPoolExecutor$Worker.run(ThreadPoolExecutor.java:624)\n",
      "\tat java.lang.Thread.run(Thread.java:750)\n",
      "\n",
      "Driver stacktrace:\n",
      "  at org.apache.spark.scheduler.DAGScheduler.failJobAndIndependentStages(DAGScheduler.scala:2863)\n",
      "  at org.apache.spark.scheduler.DAGScheduler.$anonfun$abortStage$2(DAGScheduler.scala:2799)\n",
      "  at org.apache.spark.scheduler.DAGScheduler.$anonfun$abortStage$2$adapted(DAGScheduler.scala:2798)\n",
      "  at scala.collection.mutable.ResizableArray.foreach(ResizableArray.scala:62)\n",
      "  at scala.collection.mutable.ResizableArray.foreach$(ResizableArray.scala:55)\n",
      "  at scala.collection.mutable.ArrayBuffer.foreach(ArrayBuffer.scala:49)\n",
      "  at org.apache.spark.scheduler.DAGScheduler.abortStage(DAGScheduler.scala:2798)\n",
      "  at org.apache.spark.scheduler.DAGScheduler.$anonfun$handleTaskSetFailed$1(DAGScheduler.scala:1239)\n",
      "  at org.apache.spark.scheduler.DAGScheduler.$anonfun$handleTaskSetFailed$1$adapted(DAGScheduler.scala:1239)\n",
      "  at scala.Option.foreach(Option.scala:407)\n",
      "  at org.apache.spark.scheduler.DAGScheduler.handleTaskSetFailed(DAGScheduler.scala:1239)\n",
      "  at org.apache.spark.scheduler.DAGSchedulerEventProcessLoop.doOnReceive(DAGScheduler.scala:3051)\n",
      "  at org.apache.spark.scheduler.DAGSchedulerEventProcessLoop.onReceive(DAGScheduler.scala:2993)\n",
      "  at org.apache.spark.scheduler.DAGSchedulerEventProcessLoop.onReceive(DAGScheduler.scala:2982)\n",
      "  at org.apache.spark.util.EventLoop$$anon$1.run(EventLoop.scala:49)\n",
      "  at org.apache.spark.scheduler.DAGScheduler.runJob(DAGScheduler.scala:1009)\n",
      "  at org.apache.spark.SparkContext.runJob(SparkContext.scala:2229)\n",
      "  at org.apache.spark.SparkContext.runJob(SparkContext.scala:2250)\n",
      "  at org.apache.spark.SparkContext.runJob(SparkContext.scala:2269)\n",
      "  at org.apache.spark.SparkContext.runJob(SparkContext.scala:2294)\n",
      "  at org.apache.spark.rdd.RDD.$anonfun$collect$1(RDD.scala:1021)\n",
      "  at org.apache.spark.rdd.RDDOperationScope$.withScope(RDDOperationScope.scala:151)\n",
      "  at org.apache.spark.rdd.RDDOperationScope$.withScope(RDDOperationScope.scala:112)\n",
      "  at org.apache.spark.rdd.RDD.withScope(RDD.scala:406)\n",
      "  at org.apache.spark.rdd.RDD.collect(RDD.scala:1020)\n",
      "  at org.apache.spark.RangePartitioner$.sketch(Partitioner.scala:304)\n",
      "  at org.apache.spark.RangePartitioner.<init>(Partitioner.scala:171)\n",
      "  at org.apache.spark.RangePartitioner.<init>(Partitioner.scala:151)\n",
      "  at org.apache.spark.rdd.OrderedRDDFunctions.$anonfun$sortByKey$1(OrderedRDDFunctions.scala:64)\n",
      "  at org.apache.spark.rdd.RDDOperationScope$.withScope(RDDOperationScope.scala:151)\n",
      "  at org.apache.spark.rdd.RDDOperationScope$.withScope(RDDOperationScope.scala:112)\n",
      "  at org.apache.spark.rdd.RDD.withScope(RDD.scala:406)\n",
      "  at org.apache.spark.rdd.OrderedRDDFunctions.sortByKey(OrderedRDDFunctions.scala:63)\n",
      "  ... 60 elided\n",
      "Caused by: java.lang.NullPointerException\n",
      "  at $anonfun$query5$1(<console>:51)\n",
      "  at scala.collection.Iterator$$anon$10.next(Iterator.scala:461)\n",
      "  at org.apache.spark.util.collection.ExternalSorter.insertAll(ExternalSorter.scala:199)\n",
      "  at org.apache.spark.shuffle.sort.SortShuffleWriter.write(SortShuffleWriter.scala:65)\n",
      "  at org.apache.spark.shuffle.ShuffleWriteProcessor.write(ShuffleWriteProcessor.scala:59)\n",
      "  at org.apache.spark.scheduler.ShuffleMapTask.runTask(ShuffleMapTask.scala:99)\n",
      "  at org.apache.spark.scheduler.ShuffleMapTask.runTask(ShuffleMapTask.scala:52)\n",
      "  at org.apache.spark.scheduler.Task.run(Task.scala:138)\n",
      "  at org.apache.spark.executor.Executor$TaskRunner.$anonfun$run$3(Executor.scala:548)\n",
      "  at org.apache.spark.util.Utils$.tryWithSafeFinally(Utils.scala:1516)\n",
      "  at org.apache.spark.executor.Executor$TaskRunner.run(Executor.scala:551)\n",
      "  ... 3 more\n",
      "\n"
     ]
    }
   ],
   "source": [
    "query5union.map({case(k,v) => (k,v._1/v._2)}).groupByKey().map({case(k,v) => (v,k)}).sortByKey(false).take(10)"
   ]
  },
  {
   "cell_type": "markdown",
   "id": "0284adf3",
   "metadata": {},
   "source": [
    "#### Attenzione"
   ]
  },
  {
   "cell_type": "code",
   "execution_count": 68,
   "id": "d646a4f1",
   "metadata": {},
   "outputs": [
    {
     "data": {
      "application/vnd.jupyter.widget-view+json": {
       "model_id": "0bd6fa2d55214179950b854c42a0edd9",
       "version_major": 2,
       "version_minor": 0
      },
      "text/plain": [
       "VBox()"
      ]
     },
     "metadata": {},
     "output_type": "display_data"
    },
    {
     "data": {
      "application/vnd.jupyter.widget-view+json": {
       "model_id": "",
       "version_major": 2,
       "version_minor": 0
      },
      "text/plain": [
       "FloatProgress(value=0.0, bar_style='info', description='Progress:', layout=Layout(height='25px', width='50%'),…"
      ]
     },
     "metadata": {},
     "output_type": "display_data"
    },
    {
     "name": "stdout",
     "output_type": "stream",
     "text": [
      "query6: org.apache.spark.rdd.RDD[(Long, Long)] = MapPartitionsRDD[203] at map at <console>:30\n",
      "query61: org.apache.spark.rdd.RDD[(Long, Long)] = MapPartitionsRDD[204] at map at <console>:29\n",
      "query6union: org.apache.spark.rdd.RDD[(Long, Long)] = UnionRDD[205] at union at <console>:30\n"
     ]
    }
   ],
   "source": [
    "//CAPIRE QUALE è IL RISULTATO\n",
    "val query6 = rddTaxiTrip.map(x => (x.startloc, (x.dropoff.getTime() - x.pickup.getTime())/(60*1000)))\n",
    "val query61 = rddTaxiTrip2.map(x => (x.startloc, (x.dropoff.getTime() - x.pickup.getTime())/(60*1000)))\n",
    "val query6union = query5.union(query51).cache()"
   ]
  },
  {
   "cell_type": "code",
   "execution_count": 82,
   "id": "2f38c08a",
   "metadata": {},
   "outputs": [
    {
     "data": {
      "application/vnd.jupyter.widget-view+json": {
       "model_id": "d8e14b8a3e2e4d5c87a361dcbe4d1d48",
       "version_major": 2,
       "version_minor": 0
      },
      "text/plain": [
       "VBox()"
      ]
     },
     "metadata": {},
     "output_type": "display_data"
    },
    {
     "data": {
      "application/vnd.jupyter.widget-view+json": {
       "model_id": "",
       "version_major": 2,
       "version_minor": 0
      },
      "text/plain": [
       "FloatProgress(value=0.0, bar_style='info', description='Progress:', layout=Layout(height='25px', width='50%'),…"
      ]
     },
     "metadata": {},
     "output_type": "display_data"
    },
    {
     "name": "stdout",
     "output_type": "stream",
     "text": [
      "res153: org.apache.spark.rdd.RDD[(Long, (Double, Double))] = ShuffledRDD[242] at partitionBy at <console>:32\n"
     ]
    }
   ],
   "source": [
    "//query5union.take(3)\n",
    "query6union.aggregateByKey((0.0,0.0))((a,v)=>(a._1+v,a._2+1),(a1,a2)=>(a1._1+a2._1,a1._2+a2._2)).partitionBy(p)\n",
    "\n"
   ]
  },
  {
   "cell_type": "code",
   "execution_count": 86,
   "id": "d2711911",
   "metadata": {},
   "outputs": [
    {
     "data": {
      "application/vnd.jupyter.widget-view+json": {
       "model_id": "53d711d176584c14854fee8b54dc1bd5",
       "version_major": 2,
       "version_minor": 0
      },
      "text/plain": [
       "VBox()"
      ]
     },
     "metadata": {},
     "output_type": "display_data"
    },
    {
     "data": {
      "application/vnd.jupyter.widget-view+json": {
       "model_id": "",
       "version_major": 2,
       "version_minor": 0
      },
      "text/plain": [
       "FloatProgress(value=0.0, bar_style='info', description='Progress:', layout=Layout(height='25px', width='50%'),…"
      ]
     },
     "metadata": {},
     "output_type": "display_data"
    },
    {
     "name": "stdout",
     "output_type": "stream",
     "text": [
      "res157: Array[Long] = Array(15, 6, 16, 71, 7, 2, 3, 2, 16, 19)\n"
     ]
    }
   ],
   "source": [
    "\n",
    "query6union.map({case(k,v) => (k/v)}).take(10)"
   ]
  },
  {
   "cell_type": "code",
   "execution_count": 83,
   "id": "3d0a2da8",
   "metadata": {},
   "outputs": [
    {
     "data": {
      "application/vnd.jupyter.widget-view+json": {
       "model_id": "c2bc549b65e844d6844fec2cd9862c24",
       "version_major": 2,
       "version_minor": 0
      },
      "text/plain": [
       "VBox()"
      ]
     },
     "metadata": {},
     "output_type": "display_data"
    },
    {
     "data": {
      "application/vnd.jupyter.widget-view+json": {
       "model_id": "",
       "version_major": 2,
       "version_minor": 0
      },
      "text/plain": [
       "FloatProgress(value=0.0, bar_style='info', description='Progress:', layout=Layout(height='25px', width='50%'),…"
      ]
     },
     "metadata": {},
     "output_type": "display_data"
    },
    {
     "name": "stderr",
     "output_type": "stream",
     "text": [
      "An error was encountered:\n",
      "<console>:30: error: value _1 is not a member of Long\n",
      "       query6union.map({case(k,v) => (k,v._1/v._2)}).sortByKey(false).take(10)\n",
      "                                          ^\n",
      "<console>:30: error: value _2 is not a member of Long\n",
      "       query6union.map({case(k,v) => (k,v._1/v._2)}).sortByKey(false).take(10)\n",
      "                                               ^\n",
      "\n"
     ]
    }
   ],
   "source": [
    "query6union.map({case(k,v) => (k,v._1/v._2)}).sortByKey(false).take(10)"
   ]
  },
  {
   "cell_type": "markdown",
   "id": "a46913a6",
   "metadata": {},
   "source": [
    "IN MEDIA QUANTI VIAGGI FA CIASCUNA LICENZA"
   ]
  },
  {
   "cell_type": "code",
   "execution_count": 112,
   "id": "1f8c8afe",
   "metadata": {},
   "outputs": [
    {
     "data": {
      "application/vnd.jupyter.widget-view+json": {
       "model_id": "3839318a92934bebb73867742dc41b80",
       "version_major": 2,
       "version_minor": 0
      },
      "text/plain": [
       "VBox()"
      ]
     },
     "metadata": {},
     "output_type": "display_data"
    },
    {
     "data": {
      "application/vnd.jupyter.widget-view+json": {
       "model_id": "",
       "version_major": 2,
       "version_minor": 0
      },
      "text/plain": [
       "FloatProgress(value=0.0, bar_style='info', description='Progress:', layout=Layout(height='25px', width='50%'),…"
      ]
     },
     "metadata": {},
     "output_type": "display_data"
    },
    {
     "name": "stdout",
     "output_type": "stream",
     "text": [
      "q: (Int, Int) = (11908468,32)\n",
      "res198: String = Media: 372139\n"
     ]
    }
   ],
   "source": [
    "val q = rddTaxiTrip.map(x => (x.license,1)).\n",
    "reduceByKey(_+_).\n",
    "aggregate((0,0))((a,v)=>(a._1+v._2, a._2+1),(a1,a2)=>(a1._1+a2._1,a1._2+a2._2))\n",
    "\"Media: \" + (q._1/q._2)"
   ]
  },
  {
   "cell_type": "markdown",
   "id": "ea4e4d4e",
   "metadata": {},
   "source": [
    "CLASSE DI LICENZA CHE FA PIU VIAGGI, CON LA PRESENZA ANCHE DELLA TARIFFA CLIENTE"
   ]
  },
  {
   "cell_type": "code",
   "execution_count": 113,
   "id": "5c9563e6",
   "metadata": {
    "scrolled": true
   },
   "outputs": [
    {
     "data": {
      "application/vnd.jupyter.widget-view+json": {
       "model_id": "d2ee783d59ca4428ba0eda42fa49fd0d",
       "version_major": 2,
       "version_minor": 0
      },
      "text/plain": [
       "VBox()"
      ]
     },
     "metadata": {},
     "output_type": "display_data"
    },
    {
     "data": {
      "application/vnd.jupyter.widget-view+json": {
       "model_id": "",
       "version_major": 2,
       "version_minor": 0
      },
      "text/plain": [
       "FloatProgress(value=0.0, bar_style='info', description='Progress:', layout=Layout(height='25px', width='50%'),…"
      ]
     },
     "metadata": {},
     "output_type": "display_data"
    },
    {
     "name": "stdout",
     "output_type": "stream",
     "text": [
      "(HV0003,1.468278860287933E8,8704128)\n",
      "(HV0005,5.509768345985989E7,3094325)\n",
      "(HV0004,2816007.860000914,110015)\n"
     ]
    }
   ],
   "source": [
    "rddTaxiTrip.map(x => (x.licenseClass,(x.fare,1))).\n",
    "reduceByKey((t1,t2) => (t1._1+t2._1, t1._2+t2._2)).\n",
    "map(v => (v._1,v._2._1, v._2._2)).\n",
    "sortBy(_._2,false).\n",
    "collect().foreach(println(_))"
   ]
  },
  {
   "cell_type": "markdown",
   "id": "771eb861",
   "metadata": {},
   "source": [
    "LICENZA CHE FA PIU VIAGGI, CON LA PRESENZA ANCHE DELLA TARIFFA CLIENTE"
   ]
  },
  {
   "cell_type": "code",
   "execution_count": 114,
   "id": "711ff7ac",
   "metadata": {},
   "outputs": [
    {
     "data": {
      "application/vnd.jupyter.widget-view+json": {
       "model_id": "79bf3aecd71b481d8968389a484b44cc",
       "version_major": 2,
       "version_minor": 0
      },
      "text/plain": [
       "VBox()"
      ]
     },
     "metadata": {},
     "output_type": "display_data"
    },
    {
     "data": {
      "application/vnd.jupyter.widget-view+json": {
       "model_id": "",
       "version_major": 2,
       "version_minor": 0
      },
      "text/plain": [
       "FloatProgress(value=0.0, bar_style='info', description='Progress:', layout=Layout(height='25px', width='50%'),…"
      ]
     },
     "metadata": {},
     "output_type": "display_data"
    },
    {
     "name": "stdout",
     "output_type": "stream",
     "text": [
      "(B02510,5.503748608986006E7,3091000)\n",
      "(B02764,1.709378720999917E7,1009388)\n",
      "(B02872,1.5509604710001156E7,924960)\n",
      "(B02875,1.2014741050004447E7,735450)\n",
      "(B02765,1.0189792220006326E7,591242)\n",
      "(B02869,7744772.440006703,452098)\n",
      "(B02887,5608155.9400040135,333768)\n",
      "(B02871,5581241.000004057,330085)\n",
      "(B02682,5456731.730003582,321599)\n",
      "(B02866,5284853.590003659,309274)\n",
      "(B02864,5203100.810003353,316395)\n",
      "(B02878,5125333.480003258,312013)\n",
      "(B02617,4884453.930003084,281432)\n",
      "(B02883,4582633.870002626,268391)\n",
      "(B02884,4354322.950002186,257674)\n",
      "(B02882,4097472.360001952,241988)\n",
      "(B02876,3929723.280001779,230732)\n",
      "(B02867,3730036.2400015946,217449)\n",
      "(B02879,3572925.7100014733,216993)\n",
      "(B02877,3490842.3500013095,208986)\n",
      "(B02835,3355979.0300012426,200129)\n",
      "(B02888,3032522.3300008504,177542)\n",
      "(B02800,2776613.2300008354,108146)\n",
      "(B02889,2500286.6500002183,149398)\n",
      "(B02836,2385524.3700000723,140365)\n",
      "(B02395,2056890.0899998054,124107)\n",
      "(B02880,2039189.9299998167,119173)\n",
      "(B02870,1768859.4399998628,106975)\n",
      "(B02865,1385092.2499999353,82291)\n",
      "(B02512,849017.0699999768,44231)\n",
      "(B02844,60197.37000000005,3325)\n",
      "(B03136,39394.629999999925,1869)\n"
     ]
    }
   ],
   "source": [
    "rddTaxiTrip.map(x => (x.license,(x.fare,1))).\n",
    "reduceByKey((t1,t2) => (t1._1+t2._1, t1._2+t2._2)).\n",
    "map(v => (v._1,v._2._1, v._2._2)).\n",
    "sortBy(_._2,false).\n",
    "collect().foreach(println(_))"
   ]
  },
  {
   "cell_type": "markdown",
   "id": "2c1af28e",
   "metadata": {},
   "source": [
    "MAP PER QUERY GROUP BY LOCATION/TIME, REDUCE BY KEY PER CONTARE LE OCCORRENZE DEI RECORD, \n",
    "MAP PER SCAMBIARE CHIAVE-VALORE PER POTER ORDINARE I VALORI PER VEDERE LE ZONE/PERIODI PIU GETTONATI\n"
   ]
  },
  {
   "cell_type": "code",
   "execution_count": null,
   "id": "4cd46f70",
   "metadata": {},
   "outputs": [],
   "source": [
    "rddTaxiTrip.map(x => (x.startloc, 1)).reduceByKey((x,y) => x + y).map({case(k,v) => (v,k)}).sortByKey(false).collect()\n",
    "\n",
    "val query4 = rddTaxiTrip.map(x => (getDayTime(x.pickup.getTime()).get(Calendar.HOUR_OF_DAY), 1)).partitionBy(p)\n",
    "val query4802 = rddTaxiTrip2.map(x => (getDayTime(x.pickup.getTime()).get(Calendar.HOUR_OF_DAY), 1)).partitionBy(p)\n",
    "\n",
    "val query4union = query4.union(query4802).cache()\n",
    "\n",
    "query4union.reduceByKey((x,y) => x + y).map({case(k,v) => (v,k)}).sortByKey(false).collect()"
   ]
  },
  {
   "cell_type": "code",
   "execution_count": null,
   "id": "46a135b6",
   "metadata": {},
   "outputs": [],
   "source": [
    "val tableau = rddTaxiTrip.map(x => (getDayTime(x.pickup.getTime()).get(Calendar.DAY_OF_WEEK), 1)).\n",
    "                    reduceByKey((x,y) => x + y).map({case(k,v) => (v,k)}).sortByKey(false)"
   ]
  },
  {
   "cell_type": "markdown",
   "id": "91f21e51",
   "metadata": {},
   "source": [
    "DISTANZA MEDIA PERCORSA DAI TAXI IN UN SINGOLO VIAGGIO, IN RELAZIONE ALLA ZONA --> vale come query finale"
   ]
  },
  {
   "cell_type": "code",
   "execution_count": 157,
   "id": "321f1ef0",
   "metadata": {},
   "outputs": [
    {
     "data": {
      "application/vnd.jupyter.widget-view+json": {
       "model_id": "22d4818bf380473683cd4084ba2653ef",
       "version_major": 2,
       "version_minor": 0
      },
      "text/plain": [
       "VBox()"
      ]
     },
     "metadata": {},
     "output_type": "display_data"
    },
    {
     "data": {
      "application/vnd.jupyter.widget-view+json": {
       "model_id": "",
       "version_major": 2,
       "version_minor": 0
      },
      "text/plain": [
       "FloatProgress(value=0.0, bar_style='info', description='Progress:', layout=Layout(height='25px', width='50%'),…"
      ]
     },
     "metadata": {},
     "output_type": "display_data"
    },
    {
     "name": "stdout",
     "output_type": "stream",
     "text": [
      "query5: org.apache.spark.rdd.RDD[(Long, (Double, Double))] = ShuffledRDD[382] at partitionBy at <console>:58\n",
      "query51: org.apache.spark.rdd.RDD[(Long, (Double, Double))] = ShuffledRDD[386] at partitionBy at <console>:58\n"
     ]
    }
   ],
   "source": [
    "val query5 = rddTaxiTrip.filter(_.distance < 100).map(x => (x.startloc,x.distance)).\n",
    "    aggregateByKey((0.0,0.0))((a,v)=>(a._1+v,a._2+1),(a1,a2)=>(a1._1+a2._1,a1._2+a2._2)).partitionBy(p)\n",
    "val query51 = rddTaxiTrip2.filter(_.distance < 100).map(x => (x.startloc,x.distance)).\n",
    "    aggregateByKey((0.0,0.0))((a,v)=>(a._1+v,a._2+1),(a1,a2)=>(a1._1+a2._1,a1._2+a2._2)).partitionBy(p)"
   ]
  },
  {
   "cell_type": "code",
   "execution_count": 158,
   "id": "f71ade4a",
   "metadata": {},
   "outputs": [
    {
     "data": {
      "application/vnd.jupyter.widget-view+json": {
       "model_id": "18aaf3cbdd324b4794e45eff440062c8",
       "version_major": 2,
       "version_minor": 0
      },
      "text/plain": [
       "VBox()"
      ]
     },
     "metadata": {},
     "output_type": "display_data"
    },
    {
     "data": {
      "application/vnd.jupyter.widget-view+json": {
       "model_id": "",
       "version_major": 2,
       "version_minor": 0
      },
      "text/plain": [
       "FloatProgress(value=0.0, bar_style='info', description='Progress:', layout=Layout(height='25px', width='50%'),…"
      ]
     },
     "metadata": {},
     "output_type": "display_data"
    },
    {
     "name": "stdout",
     "output_type": "stream",
     "text": [
      "query5union: org.apache.spark.rdd.RDD[(Long, (Double, Double))] = PartitionerAwareUnionRDD[387] at union at <console>:57\n"
     ]
    }
   ],
   "source": [
    "val query5union = query5.union(query51).cache()"
   ]
  },
  {
   "cell_type": "code",
   "execution_count": 159,
   "id": "9b415fb7",
   "metadata": {},
   "outputs": [
    {
     "data": {
      "application/vnd.jupyter.widget-view+json": {
       "model_id": "0dc9826d9fa144a78b4c337ec517398f",
       "version_major": 2,
       "version_minor": 0
      },
      "text/plain": [
       "VBox()"
      ]
     },
     "metadata": {},
     "output_type": "display_data"
    },
    {
     "data": {
      "application/vnd.jupyter.widget-view+json": {
       "model_id": "",
       "version_major": 2,
       "version_minor": 0
      },
      "text/plain": [
       "FloatProgress(value=0.0, bar_style='info', description='Progress:', layout=Layout(height='25px', width='50%'),…"
      ]
     },
     "metadata": {},
     "output_type": "display_data"
    },
    {
     "name": "stdout",
     "output_type": "stream",
     "text": [
      "res239: Array[(Double, Long)] = Array((20.136333333333326,1), (19.978372093023246,1), (15.583862644195618,132), (14.864652072083206,132), (11.889173913043477,2), (10.915017273061434,138), (10.765875894988065,27), (10.74933302682418,138), (10.515,199), (10.507823529411766,110), (10.40900593471811,27), (9.162642857142858,110), (9.14,199), (8.924624093697727,46), (8.61814971482889,46), (7.930163748712669,44), (7.793376006573554,201), (7.706209863588672,265), (7.667520547945171,201), (7.6189385377943255,44), (7.448386711684551,101), (7.406741350906092,204), (7.399251434034412,194), (7.375441467436126,204), (7.307814302191469,265), (7.277923984132074,101), (7.179391827697307,117), (7.034868680734756,15), (6.987986581402682,19), (6.9764677950164495,194), (6.974829246935218,117), (6.9686778535...\n"
     ]
    }
   ],
   "source": [
    "query5union.map({case(k,v) => (k,v._1/v._2)}).map({case(k,v) => (v,k)}).sortByKey(false).collect()"
   ]
  },
  {
   "cell_type": "markdown",
   "id": "54200087",
   "metadata": {},
   "source": [
    "SQL"
   ]
  },
  {
   "cell_type": "code",
   "execution_count": 160,
   "id": "c679e1a5",
   "metadata": {},
   "outputs": [
    {
     "data": {
      "application/vnd.jupyter.widget-view+json": {
       "model_id": "6840af590db6460fac543e2bb71d027b",
       "version_major": 2,
       "version_minor": 0
      },
      "text/plain": [
       "VBox()"
      ]
     },
     "metadata": {},
     "output_type": "display_data"
    },
    {
     "data": {
      "application/vnd.jupyter.widget-view+json": {
       "model_id": "",
       "version_major": 2,
       "version_minor": 0
      },
      "text/plain": [
       "FloatProgress(value=0.0, bar_style='info', description='Progress:', layout=Layout(height='25px', width='50%'),…"
      ]
     },
     "metadata": {},
     "output_type": "display_data"
    },
    {
     "name": "stdout",
     "output_type": "stream",
     "text": [
      "parkDF: org.apache.spark.sql.DataFrame = [hvfhs_license_num: string, dispatching_base_num: string ... 22 more fields]\n"
     ]
    }
   ],
   "source": [
    "parquetFileDF.createOrReplaceTempView(\"parquetFile\")\n",
    "val parkDF = spark.sql(\"Select * from parquetFile\")"
   ]
  },
  {
   "cell_type": "code",
   "execution_count": 161,
   "id": "79458a96",
   "metadata": {},
   "outputs": [
    {
     "data": {
      "application/vnd.jupyter.widget-view+json": {
       "model_id": "7146fab4101f4ca2be652ea744112aa3",
       "version_major": 2,
       "version_minor": 0
      },
      "text/plain": [
       "VBox()"
      ]
     },
     "metadata": {},
     "output_type": "display_data"
    },
    {
     "data": {
      "application/vnd.jupyter.widget-view+json": {
       "model_id": "",
       "version_major": 2,
       "version_minor": 0
      },
      "text/plain": [
       "FloatProgress(value=0.0, bar_style='info', description='Progress:', layout=Layout(height='25px', width='50%'),…"
      ]
     },
     "metadata": {},
     "output_type": "display_data"
    },
    {
     "name": "stdout",
     "output_type": "stream",
     "text": [
      "res241: org.apache.spark.sql.DataFrame = [hvfhs_license_num: string, dispatching_base_num: string ... 22 more fields]\n"
     ]
    }
   ],
   "source": [
    "parkDF"
   ]
  },
  {
   "cell_type": "code",
   "execution_count": null,
   "id": "8c68fe6c",
   "metadata": {},
   "outputs": [],
   "source": []
  },
  {
   "cell_type": "markdown",
   "id": "a943f1ed",
   "metadata": {},
   "source": [
    "ANALISI SUL PREZZO MEDIO DI OGNI SINGOLO VIAGGIO PER OGNI GIORNO"
   ]
  },
  {
   "cell_type": "code",
   "execution_count": 139,
   "id": "f6c2babb",
   "metadata": {},
   "outputs": [
    {
     "data": {
      "application/vnd.jupyter.widget-view+json": {
       "model_id": "2cac8487f56b496786a50381e4bb6c1c",
       "version_major": 2,
       "version_minor": 0
      },
      "text/plain": [
       "VBox()"
      ]
     },
     "metadata": {},
     "output_type": "display_data"
    },
    {
     "data": {
      "application/vnd.jupyter.widget-view+json": {
       "model_id": "",
       "version_major": 2,
       "version_minor": 0
      },
      "text/plain": [
       "FloatProgress(value=0.0, bar_style='info', description='Progress:', layout=Layout(height='25px', width='50%'),…"
      ]
     },
     "metadata": {},
     "output_type": "display_data"
    },
    {
     "name": "stdout",
     "output_type": "stream",
     "text": [
      "avgPricesByYear: org.apache.spark.rdd.RDD[(String, Double, Int)] = MapPartitionsRDD[370] at map at <console>:60\n"
     ]
    }
   ],
   "source": [
    "val avgPricesByYear = rddTaxiTrip.map(x => ((x.licenseClass, getDayTime(x.pickup.getTime()).get(Calendar.DAY_OF_WEEK)), (x.fare, 1))).\n",
    "  reduceByKey((accum, value) => (accum._1 + value._1, accum._2 + value._2)).\n",
    "  mapValues(sumCount => sumCount._1 / sumCount._2).\n",
    "  map(item => (item._1._1, item._2, item._1._2))\n",
    "  //collect() //(licenza,avg,giorno)\n"
   ]
  },
  {
   "cell_type": "code",
   "execution_count": 140,
   "id": "9c347d28",
   "metadata": {},
   "outputs": [
    {
     "data": {
      "application/vnd.jupyter.widget-view+json": {
       "model_id": "53a864d4054b41a295d40fb10023443e",
       "version_major": 2,
       "version_minor": 0
      },
      "text/plain": [
       "VBox()"
      ]
     },
     "metadata": {},
     "output_type": "display_data"
    },
    {
     "data": {
      "application/vnd.jupyter.widget-view+json": {
       "model_id": "",
       "version_major": 2,
       "version_minor": 0
      },
      "text/plain": [
       "FloatProgress(value=0.0, bar_style='info', description='Progress:', layout=Layout(height='25px', width='50%'),…"
      ]
     },
     "metadata": {},
     "output_type": "display_data"
    },
    {
     "name": "stdout",
     "output_type": "stream",
     "text": [
      "avgPricesByProduct: org.apache.spark.rdd.RDD[(String, Iterable[(Double, Int)])] = MapPartitionsRDD[373] at mapValues at <console>:58\n"
     ]
    }
   ],
   "source": [
    "// Raggruppo per licenza\n",
    "val avgPricesByProduct = avgPricesByYear.groupBy(_._1).\n",
    "  mapValues(_.map(item => (item._2, item._3)))//.collect()\n"
   ]
  },
  {
   "cell_type": "code",
   "execution_count": 155,
   "id": "eec86e6d",
   "metadata": {},
   "outputs": [
    {
     "data": {
      "application/vnd.jupyter.widget-view+json": {
       "model_id": "928df33a5a454b63a723e474a07e3b17",
       "version_major": 2,
       "version_minor": 0
      },
      "text/plain": [
       "VBox()"
      ]
     },
     "metadata": {},
     "output_type": "display_data"
    },
    {
     "data": {
      "application/vnd.jupyter.widget-view+json": {
       "model_id": "",
       "version_major": 2,
       "version_minor": 0
      },
      "text/plain": [
       "FloatProgress(value=0.0, bar_style='info', description='Progress:', layout=Layout(height='25px', width='50%'),…"
      ]
     },
     "metadata": {},
     "output_type": "display_data"
    },
    {
     "name": "stdout",
     "output_type": "stream",
     "text": [
      "avgPricesByProductAndYear: Array[((String, Int), Double)] = Array(((HV0003,7),16.623800537801152), ((HV0003,3),16.708234621891965), ((HV0003,5),17.02267218913682), ((HV0003,6),17.248924009839303), ((HV0003,1),16.817135915591873), ((HV0003,4),16.717073180314657), ((HV0003,2),16.85329002257803), ((HV0004,7),26.234603123836248), ((HV0004,3),24.799659412100148), ((HV0004,6),26.32422286481737))\n"
     ]
    }
   ],
   "source": [
    "//flatmap con chiave prodotto e anno\n",
    "val avgPricesByProductAndYear = avgPricesByProduct.flatMap { \n",
    "    case (itemName, yearPrices) => yearPrices.map { \n",
    "        case (avgPrice, year) => ((itemName, year),avgPrice)\n",
    "        //(itemName,(year , avgPrice))\n",
    "  }\n",
    "}.take(10)"
   ]
  },
  {
   "cell_type": "code",
   "execution_count": 149,
   "id": "27085b27",
   "metadata": {},
   "outputs": [
    {
     "data": {
      "application/vnd.jupyter.widget-view+json": {
       "model_id": "dd4196f78f9e423ca97b2ec971d73b66",
       "version_major": 2,
       "version_minor": 0
      },
      "text/plain": [
       "VBox()"
      ]
     },
     "metadata": {},
     "output_type": "display_data"
    },
    {
     "data": {
      "application/vnd.jupyter.widget-view+json": {
       "model_id": "",
       "version_major": 2,
       "version_minor": 0
      },
      "text/plain": [
       "FloatProgress(value=0.0, bar_style='info', description='Progress:', layout=Layout(height='25px', width='50%'),…"
      ]
     },
     "metadata": {},
     "output_type": "display_data"
    },
    {
     "name": "stderr",
     "output_type": "stream",
     "text": [
      "An error was encountered:\n",
      "<console>:57: error: value groupByKey is not a member of Array[(String, (Int, Double))]\n",
      "       avgPricesByProductAndYear.groupByKey().take(10)\n",
      "                                 ^\n",
      "\n"
     ]
    }
   ],
   "source": [
    "avgPricesByProductAndYear.groupByKey().take(10)"
   ]
  },
  {
   "cell_type": "code",
   "execution_count": 156,
   "id": "2b473fc9",
   "metadata": {},
   "outputs": [
    {
     "data": {
      "application/vnd.jupyter.widget-view+json": {
       "model_id": "d4d58a1bceec442dbe99e592a9518ff1",
       "version_major": 2,
       "version_minor": 0
      },
      "text/plain": [
       "VBox()"
      ]
     },
     "metadata": {},
     "output_type": "display_data"
    },
    {
     "data": {
      "application/vnd.jupyter.widget-view+json": {
       "model_id": "",
       "version_major": 2,
       "version_minor": 0
      },
      "text/plain": [
       "FloatProgress(value=0.0, bar_style='info', description='Progress:', layout=Layout(height='25px', width='50%'),…"
      ]
     },
     "metadata": {},
     "output_type": "display_data"
    },
    {
     "name": "stderr",
     "output_type": "stream",
     "text": [
      "An error was encountered:\n",
      "<console>:57: error: value toDF is not a member of Array[(String, Int, Double)]\n",
      "       val df = avgPricesByProductAndYear.map{case ((itemName, year), avgPrice) => (itemName,year,avgPrice)}.toDF()\n",
      "                                                                                                             ^\n",
      "\n"
     ]
    }
   ],
   "source": [
    "\n",
    "\n",
    "// Conversione in DataFrame con stringa\n",
    "val df = avgPricesByProductAndYear.map{case ((itemName, year), avgPrice) => (itemName,year,avgPrice)}.toDF()\n",
    "\n",
    "// Salvataggio su file CSV\n",
    "df.write.format(\"csv\").mode(SaveMode.Overwrite).save(path_itemsForYear_revenue)"
   ]
  },
  {
   "cell_type": "code",
   "execution_count": null,
   "id": "51839ff3",
   "metadata": {},
   "outputs": [],
   "source": []
  }
 ],
 "metadata": {
  "kernelspec": {
   "display_name": "Spark",
   "language": "scala",
   "name": "sparkkernel"
  },
  "language_info": {
   "codemirror_mode": "text/x-scala",
   "file_extension": ".sc",
   "mimetype": "text/x-scala",
   "name": "scala",
   "pygments_lexer": "scala"
  }
 },
 "nbformat": 4,
 "nbformat_minor": 5
}
